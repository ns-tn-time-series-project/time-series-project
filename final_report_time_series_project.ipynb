{
 "cells": [
  {
   "cell_type": "markdown",
   "id": "411310c1",
   "metadata": {},
   "source": [
    "# Final Report  - Time Series Project\n",
    "\n",
    "Tarrence Nichols and Nathan Sharick - Innis Cohort"
   ]
  },
  {
   "cell_type": "markdown",
   "id": "dc816d09",
   "metadata": {},
   "source": [
    "---"
   ]
  },
  {
   "cell_type": "markdown",
   "id": "cf4ac9bd",
   "metadata": {},
   "source": [
    "### Project Description\n",
    "\n",
    "- "
   ]
  },
  {
   "cell_type": "markdown",
   "id": "53d354eb",
   "metadata": {},
   "source": [
    "### Project Goals\n",
    "\n",
    "- "
   ]
  },
  {
   "cell_type": "markdown",
   "id": "d5978c30",
   "metadata": {},
   "source": [
    "### Imports"
   ]
  },
  {
   "cell_type": "code",
   "execution_count": 1,
   "id": "9a63bdae",
   "metadata": {},
   "outputs": [],
   "source": [
    "import numpy as np\n",
    "import pandas as pd\n",
    "import matplotlib.pyplot as plt\n",
    "import seaborn as sns\n",
    "import os\n",
    "from env import get_db_url\n",
    "from sklearn.model_selection import train_test_split\n",
    "from acquire import get_superstore_df\n",
    "from acquire import clean_superstore_df"
   ]
  },
  {
   "cell_type": "markdown",
   "id": "65957261",
   "metadata": {},
   "source": [
    "### Acquire, Clean, and Wrangle the dataset\n",
    "\n",
    "- All data acquisition and data wrangling functions are located in the accompanying acquire.py file\n",
    "\n",
    "- The get_superstore_df function does...\n",
    "\n",
    "- The clean_superstore_df does...\n",
    "\n"
   ]
  },
  {
   "cell_type": "code",
   "execution_count": null,
   "id": "4e783f9d",
   "metadata": {},
   "outputs": [],
   "source": [
    "#acquire the dataset using the get_superstore_df function\n",
    "df = get_superstore_df()\n",
    "#complete initial cleaning and wrangling of the dataset with the clean_superstore_df function\n",
    "df = clean_superstore_df(df)"
   ]
  },
  {
   "cell_type": "markdown",
   "id": "9009be2c",
   "metadata": {},
   "source": [
    "---"
   ]
  },
  {
   "cell_type": "markdown",
   "id": "04781fce",
   "metadata": {},
   "source": [
    "### Exploration of Products\n",
    "\n",
    "- point 1...\n",
    "\n",
    "- point 2...\n",
    "\n",
    "- point 3...\n",
    "\n",
    "- etc..."
   ]
  },
  {
   "cell_type": "code",
   "execution_count": null,
   "id": "d60a669d",
   "metadata": {},
   "outputs": [],
   "source": []
  },
  {
   "cell_type": "code",
   "execution_count": null,
   "id": "6c55ecf0",
   "metadata": {},
   "outputs": [],
   "source": []
  },
  {
   "cell_type": "markdown",
   "id": "9216d883",
   "metadata": {},
   "source": [
    "### Key Takeaways from Product Exploration\n",
    "\n",
    "- takeaway 1...\n",
    "\n",
    "- etc..."
   ]
  },
  {
   "cell_type": "markdown",
   "id": "106e8c3b",
   "metadata": {},
   "source": [
    "---"
   ]
  },
  {
   "cell_type": "markdown",
   "id": "2afaf545",
   "metadata": {},
   "source": [
    "### Exploration of Regional Customer Data\n",
    "\n",
    "- point 1...\n",
    "\n",
    "- etc..."
   ]
  },
  {
   "cell_type": "code",
   "execution_count": null,
   "id": "c8f10d43",
   "metadata": {},
   "outputs": [],
   "source": [
    "#acquire the dataset with the get_superstore_df function\n",
    "df = get_superstore_df()\n",
    "#complete initial data cleaning/wrangling with the clean_superstore_df function\n",
    "df = clean_superstore_df(df)\n",
    "#seperate the dataset by region for regional and customer analysis\n",
    "east = df[df.region == 'East']\n",
    "west = df[df.region == 'West']\n",
    "central = df[df.region == 'Central']\n",
    "south = df[df.region == 'South']"
   ]
  },
  {
   "cell_type": "markdown",
   "id": "43e3f96c",
   "metadata": {},
   "source": [
    "#### Visualize yearly sales by region"
   ]
  },
  {
   "cell_type": "code",
   "execution_count": null,
   "id": "fdeacede",
   "metadata": {},
   "outputs": [],
   "source": [
    "##Plot the total yearly sales by region\n",
    "#plot each region as its own line\n",
    "east_sales.resample('Y').sum().plot()\n",
    "west_sales.resample('Y').sum().plot()\n",
    "central_sales.resample('Y').sum().plot()\n",
    "south_sales.resample('Y').sum().plot()\n",
    "#add a label to the x_axis\n",
    "plt.xlabel('Date of Order')\n",
    "#add a label to the y axis\n",
    "plt.ylabel('Sales Value')\n",
    "#add a title to the plot\n",
    "plt.title('Yearly Total Sales by Region')\n",
    "#add a legend to the plot\n",
    "plt.legend(loc=\"upper left\", bbox_to_anchor=(1, 1))"
   ]
  },
  {
   "cell_type": "code",
   "execution_count": null,
   "id": "ba83c888",
   "metadata": {},
   "outputs": [],
   "source": [
    "##Plot the average order value per year by region\n",
    "#plot each region as its own line\n",
    "east_sales.resample('Y').mean().plot()\n",
    "west_sales.resample('Y').mean().plot()\n",
    "central_sales.resample('Y').mean().plot()\n",
    "south_sales.resample('Y').mean().plot()\n",
    "#add a label to the x axis\n",
    "plt.xlabel('Date of Order')\n",
    "#add a label to the y axis\n",
    "plt.ylabel('Sale Value')\n",
    "#add a title to the plot\n",
    "plt.title('Yearly Average Customer Order Value by Region')\n",
    "#add a legend to the plot\n",
    "plt.legend(loc=\"upper left\", bbox_to_anchor=(1, 1))"
   ]
  },
  {
   "cell_type": "markdown",
   "id": "0e0477a0",
   "metadata": {},
   "source": [
    "#### Use a RFM analysis to rate and group each customer from the central region for targeted marketing "
   ]
  },
  {
   "cell_type": "code",
   "execution_count": null,
   "id": "ab98099f",
   "metadata": {},
   "outputs": [],
   "source": [
    "##RFM Analysis##\n",
    "#create a new dataframe with customer name and sales for all orders from the central region\n",
    "central_cust_sales = central[['cust_name', 'sales']]\n",
    "#add a column that contains the data of the most recent order made by the customer\n",
    "central_cust_sales['last_purchase'] = central_cust_sales['cust_name'].apply(lambda x: central_cust_sales[central_cust_sales['cust_name'] == x].index.max())\n",
    "#set a 'today' variable to calculate how many days since the customers last order\n",
    "today = pd.to_datetime('2017-12-30') \n",
    "#add a column for recency with the number of days since the customers last order\n",
    "central_cust_sales['recency'] = central_cust_sales['last_purchase'].apply(lambda x: (today - x).days)\n",
    "#add a column for frequency with the total number of orders the customer has made\n",
    "central_cust_sales['frequency'] = central_cust_sales['cust_name'].apply(lambda x: central_cust_sales[central_cust_sales['cust_name'] == x].size)\n",
    "#add a column for monetary with the total sales value for all that customers orders\n",
    "central_cust_sales['monetary'] = central_cust_sales['cust_name'].apply(lambda x: central_cust_sales[central_cust_sales['cust_name'] == x].sales.sum())\n",
    "#drop the sales and last purchase columns that were used to calculate the other columns\n",
    "central_customer_rating = central_cust_sales.drop(columns=['sales', 'last_purchase'])\n",
    "#group the dataframe by customer name to remove duplicate rows\n",
    "central_customer_rating = central_customer_rating.groupby('cust_name').max()\n",
    "\n",
    "#rank the customers in each of the three categories (recency, frequency, monetary)\n",
    "central_customer_rating['r_rank'] = central_customer_rating['recency'].rank(ascending=False)\n",
    "central_customer_rating['f_rank'] = central_customer_rating['frequency'].rank(ascending=True)\n",
    "central_customer_rating['m_rank'] = central_customer_rating['monetary'].rank(ascending=True)\n",
    "#normalize the rankings for overall scoring\n",
    "central_customer_rating['r_rank_norm'] = (central_customer_rating['r_rank']/central_customer_rating['r_rank'].max())*100\n",
    "central_customer_rating['f_rank_norm'] = (central_customer_rating['f_rank']/central_customer_rating['f_rank'].max())*100\n",
    "central_customer_rating['m_rank_norm'] = (central_customer_rating['m_rank']/central_customer_rating['m_rank'].max())*100\n",
    "#drop the original rank columns used for calculations\n",
    "central_customer_rating.drop(columns=['r_rank', 'f_rank', 'm_rank'], inplace=True)\n",
    "\n",
    "#calculate the customers rfm score\n",
    "central_customer_rating['rfm_score'] = (0.15*central_customer_rating['r_rank_norm'])+(0.28*central_customer_rating['f_rank_norm'])+(0.57*central_customer_rating['m_rank_norm'])\n",
    "#change the rfm score to a score between 0 and 5\n",
    "central_customer_rating['rfm_score'] *= 0.05\n",
    "#round the customers rfm score to 2 decimal places\n",
    "central_customer_rating.rfm_score = central_customer_rating.rfm_score.round(2)\n",
    "\n",
    "#add a column that groups customers into overall rating groups\n",
    "central_customer_rating['overall_customer_rating'] = pd.cut(central_customer_rating.rfm_score, bins=[0, 1.6, 3, 4, 4.5, 5], labels=['lost customer', 'low value customer', 'moderate value customer', 'high value customer', 'top customer'])\n",
    "#add a column that groups customers by recency ranking\n",
    "central_customer_rating['recency_rating'] = pd.cut(central_customer_rating.recency, bins=[0, 180, 360, 1500 ], labels=['high', 'moderate', 'low'])\n",
    "#add a column that groups customers by frequency rating\n",
    "central_customer_rating['frequency_rating'] = pd.cut(central_customer_rating.frequency, bins=[0, 13, 23, 33], labels=['low', 'moderate', 'high'])\n",
    "#add a column that groups customers by monetary rating\n",
    "central_customer_rating['monetary_rating'] = pd.cut(central_customer_rating.monetary, bins=[0, 1000, 5000, 11000], labels=['low', 'moderate', 'high'])\n",
    "#drop the normalized rank columns used to calculate customer groupings\n",
    "central_customer_rating.drop(columns=['r_rank_norm', 'f_rank_norm', 'm_rank_norm'], inplace=True)\n",
    "#view the resulting dataframe\n",
    "central_customer_rating\n"
   ]
  },
  {
   "cell_type": "markdown",
   "id": "60f051ae",
   "metadata": {},
   "source": [
    "### Key Takeaways from Customer Exploration\n",
    "\n",
    "- Takeaway 1...\n",
    "\n",
    "- etc..."
   ]
  },
  {
   "cell_type": "markdown",
   "id": "87ad854d",
   "metadata": {},
   "source": [
    "---"
   ]
  },
  {
   "cell_type": "markdown",
   "id": "e7598995",
   "metadata": {},
   "source": [
    "### Summary\n",
    "\n",
    "- point 1...\n",
    "\n",
    "- etc...\n"
   ]
  },
  {
   "cell_type": "markdown",
   "id": "f75be1fc",
   "metadata": {},
   "source": [
    "### Marketing Recomendations\n",
    "\n",
    "- **Recomendations based on product research**\n",
    "\n",
    "    - Recomendation 1....\n",
    "    \n",
    "    - Recomendation 2...\n",
    "    \n",
    "- **Recomendations based on customer research**\n",
    "\n",
    "    - Recomendation 1...\n",
    "    \n",
    "    - Recomendation 2..."
   ]
  },
  {
   "cell_type": "markdown",
   "id": "7e290e81",
   "metadata": {},
   "source": [
    "### Next Steps\n",
    "\n",
    "- next step 1...\n",
    "\n",
    "- etc..."
   ]
  },
  {
   "cell_type": "code",
   "execution_count": null,
   "id": "3e9a8c39",
   "metadata": {},
   "outputs": [],
   "source": []
  }
 ],
 "metadata": {
  "kernelspec": {
   "display_name": "Python 3 (ipykernel)",
   "language": "python",
   "name": "python3"
  },
  "language_info": {
   "codemirror_mode": {
    "name": "ipython",
    "version": 3
   },
   "file_extension": ".py",
   "mimetype": "text/x-python",
   "name": "python",
   "nbconvert_exporter": "python",
   "pygments_lexer": "ipython3",
   "version": "3.9.7"
  }
 },
 "nbformat": 4,
 "nbformat_minor": 5
}
