{
 "cells": [
  {
   "cell_type": "markdown",
   "id": "c9dbfcf6",
   "metadata": {},
   "source": [
    "# Final Report  - Time Series Project\n",
    "\n",
    "Tarrence Nichols and Nathan Sharick - Innis Cohort"
   ]
  },
  {
   "cell_type": "markdown",
   "id": "c702825e",
   "metadata": {},
   "source": [
    "---"
   ]
  },
  {
   "cell_type": "markdown",
   "id": "680dcc2c",
   "metadata": {},
   "source": [
    "### Project Description\n",
    "\n",
    "- "
   ]
  },
  {
   "cell_type": "markdown",
   "id": "1702cedc",
   "metadata": {},
   "source": [
    "### Project Goals\n",
    "\n",
    "- "
   ]
  },
  {
   "cell_type": "markdown",
   "id": "8e1869fb",
   "metadata": {},
   "source": [
    "### Imports"
   ]
  },
  {
   "cell_type": "code",
   "execution_count": 1,
   "id": "9396fdac",
   "metadata": {},
   "outputs": [],
   "source": [
    "import numpy as np\n",
    "import pandas as pd\n",
    "import matplotlib.pyplot as plt\n",
    "import seaborn as sns\n",
    "import os\n",
    "from env import get_db_url\n",
    "from sklearn.model_selection import train_test_split\n",
    "from acquire import get_superstore_df\n",
    "from acquire import clean_superstore_df"
   ]
  },
  {
   "cell_type": "markdown",
   "id": "62325809",
   "metadata": {},
   "source": [
    "### Acquire, Clean, and Wrangle the dataset\n",
    "\n",
    "- All data acquisition and data wrangling functions are located in the accompanying acquire.py file\n",
    "\n",
    "- The get_superstore_df function does...\n",
    "\n",
    "- The clean_superstore_df does...\n",
    "\n"
   ]
  },
  {
   "cell_type": "code",
   "execution_count": null,
   "id": "f8b338e7",
   "metadata": {},
   "outputs": [],
   "source": [
    "#acquire the dataset using the get_superstore_df function\n",
    "df = get_superstore_df()\n",
    "#complete initial cleaning and wrangling of the dataset with the clean_superstore_df function\n",
    "df = clean_superstore_df(df)"
   ]
  },
  {
   "cell_type": "markdown",
   "id": "c5ac02e5",
   "metadata": {},
   "source": [
    "---"
   ]
  },
  {
   "cell_type": "markdown",
   "id": "a81526e1",
   "metadata": {},
   "source": [
    "### Exploration of Products\n",
    "\n",
    "- point 1...\n",
    "\n",
    "- point 2...\n",
    "\n",
    "- point 3...\n",
    "\n",
    "- etc..."
   ]
  },
  {
   "cell_type": "code",
   "execution_count": null,
   "id": "efeb8afe",
   "metadata": {},
   "outputs": [],
   "source": []
  },
  {
   "cell_type": "code",
   "execution_count": null,
   "id": "19cfcdd6",
   "metadata": {},
   "outputs": [],
   "source": []
  },
  {
   "cell_type": "markdown",
   "id": "9f7408ab",
   "metadata": {},
   "source": [
    "### Key Takeaways from Product Exploration\n",
    "\n",
    "- takeaway 1...\n",
    "\n",
    "- etc..."
   ]
  },
  {
   "cell_type": "markdown",
   "id": "58073762",
   "metadata": {},
   "source": [
    "---"
   ]
  },
  {
   "cell_type": "markdown",
   "id": "ae1a77a7",
   "metadata": {},
   "source": [
    "### Exploration of Regional Customer Data\n",
    "\n",
    "- point 1...\n",
    "\n",
    "- etc..."
   ]
  },
  {
   "cell_type": "code",
   "execution_count": null,
   "id": "03c21b31",
   "metadata": {},
   "outputs": [],
   "source": [
    "df = get_superstore_df()\n",
    "df = clean_superstore_df(df)\n",
    "\n",
    "east = df[df.region == 'East']\n",
    "west = df[df.region == 'West']\n",
    "central = df[df.region == 'Central']\n",
    "south = df[df.region == 'South']"
   ]
  },
  {
   "cell_type": "code",
   "execution_count": null,
   "id": "99a6d1c6",
   "metadata": {},
   "outputs": [],
   "source": [
    "east_sales.resample('Y').sum().plot()\n",
    "west_sales.resample('Y').sum().plot()\n",
    "central_sales.resample('Y').sum().plot()\n",
    "south_sales.resample('Y').sum().plot()\n",
    "plt.xlabel('Date of Order')\n",
    "plt.ylabel('Sales Value')\n",
    "plt.title('Yearly Total Sales by Region')\n",
    "plt.legend(loc=\"upper left\", bbox_to_anchor=(1, 1))"
   ]
  },
  {
   "cell_type": "code",
   "execution_count": null,
   "id": "62197a05",
   "metadata": {},
   "outputs": [],
   "source": [
    "east_sales.resample('Y').mean().plot()\n",
    "west_sales.resample('Y').mean().plot()\n",
    "central_sales.resample('Y').mean().plot()\n",
    "south_sales.resample('Y').mean().plot()\n",
    "plt.xlabel('Date of Order')\n",
    "plt.ylabel('Sale Value')\n",
    "plt.title('Yearly Average Customer Order Value by Region')\n",
    "plt.legend(loc=\"upper left\", bbox_to_anchor=(1, 1))"
   ]
  },
  {
   "cell_type": "code",
   "execution_count": null,
   "id": "ef8b9852",
   "metadata": {},
   "outputs": [],
   "source": [
    "central_cust_sales = central[['cust_name', 'sales']]\n",
    "central_cust_sales['last_purchase'] = central_cust_sales['cust_name'].apply(lambda x: central_cust_sales[central_cust_sales['cust_name'] == x].index.max())\n",
    "today = pd.to_datetime('2017-12-30') \n",
    "central_cust_sales['recency'] = central_cust_sales['last_purchase'].apply(lambda x: (today - x).days)\n",
    "central_cust_sales['frequency'] = central_cust_sales['cust_name'].apply(lambda x: central_cust_sales[central_cust_sales['cust_name'] == x].size)\n",
    "central_cust_sales['monetary'] = central_cust_sales['cust_name'].apply(lambda x: central_cust_sales[central_cust_sales['cust_name'] == x].sales.sum())\n",
    "central_customer_rating = central_cust_sales.drop(columns=['sales', 'last_purchase'])\n",
    "central_customer_rating = central_customer_rating.groupby('cust_name').max()\n",
    "\n",
    "#rank the customers in each of the three categories (recency, frequency, monetary)\n",
    "central_customer_rating['r_rank'] = central_customer_rating['recency'].rank(ascending=False)\n",
    "central_customer_rating['f_rank'] = central_customer_rating['frequency'].rank(ascending=True)\n",
    "central_customer_rating['m_rank'] = central_customer_rating['monetary'].rank(ascending=True)\n",
    "#normalize the rankings for overall scoring\n",
    "central_customer_rating['r_rank_norm'] = (central_customer_rating['r_rank']/central_customer_rating['r_rank'].max())*100\n",
    "central_customer_rating['f_rank_norm'] = (central_customer_rating['f_rank']/central_customer_rating['f_rank'].max())*100\n",
    "central_customer_rating['m_rank_norm'] = (central_customer_rating['m_rank']/central_customer_rating['m_rank'].max())*100\n",
    "#drop the original rank columns used for calculations\n",
    "central_customer_rating.drop(columns=['r_rank', 'f_rank', 'm_rank'], inplace=True)\n",
    "\n",
    "central_customer_rating['rfm_score'] = (0.15*central_customer_rating['r_rank_norm'])+(0.28*central_customer_rating['f_rank_norm'])+(0.57*central_customer_rating['m_rank_norm'])\n",
    "central_customer_rating['rfm_score'] *= 0.05\n",
    "central_customer_rating.rfm_score = central_customer_rating.rfm_score.round(2)\n",
    "\n",
    "central_customer_rating['overall_customer_rating'] = pd.cut(central_customer_rating.rfm_score, bins=[0, 1.6, 3, 4, 4.5, 5], labels=['lost customer', 'low value customer', 'moderate value customer', 'high value customer', 'top customer'])\n",
    "central_customer_rating['recency_rating'] = pd.cut(central_customer_rating.recency, bins=[0, 180, 360, 1500 ], labels=['high', 'moderate', 'low'])\n",
    "central_customer_rating['frequency_rating'] = pd.cut(central_customer_rating.frequency, bins=[0, 13, 23, 33], labels=['low', 'moderate', 'high'])\n",
    "central_customer_rating['monetary_rating'] = pd.cut(central_customer_rating.monetary, bins=[0, 1000, 5000, 11000], labels=['low', 'moderate', 'high'])\n",
    "central_customer_rating.drop(columns=['r_rank_norm', 'f_rank_norm', 'm_rank_norm'], inplace=True)\n",
    "\n",
    "central_customer_rating\n"
   ]
  },
  {
   "cell_type": "markdown",
   "id": "c127c427",
   "metadata": {},
   "source": [
    "### Key Takeaways from Customer Exploration\n",
    "\n",
    "- Takeaway 1...\n",
    "\n",
    "- etc..."
   ]
  },
  {
   "cell_type": "markdown",
   "id": "11c2b350",
   "metadata": {},
   "source": [
    "---"
   ]
  },
  {
   "cell_type": "markdown",
   "id": "5f19cba5",
   "metadata": {},
   "source": [
    "### Summary\n",
    "\n",
    "- point 1...\n",
    "\n",
    "- etc...\n"
   ]
  },
  {
   "cell_type": "markdown",
   "id": "8648dc20",
   "metadata": {},
   "source": [
    "### Marketing Recomendations\n",
    "\n",
    "- **Recomendations based on product research**\n",
    "\n",
    "    - Recomendation 1....\n",
    "    \n",
    "    - Recomendation 2...\n",
    "    \n",
    "- **Recomendations based on customer research**\n",
    "\n",
    "    - Recomendation 1...\n",
    "    \n",
    "    - Recomendation 2..."
   ]
  },
  {
   "cell_type": "markdown",
   "id": "08809d81",
   "metadata": {},
   "source": [
    "### Next Steps\n",
    "\n",
    "- next step 1...\n",
    "\n",
    "- etc..."
   ]
  },
  {
   "cell_type": "code",
   "execution_count": null,
   "id": "18cd80c3",
   "metadata": {},
   "outputs": [],
   "source": []
  }
 ],
 "metadata": {
  "kernelspec": {
   "display_name": "Python 3 (ipykernel)",
   "language": "python",
   "name": "python3"
  },
  "language_info": {
   "codemirror_mode": {
    "name": "ipython",
    "version": 3
   },
   "file_extension": ".py",
   "mimetype": "text/x-python",
   "name": "python",
   "nbconvert_exporter": "python",
   "pygments_lexer": "ipython3",
   "version": "3.9.7"
  }
 },
 "nbformat": 4,
 "nbformat_minor": 5
}
