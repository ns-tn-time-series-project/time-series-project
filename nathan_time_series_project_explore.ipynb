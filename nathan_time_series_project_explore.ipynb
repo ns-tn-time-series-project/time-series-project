{
 "cells": [
  {
   "cell_type": "code",
   "execution_count": 1,
   "id": "fbbe6a45",
   "metadata": {},
   "outputs": [],
   "source": [
    "import numpy as np\n",
    "import pandas as pd\n",
    "import matplotlib.pyplot as plt\n",
    "import seaborn as sns\n",
    "import os\n",
    "from env import get_db_url\n",
    "from sklearn.model_selection import train_test_split\n",
    "from acquire import get_superstore_df\n",
    "from acquire import clean_superstore_df"
   ]
  },
  {
   "cell_type": "code",
   "execution_count": 2,
   "id": "2d0cc499",
   "metadata": {},
   "outputs": [],
   "source": [
    "def acquire_superstore():\n",
    "    \n",
    "    #assign the file name\n",
    "    filename = 'superstore.csv'\n",
    "    #check if the file exists in the current directory and read it if it is\n",
    "    if os.path.exists(filename):\n",
    "        print('Reading from csv file...')\n",
    "        #read the local .csv into the notebook\n",
    "        df = pd.read_csv(filename)\n",
    "        return df\n",
    "    #assign the sql query to a variable for use in pulling a new copy of the dataset from the database\n",
    "    query = '''\n",
    "    SELECT * FROM orders\n",
    "    JOIN categories USING(`Category ID`)\n",
    "    JOIN customers USING(`Customer ID`)\n",
    "    JOIN products USING(`Product ID`)\n",
    "    JOIN regions USING(`Region ID`);\n",
    "    '''\n",
    "    #if needed pull a fresh copy of the dataset from the database\n",
    "    print('Getting a fresh copy from SQL database...')\n",
    "    df = pd.read_sql(query, get_db_url('superstore_db'))\n",
    "    #save a copy of the dataset to the local directory as a .csv file\n",
    "    df.to_csv(filename, index=False)\n",
    "    return df"
   ]
  },
  {
   "cell_type": "code",
   "execution_count": 3,
   "id": "9a3b50e6",
   "metadata": {},
   "outputs": [
    {
     "name": "stdout",
     "output_type": "stream",
     "text": [
      "Reading from csv file...\n"
     ]
    }
   ],
   "source": [
    "df = acquire_superstore()"
   ]
  },
  {
   "cell_type": "code",
   "execution_count": 4,
   "id": "821587a2",
   "metadata": {},
   "outputs": [
    {
     "data": {
      "text/html": [
       "<div>\n",
       "<style scoped>\n",
       "    .dataframe tbody tr th:only-of-type {\n",
       "        vertical-align: middle;\n",
       "    }\n",
       "\n",
       "    .dataframe tbody tr th {\n",
       "        vertical-align: top;\n",
       "    }\n",
       "\n",
       "    .dataframe thead th {\n",
       "        text-align: right;\n",
       "    }\n",
       "</style>\n",
       "<table border=\"1\" class=\"dataframe\">\n",
       "  <thead>\n",
       "    <tr style=\"text-align: right;\">\n",
       "      <th></th>\n",
       "      <th>Region ID</th>\n",
       "      <th>Product ID</th>\n",
       "      <th>Customer ID</th>\n",
       "      <th>Category ID</th>\n",
       "      <th>Order ID</th>\n",
       "      <th>Order Date</th>\n",
       "      <th>Ship Date</th>\n",
       "      <th>Ship Mode</th>\n",
       "      <th>Segment</th>\n",
       "      <th>Country</th>\n",
       "      <th>...</th>\n",
       "      <th>Postal Code</th>\n",
       "      <th>Sales</th>\n",
       "      <th>Quantity</th>\n",
       "      <th>Discount</th>\n",
       "      <th>Profit</th>\n",
       "      <th>Category</th>\n",
       "      <th>Sub-Category</th>\n",
       "      <th>Customer Name</th>\n",
       "      <th>Product Name</th>\n",
       "      <th>Region Name</th>\n",
       "    </tr>\n",
       "  </thead>\n",
       "  <tbody>\n",
       "    <tr>\n",
       "      <th>0</th>\n",
       "      <td>1</td>\n",
       "      <td>FUR-BO-10001798</td>\n",
       "      <td>CG-12520</td>\n",
       "      <td>1</td>\n",
       "      <td>CA-2016-152156</td>\n",
       "      <td>2016-11-08</td>\n",
       "      <td>2016-11-11</td>\n",
       "      <td>Second Class</td>\n",
       "      <td>Consumer</td>\n",
       "      <td>United States</td>\n",
       "      <td>...</td>\n",
       "      <td>42420.0</td>\n",
       "      <td>261.9600</td>\n",
       "      <td>2.0</td>\n",
       "      <td>0.00</td>\n",
       "      <td>41.9136</td>\n",
       "      <td>Furniture</td>\n",
       "      <td>Bookcases</td>\n",
       "      <td>Claire Gute</td>\n",
       "      <td>Bush Somerset Collection Bookcase</td>\n",
       "      <td>South</td>\n",
       "    </tr>\n",
       "    <tr>\n",
       "      <th>1</th>\n",
       "      <td>1</td>\n",
       "      <td>FUR-CH-10000454</td>\n",
       "      <td>CG-12520</td>\n",
       "      <td>2</td>\n",
       "      <td>CA-2016-152156</td>\n",
       "      <td>2016-11-08</td>\n",
       "      <td>2016-11-11</td>\n",
       "      <td>Second Class</td>\n",
       "      <td>Consumer</td>\n",
       "      <td>United States</td>\n",
       "      <td>...</td>\n",
       "      <td>42420.0</td>\n",
       "      <td>731.9400</td>\n",
       "      <td>3.0</td>\n",
       "      <td>0.00</td>\n",
       "      <td>219.5820</td>\n",
       "      <td>Furniture</td>\n",
       "      <td>Chairs</td>\n",
       "      <td>Claire Gute</td>\n",
       "      <td>Hon Deluxe Fabric Upholstered Stacking Chairs,...</td>\n",
       "      <td>South</td>\n",
       "    </tr>\n",
       "    <tr>\n",
       "      <th>2</th>\n",
       "      <td>1</td>\n",
       "      <td>FUR-TA-10000577</td>\n",
       "      <td>SO-20335</td>\n",
       "      <td>4</td>\n",
       "      <td>US-2015-108966</td>\n",
       "      <td>2015-10-11</td>\n",
       "      <td>2015-10-18</td>\n",
       "      <td>Standard Class</td>\n",
       "      <td>Consumer</td>\n",
       "      <td>United States</td>\n",
       "      <td>...</td>\n",
       "      <td>33311.0</td>\n",
       "      <td>957.5775</td>\n",
       "      <td>5.0</td>\n",
       "      <td>0.45</td>\n",
       "      <td>-383.0310</td>\n",
       "      <td>Furniture</td>\n",
       "      <td>Tables</td>\n",
       "      <td>Sean O'Donnell</td>\n",
       "      <td>Bretford CR4500 Series Slim Rectangular Table</td>\n",
       "      <td>South</td>\n",
       "    </tr>\n",
       "    <tr>\n",
       "      <th>3</th>\n",
       "      <td>1</td>\n",
       "      <td>OFF-ST-10000760</td>\n",
       "      <td>SO-20335</td>\n",
       "      <td>5</td>\n",
       "      <td>US-2015-108966</td>\n",
       "      <td>2015-10-11</td>\n",
       "      <td>2015-10-18</td>\n",
       "      <td>Standard Class</td>\n",
       "      <td>Consumer</td>\n",
       "      <td>United States</td>\n",
       "      <td>...</td>\n",
       "      <td>33311.0</td>\n",
       "      <td>22.3680</td>\n",
       "      <td>2.0</td>\n",
       "      <td>0.20</td>\n",
       "      <td>2.5164</td>\n",
       "      <td>Office Supplies</td>\n",
       "      <td>Storage</td>\n",
       "      <td>Sean O'Donnell</td>\n",
       "      <td>Eldon Fold 'N Roll Cart System</td>\n",
       "      <td>South</td>\n",
       "    </tr>\n",
       "    <tr>\n",
       "      <th>4</th>\n",
       "      <td>1</td>\n",
       "      <td>OFF-PA-10002365</td>\n",
       "      <td>AA-10480</td>\n",
       "      <td>11</td>\n",
       "      <td>CA-2017-114412</td>\n",
       "      <td>2017-04-15</td>\n",
       "      <td>2017-04-20</td>\n",
       "      <td>Standard Class</td>\n",
       "      <td>Consumer</td>\n",
       "      <td>United States</td>\n",
       "      <td>...</td>\n",
       "      <td>28027.0</td>\n",
       "      <td>15.5520</td>\n",
       "      <td>3.0</td>\n",
       "      <td>0.20</td>\n",
       "      <td>5.4432</td>\n",
       "      <td>Office Supplies</td>\n",
       "      <td>Paper</td>\n",
       "      <td>Andrew Allen</td>\n",
       "      <td>Xerox 1967</td>\n",
       "      <td>South</td>\n",
       "    </tr>\n",
       "  </tbody>\n",
       "</table>\n",
       "<p>5 rows × 22 columns</p>\n",
       "</div>"
      ],
      "text/plain": [
       "   Region ID       Product ID Customer ID  Category ID        Order ID  \\\n",
       "0          1  FUR-BO-10001798    CG-12520            1  CA-2016-152156   \n",
       "1          1  FUR-CH-10000454    CG-12520            2  CA-2016-152156   \n",
       "2          1  FUR-TA-10000577    SO-20335            4  US-2015-108966   \n",
       "3          1  OFF-ST-10000760    SO-20335            5  US-2015-108966   \n",
       "4          1  OFF-PA-10002365    AA-10480           11  CA-2017-114412   \n",
       "\n",
       "   Order Date   Ship Date       Ship Mode   Segment        Country  ...  \\\n",
       "0  2016-11-08  2016-11-11    Second Class  Consumer  United States  ...   \n",
       "1  2016-11-08  2016-11-11    Second Class  Consumer  United States  ...   \n",
       "2  2015-10-11  2015-10-18  Standard Class  Consumer  United States  ...   \n",
       "3  2015-10-11  2015-10-18  Standard Class  Consumer  United States  ...   \n",
       "4  2017-04-15  2017-04-20  Standard Class  Consumer  United States  ...   \n",
       "\n",
       "  Postal Code     Sales  Quantity  Discount    Profit         Category  \\\n",
       "0     42420.0  261.9600       2.0      0.00   41.9136        Furniture   \n",
       "1     42420.0  731.9400       3.0      0.00  219.5820        Furniture   \n",
       "2     33311.0  957.5775       5.0      0.45 -383.0310        Furniture   \n",
       "3     33311.0   22.3680       2.0      0.20    2.5164  Office Supplies   \n",
       "4     28027.0   15.5520       3.0      0.20    5.4432  Office Supplies   \n",
       "\n",
       "   Sub-Category   Customer Name  \\\n",
       "0     Bookcases     Claire Gute   \n",
       "1        Chairs     Claire Gute   \n",
       "2        Tables  Sean O'Donnell   \n",
       "3       Storage  Sean O'Donnell   \n",
       "4         Paper    Andrew Allen   \n",
       "\n",
       "                                        Product Name Region Name  \n",
       "0                  Bush Somerset Collection Bookcase       South  \n",
       "1  Hon Deluxe Fabric Upholstered Stacking Chairs,...       South  \n",
       "2      Bretford CR4500 Series Slim Rectangular Table       South  \n",
       "3                     Eldon Fold 'N Roll Cart System       South  \n",
       "4                                         Xerox 1967       South  \n",
       "\n",
       "[5 rows x 22 columns]"
      ]
     },
     "execution_count": 4,
     "metadata": {},
     "output_type": "execute_result"
    }
   ],
   "source": [
    "df.head()"
   ]
  },
  {
   "cell_type": "code",
   "execution_count": 6,
   "id": "22987114",
   "metadata": {},
   "outputs": [
    {
     "data": {
      "text/plain": [
       "(1734, 22)"
      ]
     },
     "execution_count": 6,
     "metadata": {},
     "output_type": "execute_result"
    }
   ],
   "source": [
    "df.shape"
   ]
  },
  {
   "cell_type": "code",
   "execution_count": 7,
   "id": "fb53e5fb",
   "metadata": {},
   "outputs": [
    {
     "name": "stdout",
     "output_type": "stream",
     "text": [
      "<class 'pandas.core.frame.DataFrame'>\n",
      "RangeIndex: 1734 entries, 0 to 1733\n",
      "Data columns (total 22 columns):\n",
      " #   Column         Non-Null Count  Dtype  \n",
      "---  ------         --------------  -----  \n",
      " 0   Region ID      1734 non-null   int64  \n",
      " 1   Product ID     1734 non-null   object \n",
      " 2   Customer ID    1734 non-null   object \n",
      " 3   Category ID    1734 non-null   int64  \n",
      " 4   Order ID       1734 non-null   object \n",
      " 5   Order Date     1734 non-null   object \n",
      " 6   Ship Date      1734 non-null   object \n",
      " 7   Ship Mode      1734 non-null   object \n",
      " 8   Segment        1734 non-null   object \n",
      " 9   Country        1734 non-null   object \n",
      " 10  City           1734 non-null   object \n",
      " 11  State          1734 non-null   object \n",
      " 12  Postal Code    1734 non-null   float64\n",
      " 13  Sales          1734 non-null   float64\n",
      " 14  Quantity       1734 non-null   float64\n",
      " 15  Discount       1734 non-null   float64\n",
      " 16  Profit         1734 non-null   float64\n",
      " 17  Category       1734 non-null   object \n",
      " 18  Sub-Category   1734 non-null   object \n",
      " 19  Customer Name  1734 non-null   object \n",
      " 20  Product Name   1734 non-null   object \n",
      " 21  Region Name    1734 non-null   object \n",
      "dtypes: float64(5), int64(2), object(15)\n",
      "memory usage: 298.2+ KB\n"
     ]
    }
   ],
   "source": [
    "df.info()"
   ]
  },
  {
   "cell_type": "code",
   "execution_count": 8,
   "id": "b1d36a6a",
   "metadata": {},
   "outputs": [
    {
     "data": {
      "text/html": [
       "<div>\n",
       "<style scoped>\n",
       "    .dataframe tbody tr th:only-of-type {\n",
       "        vertical-align: middle;\n",
       "    }\n",
       "\n",
       "    .dataframe tbody tr th {\n",
       "        vertical-align: top;\n",
       "    }\n",
       "\n",
       "    .dataframe thead th {\n",
       "        text-align: right;\n",
       "    }\n",
       "</style>\n",
       "<table border=\"1\" class=\"dataframe\">\n",
       "  <thead>\n",
       "    <tr style=\"text-align: right;\">\n",
       "      <th></th>\n",
       "      <th>Region ID</th>\n",
       "      <th>Category ID</th>\n",
       "      <th>Postal Code</th>\n",
       "      <th>Sales</th>\n",
       "      <th>Quantity</th>\n",
       "      <th>Discount</th>\n",
       "      <th>Profit</th>\n",
       "    </tr>\n",
       "  </thead>\n",
       "  <tbody>\n",
       "    <tr>\n",
       "      <th>count</th>\n",
       "      <td>1734.000000</td>\n",
       "      <td>1734.000000</td>\n",
       "      <td>1734.000000</td>\n",
       "      <td>1734.000000</td>\n",
       "      <td>1734.000000</td>\n",
       "      <td>1734.000000</td>\n",
       "      <td>1734.000000</td>\n",
       "    </tr>\n",
       "    <tr>\n",
       "      <th>mean</th>\n",
       "      <td>2.722607</td>\n",
       "      <td>8.106113</td>\n",
       "      <td>53501.926182</td>\n",
       "      <td>229.206358</td>\n",
       "      <td>3.794694</td>\n",
       "      <td>0.160110</td>\n",
       "      <td>21.880351</td>\n",
       "    </tr>\n",
       "    <tr>\n",
       "      <th>std</th>\n",
       "      <td>1.062277</td>\n",
       "      <td>3.480593</td>\n",
       "      <td>32180.245224</td>\n",
       "      <td>532.862614</td>\n",
       "      <td>2.297407</td>\n",
       "      <td>0.206419</td>\n",
       "      <td>202.891949</td>\n",
       "    </tr>\n",
       "    <tr>\n",
       "      <th>min</th>\n",
       "      <td>1.000000</td>\n",
       "      <td>1.000000</td>\n",
       "      <td>1841.000000</td>\n",
       "      <td>1.080000</td>\n",
       "      <td>1.000000</td>\n",
       "      <td>0.000000</td>\n",
       "      <td>-3839.990400</td>\n",
       "    </tr>\n",
       "    <tr>\n",
       "      <th>25%</th>\n",
       "      <td>2.000000</td>\n",
       "      <td>6.000000</td>\n",
       "      <td>19143.000000</td>\n",
       "      <td>16.695000</td>\n",
       "      <td>2.000000</td>\n",
       "      <td>0.000000</td>\n",
       "      <td>1.702400</td>\n",
       "    </tr>\n",
       "    <tr>\n",
       "      <th>50%</th>\n",
       "      <td>3.000000</td>\n",
       "      <td>8.000000</td>\n",
       "      <td>50315.000000</td>\n",
       "      <td>52.245000</td>\n",
       "      <td>3.000000</td>\n",
       "      <td>0.200000</td>\n",
       "      <td>8.073050</td>\n",
       "    </tr>\n",
       "    <tr>\n",
       "      <th>75%</th>\n",
       "      <td>4.000000</td>\n",
       "      <td>11.000000</td>\n",
       "      <td>85705.000000</td>\n",
       "      <td>209.917500</td>\n",
       "      <td>5.000000</td>\n",
       "      <td>0.200000</td>\n",
       "      <td>27.414450</td>\n",
       "    </tr>\n",
       "    <tr>\n",
       "      <th>max</th>\n",
       "      <td>4.000000</td>\n",
       "      <td>17.000000</td>\n",
       "      <td>98661.000000</td>\n",
       "      <td>8159.952000</td>\n",
       "      <td>14.000000</td>\n",
       "      <td>0.800000</td>\n",
       "      <td>3177.475000</td>\n",
       "    </tr>\n",
       "  </tbody>\n",
       "</table>\n",
       "</div>"
      ],
      "text/plain": [
       "         Region ID  Category ID   Postal Code        Sales     Quantity  \\\n",
       "count  1734.000000  1734.000000   1734.000000  1734.000000  1734.000000   \n",
       "mean      2.722607     8.106113  53501.926182   229.206358     3.794694   \n",
       "std       1.062277     3.480593  32180.245224   532.862614     2.297407   \n",
       "min       1.000000     1.000000   1841.000000     1.080000     1.000000   \n",
       "25%       2.000000     6.000000  19143.000000    16.695000     2.000000   \n",
       "50%       3.000000     8.000000  50315.000000    52.245000     3.000000   \n",
       "75%       4.000000    11.000000  85705.000000   209.917500     5.000000   \n",
       "max       4.000000    17.000000  98661.000000  8159.952000    14.000000   \n",
       "\n",
       "          Discount       Profit  \n",
       "count  1734.000000  1734.000000  \n",
       "mean      0.160110    21.880351  \n",
       "std       0.206419   202.891949  \n",
       "min       0.000000 -3839.990400  \n",
       "25%       0.000000     1.702400  \n",
       "50%       0.200000     8.073050  \n",
       "75%       0.200000    27.414450  \n",
       "max       0.800000  3177.475000  "
      ]
     },
     "execution_count": 8,
     "metadata": {},
     "output_type": "execute_result"
    }
   ],
   "source": [
    "df.describe()"
   ]
  },
  {
   "cell_type": "code",
   "execution_count": 9,
   "id": "f9c02b1e",
   "metadata": {},
   "outputs": [
    {
     "data": {
      "text/html": [
       "<div>\n",
       "<style scoped>\n",
       "    .dataframe tbody tr th:only-of-type {\n",
       "        vertical-align: middle;\n",
       "    }\n",
       "\n",
       "    .dataframe tbody tr th {\n",
       "        vertical-align: top;\n",
       "    }\n",
       "\n",
       "    .dataframe thead th {\n",
       "        text-align: right;\n",
       "    }\n",
       "</style>\n",
       "<table border=\"1\" class=\"dataframe\">\n",
       "  <thead>\n",
       "    <tr style=\"text-align: right;\">\n",
       "      <th></th>\n",
       "      <th>Order Date</th>\n",
       "      <th>Sales</th>\n",
       "      <th>Category</th>\n",
       "    </tr>\n",
       "  </thead>\n",
       "  <tbody>\n",
       "    <tr>\n",
       "      <th>0</th>\n",
       "      <td>2016-11-08</td>\n",
       "      <td>261.9600</td>\n",
       "      <td>Furniture</td>\n",
       "    </tr>\n",
       "    <tr>\n",
       "      <th>1</th>\n",
       "      <td>2016-11-08</td>\n",
       "      <td>731.9400</td>\n",
       "      <td>Furniture</td>\n",
       "    </tr>\n",
       "    <tr>\n",
       "      <th>2</th>\n",
       "      <td>2015-10-11</td>\n",
       "      <td>957.5775</td>\n",
       "      <td>Furniture</td>\n",
       "    </tr>\n",
       "    <tr>\n",
       "      <th>3</th>\n",
       "      <td>2015-10-11</td>\n",
       "      <td>22.3680</td>\n",
       "      <td>Office Supplies</td>\n",
       "    </tr>\n",
       "    <tr>\n",
       "      <th>4</th>\n",
       "      <td>2017-04-15</td>\n",
       "      <td>15.5520</td>\n",
       "      <td>Office Supplies</td>\n",
       "    </tr>\n",
       "  </tbody>\n",
       "</table>\n",
       "</div>"
      ],
      "text/plain": [
       "   Order Date     Sales         Category\n",
       "0  2016-11-08  261.9600        Furniture\n",
       "1  2016-11-08  731.9400        Furniture\n",
       "2  2015-10-11  957.5775        Furniture\n",
       "3  2015-10-11   22.3680  Office Supplies\n",
       "4  2017-04-15   15.5520  Office Supplies"
      ]
     },
     "execution_count": 9,
     "metadata": {},
     "output_type": "execute_result"
    }
   ],
   "source": [
    "cat_sales = df[['Order Date', 'Sales', 'Category']]\n",
    "cat_sales.head()"
   ]
  },
  {
   "cell_type": "code",
   "execution_count": 10,
   "id": "93e4f194",
   "metadata": {},
   "outputs": [
    {
     "data": {
      "text/plain": [
       "Office Supplies    1055\n",
       "Furniture           360\n",
       "Technology          319\n",
       "Name: Category, dtype: int64"
      ]
     },
     "execution_count": 10,
     "metadata": {},
     "output_type": "execute_result"
    }
   ],
   "source": [
    "cat_sales['Category'].value_counts()"
   ]
  },
  {
   "cell_type": "code",
   "execution_count": 11,
   "id": "efb06fbb",
   "metadata": {},
   "outputs": [],
   "source": [
    "os = cat_sales[cat_sales['Category'] == 'Office Supplies']"
   ]
  },
  {
   "cell_type": "code",
   "execution_count": 12,
   "id": "313011ea",
   "metadata": {},
   "outputs": [
    {
     "data": {
      "text/html": [
       "<div>\n",
       "<style scoped>\n",
       "    .dataframe tbody tr th:only-of-type {\n",
       "        vertical-align: middle;\n",
       "    }\n",
       "\n",
       "    .dataframe tbody tr th {\n",
       "        vertical-align: top;\n",
       "    }\n",
       "\n",
       "    .dataframe thead th {\n",
       "        text-align: right;\n",
       "    }\n",
       "</style>\n",
       "<table border=\"1\" class=\"dataframe\">\n",
       "  <thead>\n",
       "    <tr style=\"text-align: right;\">\n",
       "      <th></th>\n",
       "      <th>Order Date</th>\n",
       "      <th>Sales</th>\n",
       "      <th>Category</th>\n",
       "    </tr>\n",
       "  </thead>\n",
       "  <tbody>\n",
       "    <tr>\n",
       "      <th>3</th>\n",
       "      <td>2015-10-11</td>\n",
       "      <td>22.368</td>\n",
       "      <td>Office Supplies</td>\n",
       "    </tr>\n",
       "    <tr>\n",
       "      <th>4</th>\n",
       "      <td>2017-04-15</td>\n",
       "      <td>15.552</td>\n",
       "      <td>Office Supplies</td>\n",
       "    </tr>\n",
       "    <tr>\n",
       "      <th>5</th>\n",
       "      <td>2017-09-19</td>\n",
       "      <td>95.616</td>\n",
       "      <td>Office Supplies</td>\n",
       "    </tr>\n",
       "    <tr>\n",
       "      <th>6</th>\n",
       "      <td>2016-06-04</td>\n",
       "      <td>75.880</td>\n",
       "      <td>Office Supplies</td>\n",
       "    </tr>\n",
       "    <tr>\n",
       "      <th>9</th>\n",
       "      <td>2015-04-26</td>\n",
       "      <td>72.784</td>\n",
       "      <td>Office Supplies</td>\n",
       "    </tr>\n",
       "  </tbody>\n",
       "</table>\n",
       "</div>"
      ],
      "text/plain": [
       "   Order Date   Sales         Category\n",
       "3  2015-10-11  22.368  Office Supplies\n",
       "4  2017-04-15  15.552  Office Supplies\n",
       "5  2017-09-19  95.616  Office Supplies\n",
       "6  2016-06-04  75.880  Office Supplies\n",
       "9  2015-04-26  72.784  Office Supplies"
      ]
     },
     "execution_count": 12,
     "metadata": {},
     "output_type": "execute_result"
    }
   ],
   "source": [
    "os.head()"
   ]
  },
  {
   "cell_type": "code",
   "execution_count": 13,
   "id": "2255a106",
   "metadata": {},
   "outputs": [
    {
     "data": {
      "text/plain": [
       "Office Supplies    1055\n",
       "Name: Category, dtype: int64"
      ]
     },
     "execution_count": 13,
     "metadata": {},
     "output_type": "execute_result"
    }
   ],
   "source": [
    "os['Category'].value_counts()"
   ]
  },
  {
   "cell_type": "code",
   "execution_count": 14,
   "id": "9463f6a9",
   "metadata": {},
   "outputs": [
    {
     "data": {
      "text/html": [
       "<div>\n",
       "<style scoped>\n",
       "    .dataframe tbody tr th:only-of-type {\n",
       "        vertical-align: middle;\n",
       "    }\n",
       "\n",
       "    .dataframe tbody tr th {\n",
       "        vertical-align: top;\n",
       "    }\n",
       "\n",
       "    .dataframe thead th {\n",
       "        text-align: right;\n",
       "    }\n",
       "</style>\n",
       "<table border=\"1\" class=\"dataframe\">\n",
       "  <thead>\n",
       "    <tr style=\"text-align: right;\">\n",
       "      <th></th>\n",
       "      <th>Order Date</th>\n",
       "      <th>Sales</th>\n",
       "      <th>Category</th>\n",
       "    </tr>\n",
       "  </thead>\n",
       "  <tbody>\n",
       "    <tr>\n",
       "      <th>0</th>\n",
       "      <td>2016-11-08</td>\n",
       "      <td>261.9600</td>\n",
       "      <td>Furniture</td>\n",
       "    </tr>\n",
       "    <tr>\n",
       "      <th>1</th>\n",
       "      <td>2016-11-08</td>\n",
       "      <td>731.9400</td>\n",
       "      <td>Furniture</td>\n",
       "    </tr>\n",
       "    <tr>\n",
       "      <th>2</th>\n",
       "      <td>2015-10-11</td>\n",
       "      <td>957.5775</td>\n",
       "      <td>Furniture</td>\n",
       "    </tr>\n",
       "    <tr>\n",
       "      <th>7</th>\n",
       "      <td>2015-04-26</td>\n",
       "      <td>831.9360</td>\n",
       "      <td>Furniture</td>\n",
       "    </tr>\n",
       "    <tr>\n",
       "      <th>8</th>\n",
       "      <td>2015-04-26</td>\n",
       "      <td>97.0400</td>\n",
       "      <td>Furniture</td>\n",
       "    </tr>\n",
       "  </tbody>\n",
       "</table>\n",
       "</div>"
      ],
      "text/plain": [
       "   Order Date     Sales   Category\n",
       "0  2016-11-08  261.9600  Furniture\n",
       "1  2016-11-08  731.9400  Furniture\n",
       "2  2015-10-11  957.5775  Furniture\n",
       "7  2015-04-26  831.9360  Furniture\n",
       "8  2015-04-26   97.0400  Furniture"
      ]
     },
     "execution_count": 14,
     "metadata": {},
     "output_type": "execute_result"
    }
   ],
   "source": [
    "furn = cat_sales[cat_sales['Category'] == 'Furniture']\n",
    "furn.head()\n"
   ]
  },
  {
   "cell_type": "code",
   "execution_count": 15,
   "id": "8f16bc57",
   "metadata": {},
   "outputs": [
    {
     "data": {
      "text/plain": [
       "Furniture    360\n",
       "Name: Category, dtype: int64"
      ]
     },
     "execution_count": 15,
     "metadata": {},
     "output_type": "execute_result"
    }
   ],
   "source": [
    "furn['Category'].value_counts()"
   ]
  },
  {
   "cell_type": "code",
   "execution_count": 16,
   "id": "0e7e5269",
   "metadata": {},
   "outputs": [
    {
     "data": {
      "text/html": [
       "<div>\n",
       "<style scoped>\n",
       "    .dataframe tbody tr th:only-of-type {\n",
       "        vertical-align: middle;\n",
       "    }\n",
       "\n",
       "    .dataframe tbody tr th {\n",
       "        vertical-align: top;\n",
       "    }\n",
       "\n",
       "    .dataframe thead th {\n",
       "        text-align: right;\n",
       "    }\n",
       "</style>\n",
       "<table border=\"1\" class=\"dataframe\">\n",
       "  <thead>\n",
       "    <tr style=\"text-align: right;\">\n",
       "      <th></th>\n",
       "      <th>Order Date</th>\n",
       "      <th>Sales</th>\n",
       "      <th>Category</th>\n",
       "    </tr>\n",
       "  </thead>\n",
       "  <tbody>\n",
       "    <tr>\n",
       "      <th>14</th>\n",
       "      <td>2017-11-23</td>\n",
       "      <td>74.112</td>\n",
       "      <td>Technology</td>\n",
       "    </tr>\n",
       "    <tr>\n",
       "      <th>15</th>\n",
       "      <td>2017-11-23</td>\n",
       "      <td>27.992</td>\n",
       "      <td>Technology</td>\n",
       "    </tr>\n",
       "    <tr>\n",
       "      <th>18</th>\n",
       "      <td>2014-11-19</td>\n",
       "      <td>503.960</td>\n",
       "      <td>Technology</td>\n",
       "    </tr>\n",
       "    <tr>\n",
       "      <th>19</th>\n",
       "      <td>2014-11-19</td>\n",
       "      <td>149.950</td>\n",
       "      <td>Technology</td>\n",
       "    </tr>\n",
       "    <tr>\n",
       "      <th>20</th>\n",
       "      <td>2014-11-19</td>\n",
       "      <td>29.000</td>\n",
       "      <td>Technology</td>\n",
       "    </tr>\n",
       "  </tbody>\n",
       "</table>\n",
       "</div>"
      ],
      "text/plain": [
       "    Order Date    Sales    Category\n",
       "14  2017-11-23   74.112  Technology\n",
       "15  2017-11-23   27.992  Technology\n",
       "18  2014-11-19  503.960  Technology\n",
       "19  2014-11-19  149.950  Technology\n",
       "20  2014-11-19   29.000  Technology"
      ]
     },
     "execution_count": 16,
     "metadata": {},
     "output_type": "execute_result"
    }
   ],
   "source": [
    "tech = cat_sales[cat_sales['Category'] == 'Technology']\n",
    "tech.head()\n"
   ]
  },
  {
   "cell_type": "code",
   "execution_count": 17,
   "id": "d6374cde",
   "metadata": {},
   "outputs": [
    {
     "data": {
      "text/plain": [
       "Technology    319\n",
       "Name: Category, dtype: int64"
      ]
     },
     "execution_count": 17,
     "metadata": {},
     "output_type": "execute_result"
    }
   ],
   "source": [
    "tech['Category'].value_counts()"
   ]
  },
  {
   "cell_type": "code",
   "execution_count": 18,
   "id": "76e8c166",
   "metadata": {},
   "outputs": [
    {
     "data": {
      "text/plain": [
       "'2014-01-04'"
      ]
     },
     "execution_count": 18,
     "metadata": {},
     "output_type": "execute_result"
    }
   ],
   "source": [
    "df['Order Date'].min()"
   ]
  },
  {
   "cell_type": "code",
   "execution_count": 19,
   "id": "ef342b9d",
   "metadata": {},
   "outputs": [
    {
     "data": {
      "text/plain": [
       "'2017-12-30'"
      ]
     },
     "execution_count": 19,
     "metadata": {},
     "output_type": "execute_result"
    }
   ],
   "source": [
    "df['Order Date'].max()"
   ]
  },
  {
   "cell_type": "code",
   "execution_count": 20,
   "id": "e3ce5646",
   "metadata": {},
   "outputs": [
    {
     "name": "stderr",
     "output_type": "stream",
     "text": [
      "/var/folders/n7/fjb2f8gd5jg17xlxz1c85vhc0000gn/T/ipykernel_50888/1133627327.py:1: SettingWithCopyWarning: \n",
      "A value is trying to be set on a copy of a slice from a DataFrame.\n",
      "Try using .loc[row_indexer,col_indexer] = value instead\n",
      "\n",
      "See the caveats in the documentation: https://pandas.pydata.org/pandas-docs/stable/user_guide/indexing.html#returning-a-view-versus-a-copy\n",
      "  os['Order Date'] = pd.to_datetime(os['Order Date'])\n"
     ]
    }
   ],
   "source": [
    "os['Order Date'] = pd.to_datetime(os['Order Date'])"
   ]
  },
  {
   "cell_type": "code",
   "execution_count": 21,
   "id": "aacb4fcc",
   "metadata": {},
   "outputs": [
    {
     "data": {
      "text/html": [
       "<div>\n",
       "<style scoped>\n",
       "    .dataframe tbody tr th:only-of-type {\n",
       "        vertical-align: middle;\n",
       "    }\n",
       "\n",
       "    .dataframe tbody tr th {\n",
       "        vertical-align: top;\n",
       "    }\n",
       "\n",
       "    .dataframe thead th {\n",
       "        text-align: right;\n",
       "    }\n",
       "</style>\n",
       "<table border=\"1\" class=\"dataframe\">\n",
       "  <thead>\n",
       "    <tr style=\"text-align: right;\">\n",
       "      <th></th>\n",
       "      <th>Order Date</th>\n",
       "      <th>Sales</th>\n",
       "      <th>Category</th>\n",
       "    </tr>\n",
       "  </thead>\n",
       "  <tbody>\n",
       "    <tr>\n",
       "      <th>3</th>\n",
       "      <td>2015-10-11</td>\n",
       "      <td>22.368</td>\n",
       "      <td>Office Supplies</td>\n",
       "    </tr>\n",
       "    <tr>\n",
       "      <th>4</th>\n",
       "      <td>2017-04-15</td>\n",
       "      <td>15.552</td>\n",
       "      <td>Office Supplies</td>\n",
       "    </tr>\n",
       "    <tr>\n",
       "      <th>5</th>\n",
       "      <td>2017-09-19</td>\n",
       "      <td>95.616</td>\n",
       "      <td>Office Supplies</td>\n",
       "    </tr>\n",
       "    <tr>\n",
       "      <th>6</th>\n",
       "      <td>2016-06-04</td>\n",
       "      <td>75.880</td>\n",
       "      <td>Office Supplies</td>\n",
       "    </tr>\n",
       "    <tr>\n",
       "      <th>9</th>\n",
       "      <td>2015-04-26</td>\n",
       "      <td>72.784</td>\n",
       "      <td>Office Supplies</td>\n",
       "    </tr>\n",
       "  </tbody>\n",
       "</table>\n",
       "</div>"
      ],
      "text/plain": [
       "  Order Date   Sales         Category\n",
       "3 2015-10-11  22.368  Office Supplies\n",
       "4 2017-04-15  15.552  Office Supplies\n",
       "5 2017-09-19  95.616  Office Supplies\n",
       "6 2016-06-04  75.880  Office Supplies\n",
       "9 2015-04-26  72.784  Office Supplies"
      ]
     },
     "execution_count": 21,
     "metadata": {},
     "output_type": "execute_result"
    }
   ],
   "source": [
    "os.head()"
   ]
  },
  {
   "cell_type": "code",
   "execution_count": 22,
   "id": "178f14fe",
   "metadata": {},
   "outputs": [
    {
     "name": "stdout",
     "output_type": "stream",
     "text": [
      "<class 'pandas.core.frame.DataFrame'>\n",
      "Int64Index: 1055 entries, 3 to 1732\n",
      "Data columns (total 3 columns):\n",
      " #   Column      Non-Null Count  Dtype         \n",
      "---  ------      --------------  -----         \n",
      " 0   Order Date  1055 non-null   datetime64[ns]\n",
      " 1   Sales       1055 non-null   float64       \n",
      " 2   Category    1055 non-null   object        \n",
      "dtypes: datetime64[ns](1), float64(1), object(1)\n",
      "memory usage: 33.0+ KB\n"
     ]
    }
   ],
   "source": [
    "os.info()"
   ]
  },
  {
   "cell_type": "code",
   "execution_count": 23,
   "id": "22f80ae4",
   "metadata": {},
   "outputs": [],
   "source": [
    "os = os.set_index(os['Order Date'])"
   ]
  },
  {
   "cell_type": "code",
   "execution_count": 24,
   "id": "617a914a",
   "metadata": {},
   "outputs": [
    {
     "data": {
      "text/html": [
       "<div>\n",
       "<style scoped>\n",
       "    .dataframe tbody tr th:only-of-type {\n",
       "        vertical-align: middle;\n",
       "    }\n",
       "\n",
       "    .dataframe tbody tr th {\n",
       "        vertical-align: top;\n",
       "    }\n",
       "\n",
       "    .dataframe thead th {\n",
       "        text-align: right;\n",
       "    }\n",
       "</style>\n",
       "<table border=\"1\" class=\"dataframe\">\n",
       "  <thead>\n",
       "    <tr style=\"text-align: right;\">\n",
       "      <th></th>\n",
       "      <th>Order Date</th>\n",
       "      <th>Sales</th>\n",
       "      <th>Category</th>\n",
       "    </tr>\n",
       "    <tr>\n",
       "      <th>Order Date</th>\n",
       "      <th></th>\n",
       "      <th></th>\n",
       "      <th></th>\n",
       "    </tr>\n",
       "  </thead>\n",
       "  <tbody>\n",
       "    <tr>\n",
       "      <th>2015-10-11</th>\n",
       "      <td>2015-10-11</td>\n",
       "      <td>22.368</td>\n",
       "      <td>Office Supplies</td>\n",
       "    </tr>\n",
       "    <tr>\n",
       "      <th>2017-04-15</th>\n",
       "      <td>2017-04-15</td>\n",
       "      <td>15.552</td>\n",
       "      <td>Office Supplies</td>\n",
       "    </tr>\n",
       "    <tr>\n",
       "      <th>2017-09-19</th>\n",
       "      <td>2017-09-19</td>\n",
       "      <td>95.616</td>\n",
       "      <td>Office Supplies</td>\n",
       "    </tr>\n",
       "    <tr>\n",
       "      <th>2016-06-04</th>\n",
       "      <td>2016-06-04</td>\n",
       "      <td>75.880</td>\n",
       "      <td>Office Supplies</td>\n",
       "    </tr>\n",
       "    <tr>\n",
       "      <th>2015-04-26</th>\n",
       "      <td>2015-04-26</td>\n",
       "      <td>72.784</td>\n",
       "      <td>Office Supplies</td>\n",
       "    </tr>\n",
       "  </tbody>\n",
       "</table>\n",
       "</div>"
      ],
      "text/plain": [
       "           Order Date   Sales         Category\n",
       "Order Date                                    \n",
       "2015-10-11 2015-10-11  22.368  Office Supplies\n",
       "2017-04-15 2017-04-15  15.552  Office Supplies\n",
       "2017-09-19 2017-09-19  95.616  Office Supplies\n",
       "2016-06-04 2016-06-04  75.880  Office Supplies\n",
       "2015-04-26 2015-04-26  72.784  Office Supplies"
      ]
     },
     "execution_count": 24,
     "metadata": {},
     "output_type": "execute_result"
    }
   ],
   "source": [
    "os.head()"
   ]
  },
  {
   "cell_type": "code",
   "execution_count": 27,
   "id": "e173e220",
   "metadata": {},
   "outputs": [
    {
     "data": {
      "text/plain": [
       "<AxesSubplot:xlabel='Order Date'>"
      ]
     },
     "execution_count": 27,
     "metadata": {},
     "output_type": "execute_result"
    },
    {
     "data": {
      "image/png": "[encoded data removed]",
      "text/plain": [
       "<Figure size 432x288 with 1 Axes>"
      ]
     },
     "metadata": {
      "needs_background": "light"
     },
     "output_type": "display_data"
    }
   ],
   "source": [
    "os.resample('M').mean().plot()"
   ]
  },
  {
   "cell_type": "code",
   "execution_count": 32,
   "id": "fe57d63f",
   "metadata": {},
   "outputs": [
    {
     "data": {
      "text/plain": [
       "<AxesSubplot:xlabel='Order Date'>"
      ]
     },
     "execution_count": 32,
     "metadata": {},
     "output_type": "execute_result"
    },
    {
     "data": {
      "image/png": "[encoded data removed]",
      "text/plain": [
       "<Figure size 432x288 with 1 Axes>"
      ]
     },
     "metadata": {
      "needs_background": "light"
     },
     "output_type": "display_data"
    }
   ],
   "source": [
    "os.resample('Y').mean().plot()"
   ]
  },
  {
   "cell_type": "code",
   "execution_count": null,
   "id": "f6851b63",
   "metadata": {},
   "outputs": [],
   "source": []
  },
  {
   "cell_type": "code",
   "execution_count": null,
   "id": "9c3294f7",
   "metadata": {},
   "outputs": [],
   "source": []
  },
  {
   "cell_type": "code",
   "execution_count": null,
   "id": "3db8e80f",
   "metadata": {},
   "outputs": [],
   "source": []
  },
  {
   "cell_type": "code",
   "execution_count": null,
   "id": "bbfd1f66",
   "metadata": {},
   "outputs": [],
   "source": []
  },
  {
   "cell_type": "code",
   "execution_count": 29,
   "id": "aec55807",
   "metadata": {},
   "outputs": [
    {
     "name": "stderr",
     "output_type": "stream",
     "text": [
      "/var/folders/n7/fjb2f8gd5jg17xlxz1c85vhc0000gn/T/ipykernel_50888/129819800.py:1: SettingWithCopyWarning: \n",
      "A value is trying to be set on a copy of a slice from a DataFrame.\n",
      "Try using .loc[row_indexer,col_indexer] = value instead\n",
      "\n",
      "See the caveats in the documentation: https://pandas.pydata.org/pandas-docs/stable/user_guide/indexing.html#returning-a-view-versus-a-copy\n",
      "  furn['Order Date'] = pd.to_datetime(furn['Order Date'])\n"
     ]
    }
   ],
   "source": [
    "furn['Order Date'] = pd.to_datetime(furn['Order Date'])\n",
    "furn = furn.set_index(furn['Order Date'])"
   ]
  },
  {
   "cell_type": "code",
   "execution_count": 30,
   "id": "7d10c922",
   "metadata": {},
   "outputs": [
    {
     "data": {
      "text/html": [
       "<div>\n",
       "<style scoped>\n",
       "    .dataframe tbody tr th:only-of-type {\n",
       "        vertical-align: middle;\n",
       "    }\n",
       "\n",
       "    .dataframe tbody tr th {\n",
       "        vertical-align: top;\n",
       "    }\n",
       "\n",
       "    .dataframe thead th {\n",
       "        text-align: right;\n",
       "    }\n",
       "</style>\n",
       "<table border=\"1\" class=\"dataframe\">\n",
       "  <thead>\n",
       "    <tr style=\"text-align: right;\">\n",
       "      <th></th>\n",
       "      <th>Order Date</th>\n",
       "      <th>Sales</th>\n",
       "      <th>Category</th>\n",
       "    </tr>\n",
       "    <tr>\n",
       "      <th>Order Date</th>\n",
       "      <th></th>\n",
       "      <th></th>\n",
       "      <th></th>\n",
       "    </tr>\n",
       "  </thead>\n",
       "  <tbody>\n",
       "    <tr>\n",
       "      <th>2016-11-08</th>\n",
       "      <td>2016-11-08</td>\n",
       "      <td>261.9600</td>\n",
       "      <td>Furniture</td>\n",
       "    </tr>\n",
       "    <tr>\n",
       "      <th>2016-11-08</th>\n",
       "      <td>2016-11-08</td>\n",
       "      <td>731.9400</td>\n",
       "      <td>Furniture</td>\n",
       "    </tr>\n",
       "    <tr>\n",
       "      <th>2015-10-11</th>\n",
       "      <td>2015-10-11</td>\n",
       "      <td>957.5775</td>\n",
       "      <td>Furniture</td>\n",
       "    </tr>\n",
       "    <tr>\n",
       "      <th>2015-04-26</th>\n",
       "      <td>2015-04-26</td>\n",
       "      <td>831.9360</td>\n",
       "      <td>Furniture</td>\n",
       "    </tr>\n",
       "    <tr>\n",
       "      <th>2015-04-26</th>\n",
       "      <td>2015-04-26</td>\n",
       "      <td>97.0400</td>\n",
       "      <td>Furniture</td>\n",
       "    </tr>\n",
       "  </tbody>\n",
       "</table>\n",
       "</div>"
      ],
      "text/plain": [
       "           Order Date     Sales   Category\n",
       "Order Date                                \n",
       "2016-11-08 2016-11-08  261.9600  Furniture\n",
       "2016-11-08 2016-11-08  731.9400  Furniture\n",
       "2015-10-11 2015-10-11  957.5775  Furniture\n",
       "2015-04-26 2015-04-26  831.9360  Furniture\n",
       "2015-04-26 2015-04-26   97.0400  Furniture"
      ]
     },
     "execution_count": 30,
     "metadata": {},
     "output_type": "execute_result"
    }
   ],
   "source": [
    "furn.head()"
   ]
  },
  {
   "cell_type": "code",
   "execution_count": 31,
   "id": "32b5db39",
   "metadata": {},
   "outputs": [
    {
     "data": {
      "text/plain": [
       "<AxesSubplot:xlabel='Order Date'>"
      ]
     },
     "execution_count": 31,
     "metadata": {},
     "output_type": "execute_result"
    },
    {
     "data": {
      "image/png": "[encoded data removed]",
      "text/plain": [
       "<Figure size 432x288 with 1 Axes>"
      ]
     },
     "metadata": {
      "needs_background": "light"
     },
     "output_type": "display_data"
    }
   ],
   "source": [
    "furn.resample('M').mean().plot()"
   ]
  },
  {
   "cell_type": "code",
   "execution_count": 33,
   "id": "c3e10397",
   "metadata": {},
   "outputs": [
    {
     "data": {
      "text/plain": [
       "<AxesSubplot:xlabel='Order Date'>"
      ]
     },
     "execution_count": 33,
     "metadata": {},
     "output_type": "execute_result"
    },
    {
     "data": {
      "image/png": "[encoded data removed]",
      "text/plain": [
       "<Figure size 432x288 with 1 Axes>"
      ]
     },
     "metadata": {
      "needs_background": "light"
     },
     "output_type": "display_data"
    }
   ],
   "source": [
    "furn.resample('Y').mean().plot()"
   ]
  },
  {
   "cell_type": "code",
   "execution_count": 34,
   "id": "d39742d2",
   "metadata": {},
   "outputs": [
    {
     "name": "stderr",
     "output_type": "stream",
     "text": [
      "/var/folders/n7/fjb2f8gd5jg17xlxz1c85vhc0000gn/T/ipykernel_50888/55725010.py:1: SettingWithCopyWarning: \n",
      "A value is trying to be set on a copy of a slice from a DataFrame.\n",
      "Try using .loc[row_indexer,col_indexer] = value instead\n",
      "\n",
      "See the caveats in the documentation: https://pandas.pydata.org/pandas-docs/stable/user_guide/indexing.html#returning-a-view-versus-a-copy\n",
      "  tech['Order Date'] = pd.to_datetime(tech['Order Date'])\n"
     ]
    }
   ],
   "source": [
    "tech['Order Date'] = pd.to_datetime(tech['Order Date'])\n",
    "tech = tech.set_index(tech['Order Date'])"
   ]
  },
  {
   "cell_type": "code",
   "execution_count": 35,
   "id": "de5c8753",
   "metadata": {},
   "outputs": [
    {
     "data": {
      "text/html": [
       "<div>\n",
       "<style scoped>\n",
       "    .dataframe tbody tr th:only-of-type {\n",
       "        vertical-align: middle;\n",
       "    }\n",
       "\n",
       "    .dataframe tbody tr th {\n",
       "        vertical-align: top;\n",
       "    }\n",
       "\n",
       "    .dataframe thead th {\n",
       "        text-align: right;\n",
       "    }\n",
       "</style>\n",
       "<table border=\"1\" class=\"dataframe\">\n",
       "  <thead>\n",
       "    <tr style=\"text-align: right;\">\n",
       "      <th></th>\n",
       "      <th>Order Date</th>\n",
       "      <th>Sales</th>\n",
       "      <th>Category</th>\n",
       "    </tr>\n",
       "    <tr>\n",
       "      <th>Order Date</th>\n",
       "      <th></th>\n",
       "      <th></th>\n",
       "      <th></th>\n",
       "    </tr>\n",
       "  </thead>\n",
       "  <tbody>\n",
       "    <tr>\n",
       "      <th>2017-11-23</th>\n",
       "      <td>2017-11-23</td>\n",
       "      <td>74.112</td>\n",
       "      <td>Technology</td>\n",
       "    </tr>\n",
       "    <tr>\n",
       "      <th>2017-11-23</th>\n",
       "      <td>2017-11-23</td>\n",
       "      <td>27.992</td>\n",
       "      <td>Technology</td>\n",
       "    </tr>\n",
       "    <tr>\n",
       "      <th>2014-11-19</th>\n",
       "      <td>2014-11-19</td>\n",
       "      <td>503.960</td>\n",
       "      <td>Technology</td>\n",
       "    </tr>\n",
       "    <tr>\n",
       "      <th>2014-11-19</th>\n",
       "      <td>2014-11-19</td>\n",
       "      <td>149.950</td>\n",
       "      <td>Technology</td>\n",
       "    </tr>\n",
       "    <tr>\n",
       "      <th>2014-11-19</th>\n",
       "      <td>2014-11-19</td>\n",
       "      <td>29.000</td>\n",
       "      <td>Technology</td>\n",
       "    </tr>\n",
       "  </tbody>\n",
       "</table>\n",
       "</div>"
      ],
      "text/plain": [
       "           Order Date    Sales    Category\n",
       "Order Date                                \n",
       "2017-11-23 2017-11-23   74.112  Technology\n",
       "2017-11-23 2017-11-23   27.992  Technology\n",
       "2014-11-19 2014-11-19  503.960  Technology\n",
       "2014-11-19 2014-11-19  149.950  Technology\n",
       "2014-11-19 2014-11-19   29.000  Technology"
      ]
     },
     "execution_count": 35,
     "metadata": {},
     "output_type": "execute_result"
    }
   ],
   "source": [
    "tech.head()"
   ]
  },
  {
   "cell_type": "code",
   "execution_count": 36,
   "id": "4abda572",
   "metadata": {},
   "outputs": [
    {
     "data": {
      "text/plain": [
       "<AxesSubplot:xlabel='Order Date'>"
      ]
     },
     "execution_count": 36,
     "metadata": {},
     "output_type": "execute_result"
    },
    {
     "data": {
      "image/png": "[encoded data removed]",
      "text/plain": [
       "<Figure size 432x288 with 1 Axes>"
      ]
     },
     "metadata": {
      "needs_background": "light"
     },
     "output_type": "display_data"
    }
   ],
   "source": [
    "tech.resample('M').mean().plot()"
   ]
  },
  {
   "cell_type": "code",
   "execution_count": 37,
   "id": "4e495987",
   "metadata": {},
   "outputs": [
    {
     "data": {
      "text/plain": [
       "<AxesSubplot:xlabel='Order Date'>"
      ]
     },
     "execution_count": 37,
     "metadata": {},
     "output_type": "execute_result"
    },
    {
     "data": {
      "image/png": "[encoded data removed]",
      "text/plain": [
       "<Figure size 432x288 with 1 Axes>"
      ]
     },
     "metadata": {
      "needs_background": "light"
     },
     "output_type": "display_data"
    }
   ],
   "source": [
    "tech.resample('Y').mean().plot()"
   ]
  },
  {
   "cell_type": "code",
   "execution_count": null,
   "id": "6c2673a8",
   "metadata": {},
   "outputs": [],
   "source": []
  },
  {
   "cell_type": "code",
   "execution_count": 5,
   "id": "c13f0ce7",
   "metadata": {},
   "outputs": [
    {
     "data": {
      "text/html": [
       "<div>\n",
       "<style scoped>\n",
       "    .dataframe tbody tr th:only-of-type {\n",
       "        vertical-align: middle;\n",
       "    }\n",
       "\n",
       "    .dataframe tbody tr th {\n",
       "        vertical-align: top;\n",
       "    }\n",
       "\n",
       "    .dataframe thead th {\n",
       "        text-align: right;\n",
       "    }\n",
       "</style>\n",
       "<table border=\"1\" class=\"dataframe\">\n",
       "  <thead>\n",
       "    <tr style=\"text-align: right;\">\n",
       "      <th></th>\n",
       "      <th>Region ID</th>\n",
       "      <th>Product ID</th>\n",
       "      <th>Customer ID</th>\n",
       "      <th>Category ID</th>\n",
       "      <th>Order ID</th>\n",
       "      <th>Order Date</th>\n",
       "      <th>Ship Date</th>\n",
       "      <th>Ship Mode</th>\n",
       "      <th>Segment</th>\n",
       "      <th>Country</th>\n",
       "      <th>...</th>\n",
       "      <th>Postal Code</th>\n",
       "      <th>Sales</th>\n",
       "      <th>Quantity</th>\n",
       "      <th>Discount</th>\n",
       "      <th>Profit</th>\n",
       "      <th>Category</th>\n",
       "      <th>Sub-Category</th>\n",
       "      <th>Customer Name</th>\n",
       "      <th>Product Name</th>\n",
       "      <th>Region Name</th>\n",
       "    </tr>\n",
       "  </thead>\n",
       "  <tbody>\n",
       "    <tr>\n",
       "      <th>248</th>\n",
       "      <td>2</td>\n",
       "      <td>OFF-LA-10000240</td>\n",
       "      <td>DV-13045</td>\n",
       "      <td>3</td>\n",
       "      <td>CA-2016-138688</td>\n",
       "      <td>2016-06-12</td>\n",
       "      <td>2016-06-16</td>\n",
       "      <td>Second Class</td>\n",
       "      <td>Corporate</td>\n",
       "      <td>United States</td>\n",
       "      <td>...</td>\n",
       "      <td>90036.0</td>\n",
       "      <td>14.620</td>\n",
       "      <td>2.0</td>\n",
       "      <td>0.0</td>\n",
       "      <td>6.8714</td>\n",
       "      <td>Office Supplies</td>\n",
       "      <td>Labels</td>\n",
       "      <td>Darrin Van Huff</td>\n",
       "      <td>Self-Adhesive Address Labels for Typewriters b...</td>\n",
       "      <td>West</td>\n",
       "    </tr>\n",
       "    <tr>\n",
       "      <th>249</th>\n",
       "      <td>2</td>\n",
       "      <td>FUR-FU-10001487</td>\n",
       "      <td>BH-11710</td>\n",
       "      <td>6</td>\n",
       "      <td>CA-2014-115812</td>\n",
       "      <td>2014-06-09</td>\n",
       "      <td>2014-06-14</td>\n",
       "      <td>Standard Class</td>\n",
       "      <td>Consumer</td>\n",
       "      <td>United States</td>\n",
       "      <td>...</td>\n",
       "      <td>90032.0</td>\n",
       "      <td>48.860</td>\n",
       "      <td>7.0</td>\n",
       "      <td>0.0</td>\n",
       "      <td>14.1694</td>\n",
       "      <td>Furniture</td>\n",
       "      <td>Furnishings</td>\n",
       "      <td>Brosina Hoffman</td>\n",
       "      <td>Eldon Expressions Wood and Plastic Desk Access...</td>\n",
       "      <td>West</td>\n",
       "    </tr>\n",
       "    <tr>\n",
       "      <th>250</th>\n",
       "      <td>2</td>\n",
       "      <td>OFF-AR-10002833</td>\n",
       "      <td>BH-11710</td>\n",
       "      <td>7</td>\n",
       "      <td>CA-2014-115812</td>\n",
       "      <td>2014-06-09</td>\n",
       "      <td>2014-06-14</td>\n",
       "      <td>Standard Class</td>\n",
       "      <td>Consumer</td>\n",
       "      <td>United States</td>\n",
       "      <td>...</td>\n",
       "      <td>90032.0</td>\n",
       "      <td>7.280</td>\n",
       "      <td>4.0</td>\n",
       "      <td>0.0</td>\n",
       "      <td>1.9656</td>\n",
       "      <td>Office Supplies</td>\n",
       "      <td>Art</td>\n",
       "      <td>Brosina Hoffman</td>\n",
       "      <td>Newell 322</td>\n",
       "      <td>West</td>\n",
       "    </tr>\n",
       "    <tr>\n",
       "      <th>251</th>\n",
       "      <td>2</td>\n",
       "      <td>TEC-PH-10002275</td>\n",
       "      <td>BH-11710</td>\n",
       "      <td>8</td>\n",
       "      <td>CA-2014-115812</td>\n",
       "      <td>2014-06-09</td>\n",
       "      <td>2014-06-14</td>\n",
       "      <td>Standard Class</td>\n",
       "      <td>Consumer</td>\n",
       "      <td>United States</td>\n",
       "      <td>...</td>\n",
       "      <td>90032.0</td>\n",
       "      <td>907.152</td>\n",
       "      <td>6.0</td>\n",
       "      <td>0.2</td>\n",
       "      <td>90.7152</td>\n",
       "      <td>Technology</td>\n",
       "      <td>Phones</td>\n",
       "      <td>Brosina Hoffman</td>\n",
       "      <td>Mitel 5320 IP Phone VoIP phone</td>\n",
       "      <td>West</td>\n",
       "    </tr>\n",
       "    <tr>\n",
       "      <th>252</th>\n",
       "      <td>2</td>\n",
       "      <td>OFF-BI-10003910</td>\n",
       "      <td>BH-11710</td>\n",
       "      <td>9</td>\n",
       "      <td>CA-2014-115812</td>\n",
       "      <td>2014-06-09</td>\n",
       "      <td>2014-06-14</td>\n",
       "      <td>Standard Class</td>\n",
       "      <td>Consumer</td>\n",
       "      <td>United States</td>\n",
       "      <td>...</td>\n",
       "      <td>90032.0</td>\n",
       "      <td>18.504</td>\n",
       "      <td>3.0</td>\n",
       "      <td>0.2</td>\n",
       "      <td>5.7825</td>\n",
       "      <td>Office Supplies</td>\n",
       "      <td>Binders</td>\n",
       "      <td>Brosina Hoffman</td>\n",
       "      <td>DXL Angle-View Binders with Locking Rings by S...</td>\n",
       "      <td>West</td>\n",
       "    </tr>\n",
       "  </tbody>\n",
       "</table>\n",
       "<p>5 rows × 22 columns</p>\n",
       "</div>"
      ],
      "text/plain": [
       "     Region ID       Product ID Customer ID  Category ID        Order ID  \\\n",
       "248          2  OFF-LA-10000240    DV-13045            3  CA-2016-138688   \n",
       "249          2  FUR-FU-10001487    BH-11710            6  CA-2014-115812   \n",
       "250          2  OFF-AR-10002833    BH-11710            7  CA-2014-115812   \n",
       "251          2  TEC-PH-10002275    BH-11710            8  CA-2014-115812   \n",
       "252          2  OFF-BI-10003910    BH-11710            9  CA-2014-115812   \n",
       "\n",
       "     Order Date   Ship Date       Ship Mode    Segment        Country  ...  \\\n",
       "248  2016-06-12  2016-06-16    Second Class  Corporate  United States  ...   \n",
       "249  2014-06-09  2014-06-14  Standard Class   Consumer  United States  ...   \n",
       "250  2014-06-09  2014-06-14  Standard Class   Consumer  United States  ...   \n",
       "251  2014-06-09  2014-06-14  Standard Class   Consumer  United States  ...   \n",
       "252  2014-06-09  2014-06-14  Standard Class   Consumer  United States  ...   \n",
       "\n",
       "    Postal Code    Sales  Quantity  Discount   Profit         Category  \\\n",
       "248     90036.0   14.620       2.0       0.0   6.8714  Office Supplies   \n",
       "249     90032.0   48.860       7.0       0.0  14.1694        Furniture   \n",
       "250     90032.0    7.280       4.0       0.0   1.9656  Office Supplies   \n",
       "251     90032.0  907.152       6.0       0.2  90.7152       Technology   \n",
       "252     90032.0   18.504       3.0       0.2   5.7825  Office Supplies   \n",
       "\n",
       "     Sub-Category    Customer Name  \\\n",
       "248        Labels  Darrin Van Huff   \n",
       "249   Furnishings  Brosina Hoffman   \n",
       "250           Art  Brosina Hoffman   \n",
       "251        Phones  Brosina Hoffman   \n",
       "252       Binders  Brosina Hoffman   \n",
       "\n",
       "                                          Product Name Region Name  \n",
       "248  Self-Adhesive Address Labels for Typewriters b...        West  \n",
       "249  Eldon Expressions Wood and Plastic Desk Access...        West  \n",
       "250                                         Newell 322        West  \n",
       "251                     Mitel 5320 IP Phone VoIP phone        West  \n",
       "252  DXL Angle-View Binders with Locking Rings by S...        West  \n",
       "\n",
       "[5 rows x 22 columns]"
      ]
     },
     "execution_count": 5,
     "metadata": {},
     "output_type": "execute_result"
    }
   ],
   "source": [
    "west = df[df['Region Name'] == 'West']\n",
    "west.head()"
   ]
  },
  {
   "cell_type": "code",
   "execution_count": 6,
   "id": "31de75a5",
   "metadata": {},
   "outputs": [
    {
     "data": {
      "text/html": [
       "<div>\n",
       "<style scoped>\n",
       "    .dataframe tbody tr th:only-of-type {\n",
       "        vertical-align: middle;\n",
       "    }\n",
       "\n",
       "    .dataframe tbody tr th {\n",
       "        vertical-align: top;\n",
       "    }\n",
       "\n",
       "    .dataframe thead th {\n",
       "        text-align: right;\n",
       "    }\n",
       "</style>\n",
       "<table border=\"1\" class=\"dataframe\">\n",
       "  <thead>\n",
       "    <tr style=\"text-align: right;\">\n",
       "      <th></th>\n",
       "      <th>Region ID</th>\n",
       "      <th>Product ID</th>\n",
       "      <th>Customer ID</th>\n",
       "      <th>Category ID</th>\n",
       "      <th>Order ID</th>\n",
       "      <th>Order Date</th>\n",
       "      <th>Ship Date</th>\n",
       "      <th>Ship Mode</th>\n",
       "      <th>Segment</th>\n",
       "      <th>Country</th>\n",
       "      <th>...</th>\n",
       "      <th>Postal Code</th>\n",
       "      <th>Sales</th>\n",
       "      <th>Quantity</th>\n",
       "      <th>Discount</th>\n",
       "      <th>Profit</th>\n",
       "      <th>Category</th>\n",
       "      <th>Sub-Category</th>\n",
       "      <th>Customer Name</th>\n",
       "      <th>Product Name</th>\n",
       "      <th>Region Name</th>\n",
       "    </tr>\n",
       "  </thead>\n",
       "  <tbody>\n",
       "    <tr>\n",
       "      <th>1178</th>\n",
       "      <td>4</td>\n",
       "      <td>FUR-CH-10002774</td>\n",
       "      <td>SF-20065</td>\n",
       "      <td>2</td>\n",
       "      <td>US-2017-156909</td>\n",
       "      <td>2017-07-16</td>\n",
       "      <td>2017-07-18</td>\n",
       "      <td>Second Class</td>\n",
       "      <td>Consumer</td>\n",
       "      <td>United States</td>\n",
       "      <td>...</td>\n",
       "      <td>19140.0</td>\n",
       "      <td>71.372</td>\n",
       "      <td>2.0</td>\n",
       "      <td>0.3</td>\n",
       "      <td>-1.0196</td>\n",
       "      <td>Furniture</td>\n",
       "      <td>Chairs</td>\n",
       "      <td>Sandra Flanagan</td>\n",
       "      <td>Global Deluxe Stacking Chair, Gray</td>\n",
       "      <td>East</td>\n",
       "    </tr>\n",
       "    <tr>\n",
       "      <th>1179</th>\n",
       "      <td>4</td>\n",
       "      <td>FUR-BO-10004834</td>\n",
       "      <td>TB-21520</td>\n",
       "      <td>1</td>\n",
       "      <td>US-2015-150630</td>\n",
       "      <td>2015-09-17</td>\n",
       "      <td>2015-09-21</td>\n",
       "      <td>Standard Class</td>\n",
       "      <td>Consumer</td>\n",
       "      <td>United States</td>\n",
       "      <td>...</td>\n",
       "      <td>19140.0</td>\n",
       "      <td>3083.430</td>\n",
       "      <td>7.0</td>\n",
       "      <td>0.5</td>\n",
       "      <td>-1665.0522</td>\n",
       "      <td>Furniture</td>\n",
       "      <td>Bookcases</td>\n",
       "      <td>Tracy Blumstein</td>\n",
       "      <td>Riverside Palais Royal Lawyers Bookcase, Royal...</td>\n",
       "      <td>East</td>\n",
       "    </tr>\n",
       "    <tr>\n",
       "      <th>1180</th>\n",
       "      <td>4</td>\n",
       "      <td>OFF-BI-10000474</td>\n",
       "      <td>TB-21520</td>\n",
       "      <td>9</td>\n",
       "      <td>US-2015-150630</td>\n",
       "      <td>2015-09-17</td>\n",
       "      <td>2015-09-21</td>\n",
       "      <td>Standard Class</td>\n",
       "      <td>Consumer</td>\n",
       "      <td>United States</td>\n",
       "      <td>...</td>\n",
       "      <td>19140.0</td>\n",
       "      <td>9.618</td>\n",
       "      <td>2.0</td>\n",
       "      <td>0.7</td>\n",
       "      <td>-7.0532</td>\n",
       "      <td>Office Supplies</td>\n",
       "      <td>Binders</td>\n",
       "      <td>Tracy Blumstein</td>\n",
       "      <td>Avery Recycled Flexi-View Covers for Binding S...</td>\n",
       "      <td>East</td>\n",
       "    </tr>\n",
       "    <tr>\n",
       "      <th>1181</th>\n",
       "      <td>4</td>\n",
       "      <td>FUR-FU-10004848</td>\n",
       "      <td>TB-21520</td>\n",
       "      <td>6</td>\n",
       "      <td>US-2015-150630</td>\n",
       "      <td>2015-09-17</td>\n",
       "      <td>2015-09-21</td>\n",
       "      <td>Standard Class</td>\n",
       "      <td>Consumer</td>\n",
       "      <td>United States</td>\n",
       "      <td>...</td>\n",
       "      <td>19140.0</td>\n",
       "      <td>124.200</td>\n",
       "      <td>3.0</td>\n",
       "      <td>0.2</td>\n",
       "      <td>15.5250</td>\n",
       "      <td>Furniture</td>\n",
       "      <td>Furnishings</td>\n",
       "      <td>Tracy Blumstein</td>\n",
       "      <td>Howard Miller 13-3/4\" Diameter Brushed Chrome ...</td>\n",
       "      <td>East</td>\n",
       "    </tr>\n",
       "    <tr>\n",
       "      <th>1182</th>\n",
       "      <td>4</td>\n",
       "      <td>OFF-EN-10001509</td>\n",
       "      <td>TB-21520</td>\n",
       "      <td>13</td>\n",
       "      <td>US-2015-150630</td>\n",
       "      <td>2015-09-17</td>\n",
       "      <td>2015-09-21</td>\n",
       "      <td>Standard Class</td>\n",
       "      <td>Consumer</td>\n",
       "      <td>United States</td>\n",
       "      <td>...</td>\n",
       "      <td>19140.0</td>\n",
       "      <td>3.264</td>\n",
       "      <td>2.0</td>\n",
       "      <td>0.2</td>\n",
       "      <td>1.1016</td>\n",
       "      <td>Office Supplies</td>\n",
       "      <td>Envelopes</td>\n",
       "      <td>Tracy Blumstein</td>\n",
       "      <td>Poly String Tie Envelopes</td>\n",
       "      <td>East</td>\n",
       "    </tr>\n",
       "  </tbody>\n",
       "</table>\n",
       "<p>5 rows × 22 columns</p>\n",
       "</div>"
      ],
      "text/plain": [
       "      Region ID       Product ID Customer ID  Category ID        Order ID  \\\n",
       "1178          4  FUR-CH-10002774    SF-20065            2  US-2017-156909   \n",
       "1179          4  FUR-BO-10004834    TB-21520            1  US-2015-150630   \n",
       "1180          4  OFF-BI-10000474    TB-21520            9  US-2015-150630   \n",
       "1181          4  FUR-FU-10004848    TB-21520            6  US-2015-150630   \n",
       "1182          4  OFF-EN-10001509    TB-21520           13  US-2015-150630   \n",
       "\n",
       "      Order Date   Ship Date       Ship Mode   Segment        Country  ...  \\\n",
       "1178  2017-07-16  2017-07-18    Second Class  Consumer  United States  ...   \n",
       "1179  2015-09-17  2015-09-21  Standard Class  Consumer  United States  ...   \n",
       "1180  2015-09-17  2015-09-21  Standard Class  Consumer  United States  ...   \n",
       "1181  2015-09-17  2015-09-21  Standard Class  Consumer  United States  ...   \n",
       "1182  2015-09-17  2015-09-21  Standard Class  Consumer  United States  ...   \n",
       "\n",
       "     Postal Code     Sales  Quantity  Discount     Profit         Category  \\\n",
       "1178     19140.0    71.372       2.0       0.3    -1.0196        Furniture   \n",
       "1179     19140.0  3083.430       7.0       0.5 -1665.0522        Furniture   \n",
       "1180     19140.0     9.618       2.0       0.7    -7.0532  Office Supplies   \n",
       "1181     19140.0   124.200       3.0       0.2    15.5250        Furniture   \n",
       "1182     19140.0     3.264       2.0       0.2     1.1016  Office Supplies   \n",
       "\n",
       "      Sub-Category    Customer Name  \\\n",
       "1178        Chairs  Sandra Flanagan   \n",
       "1179     Bookcases  Tracy Blumstein   \n",
       "1180       Binders  Tracy Blumstein   \n",
       "1181   Furnishings  Tracy Blumstein   \n",
       "1182     Envelopes  Tracy Blumstein   \n",
       "\n",
       "                                           Product Name Region Name  \n",
       "1178                 Global Deluxe Stacking Chair, Gray        East  \n",
       "1179  Riverside Palais Royal Lawyers Bookcase, Royal...        East  \n",
       "1180  Avery Recycled Flexi-View Covers for Binding S...        East  \n",
       "1181  Howard Miller 13-3/4\" Diameter Brushed Chrome ...        East  \n",
       "1182                          Poly String Tie Envelopes        East  \n",
       "\n",
       "[5 rows x 22 columns]"
      ]
     },
     "execution_count": 6,
     "metadata": {},
     "output_type": "execute_result"
    }
   ],
   "source": [
    "east = df[df['Region Name'] == 'East']\n",
    "east.head()"
   ]
  },
  {
   "cell_type": "code",
   "execution_count": 9,
   "id": "b309013a",
   "metadata": {},
   "outputs": [
    {
     "data": {
      "text/html": [
       "<div>\n",
       "<style scoped>\n",
       "    .dataframe tbody tr th:only-of-type {\n",
       "        vertical-align: middle;\n",
       "    }\n",
       "\n",
       "    .dataframe tbody tr th {\n",
       "        vertical-align: top;\n",
       "    }\n",
       "\n",
       "    .dataframe thead th {\n",
       "        text-align: right;\n",
       "    }\n",
       "</style>\n",
       "<table border=\"1\" class=\"dataframe\">\n",
       "  <thead>\n",
       "    <tr style=\"text-align: right;\">\n",
       "      <th></th>\n",
       "      <th>Region ID</th>\n",
       "      <th>Product ID</th>\n",
       "      <th>Customer ID</th>\n",
       "      <th>Category ID</th>\n",
       "      <th>Order ID</th>\n",
       "      <th>Order Date</th>\n",
       "      <th>Ship Date</th>\n",
       "      <th>Ship Mode</th>\n",
       "      <th>Segment</th>\n",
       "      <th>Country</th>\n",
       "      <th>...</th>\n",
       "      <th>Postal Code</th>\n",
       "      <th>Sales</th>\n",
       "      <th>Quantity</th>\n",
       "      <th>Discount</th>\n",
       "      <th>Profit</th>\n",
       "      <th>Category</th>\n",
       "      <th>Sub-Category</th>\n",
       "      <th>Customer Name</th>\n",
       "      <th>Product Name</th>\n",
       "      <th>Region Name</th>\n",
       "    </tr>\n",
       "  </thead>\n",
       "  <tbody>\n",
       "    <tr>\n",
       "      <th>789</th>\n",
       "      <td>3</td>\n",
       "      <td>OFF-AP-10002311</td>\n",
       "      <td>HP-14815</td>\n",
       "      <td>10</td>\n",
       "      <td>US-2015-118983</td>\n",
       "      <td>2015-11-22</td>\n",
       "      <td>2015-11-26</td>\n",
       "      <td>Standard Class</td>\n",
       "      <td>Home Office</td>\n",
       "      <td>United States</td>\n",
       "      <td>...</td>\n",
       "      <td>76106.0</td>\n",
       "      <td>68.810</td>\n",
       "      <td>5.0</td>\n",
       "      <td>0.8</td>\n",
       "      <td>-123.8580</td>\n",
       "      <td>Office Supplies</td>\n",
       "      <td>Appliances</td>\n",
       "      <td>Harold Pawlan</td>\n",
       "      <td>Holmes Replacement Filter for HEPA Air Cleaner...</td>\n",
       "      <td>Central</td>\n",
       "    </tr>\n",
       "    <tr>\n",
       "      <th>790</th>\n",
       "      <td>3</td>\n",
       "      <td>OFF-BI-10000756</td>\n",
       "      <td>HP-14815</td>\n",
       "      <td>9</td>\n",
       "      <td>US-2015-118983</td>\n",
       "      <td>2015-11-22</td>\n",
       "      <td>2015-11-26</td>\n",
       "      <td>Standard Class</td>\n",
       "      <td>Home Office</td>\n",
       "      <td>United States</td>\n",
       "      <td>...</td>\n",
       "      <td>76106.0</td>\n",
       "      <td>2.544</td>\n",
       "      <td>3.0</td>\n",
       "      <td>0.8</td>\n",
       "      <td>-3.8160</td>\n",
       "      <td>Office Supplies</td>\n",
       "      <td>Binders</td>\n",
       "      <td>Harold Pawlan</td>\n",
       "      <td>Storex DuraTech Recycled Plastic Frosted Binders</td>\n",
       "      <td>Central</td>\n",
       "    </tr>\n",
       "    <tr>\n",
       "      <th>791</th>\n",
       "      <td>3</td>\n",
       "      <td>OFF-ST-10004186</td>\n",
       "      <td>PK-19075</td>\n",
       "      <td>5</td>\n",
       "      <td>CA-2014-105893</td>\n",
       "      <td>2014-11-11</td>\n",
       "      <td>2014-11-18</td>\n",
       "      <td>Standard Class</td>\n",
       "      <td>Consumer</td>\n",
       "      <td>United States</td>\n",
       "      <td>...</td>\n",
       "      <td>53711.0</td>\n",
       "      <td>665.880</td>\n",
       "      <td>6.0</td>\n",
       "      <td>0.0</td>\n",
       "      <td>13.3176</td>\n",
       "      <td>Office Supplies</td>\n",
       "      <td>Storage</td>\n",
       "      <td>Pete Kriz</td>\n",
       "      <td>Stur-D-Stor Shelving, Vertical 5-Shelf: 72\"H x...</td>\n",
       "      <td>Central</td>\n",
       "    </tr>\n",
       "    <tr>\n",
       "      <th>792</th>\n",
       "      <td>3</td>\n",
       "      <td>OFF-AR-10000246</td>\n",
       "      <td>KB-16585</td>\n",
       "      <td>7</td>\n",
       "      <td>CA-2016-137330</td>\n",
       "      <td>2016-12-09</td>\n",
       "      <td>2016-12-13</td>\n",
       "      <td>Standard Class</td>\n",
       "      <td>Corporate</td>\n",
       "      <td>United States</td>\n",
       "      <td>...</td>\n",
       "      <td>68025.0</td>\n",
       "      <td>19.460</td>\n",
       "      <td>7.0</td>\n",
       "      <td>0.0</td>\n",
       "      <td>5.0596</td>\n",
       "      <td>Office Supplies</td>\n",
       "      <td>Art</td>\n",
       "      <td>Ken Black</td>\n",
       "      <td>Newell 318</td>\n",
       "      <td>Central</td>\n",
       "    </tr>\n",
       "    <tr>\n",
       "      <th>793</th>\n",
       "      <td>3</td>\n",
       "      <td>OFF-AP-10001492</td>\n",
       "      <td>KB-16585</td>\n",
       "      <td>10</td>\n",
       "      <td>CA-2016-137330</td>\n",
       "      <td>2016-12-09</td>\n",
       "      <td>2016-12-13</td>\n",
       "      <td>Standard Class</td>\n",
       "      <td>Corporate</td>\n",
       "      <td>United States</td>\n",
       "      <td>...</td>\n",
       "      <td>68025.0</td>\n",
       "      <td>60.340</td>\n",
       "      <td>7.0</td>\n",
       "      <td>0.0</td>\n",
       "      <td>15.6884</td>\n",
       "      <td>Office Supplies</td>\n",
       "      <td>Appliances</td>\n",
       "      <td>Ken Black</td>\n",
       "      <td>Acco Six-Outlet Power Strip, 4' Cord Length</td>\n",
       "      <td>Central</td>\n",
       "    </tr>\n",
       "  </tbody>\n",
       "</table>\n",
       "<p>5 rows × 22 columns</p>\n",
       "</div>"
      ],
      "text/plain": [
       "     Region ID       Product ID Customer ID  Category ID        Order ID  \\\n",
       "789          3  OFF-AP-10002311    HP-14815           10  US-2015-118983   \n",
       "790          3  OFF-BI-10000756    HP-14815            9  US-2015-118983   \n",
       "791          3  OFF-ST-10004186    PK-19075            5  CA-2014-105893   \n",
       "792          3  OFF-AR-10000246    KB-16585            7  CA-2016-137330   \n",
       "793          3  OFF-AP-10001492    KB-16585           10  CA-2016-137330   \n",
       "\n",
       "     Order Date   Ship Date       Ship Mode      Segment        Country  ...  \\\n",
       "789  2015-11-22  2015-11-26  Standard Class  Home Office  United States  ...   \n",
       "790  2015-11-22  2015-11-26  Standard Class  Home Office  United States  ...   \n",
       "791  2014-11-11  2014-11-18  Standard Class     Consumer  United States  ...   \n",
       "792  2016-12-09  2016-12-13  Standard Class    Corporate  United States  ...   \n",
       "793  2016-12-09  2016-12-13  Standard Class    Corporate  United States  ...   \n",
       "\n",
       "    Postal Code    Sales  Quantity  Discount    Profit         Category  \\\n",
       "789     76106.0   68.810       5.0       0.8 -123.8580  Office Supplies   \n",
       "790     76106.0    2.544       3.0       0.8   -3.8160  Office Supplies   \n",
       "791     53711.0  665.880       6.0       0.0   13.3176  Office Supplies   \n",
       "792     68025.0   19.460       7.0       0.0    5.0596  Office Supplies   \n",
       "793     68025.0   60.340       7.0       0.0   15.6884  Office Supplies   \n",
       "\n",
       "     Sub-Category  Customer Name  \\\n",
       "789    Appliances  Harold Pawlan   \n",
       "790       Binders  Harold Pawlan   \n",
       "791       Storage      Pete Kriz   \n",
       "792           Art      Ken Black   \n",
       "793    Appliances      Ken Black   \n",
       "\n",
       "                                          Product Name Region Name  \n",
       "789  Holmes Replacement Filter for HEPA Air Cleaner...     Central  \n",
       "790   Storex DuraTech Recycled Plastic Frosted Binders     Central  \n",
       "791  Stur-D-Stor Shelving, Vertical 5-Shelf: 72\"H x...     Central  \n",
       "792                                         Newell 318     Central  \n",
       "793        Acco Six-Outlet Power Strip, 4' Cord Length     Central  \n",
       "\n",
       "[5 rows x 22 columns]"
      ]
     },
     "execution_count": 9,
     "metadata": {},
     "output_type": "execute_result"
    }
   ],
   "source": [
    "central = df[df['Region Name'] == 'Central']\n",
    "central.head()"
   ]
  },
  {
   "cell_type": "code",
   "execution_count": 8,
   "id": "ea2d3933",
   "metadata": {},
   "outputs": [
    {
     "data": {
      "text/plain": [
       "East       556\n",
       "West       541\n",
       "Central    389\n",
       "South      248\n",
       "Name: Region Name, dtype: int64"
      ]
     },
     "execution_count": 8,
     "metadata": {},
     "output_type": "execute_result"
    }
   ],
   "source": [
    "df['Region Name'].value_counts()"
   ]
  },
  {
   "cell_type": "code",
   "execution_count": 10,
   "id": "35df7d7f",
   "metadata": {},
   "outputs": [
    {
     "data": {
      "text/html": [
       "<div>\n",
       "<style scoped>\n",
       "    .dataframe tbody tr th:only-of-type {\n",
       "        vertical-align: middle;\n",
       "    }\n",
       "\n",
       "    .dataframe tbody tr th {\n",
       "        vertical-align: top;\n",
       "    }\n",
       "\n",
       "    .dataframe thead th {\n",
       "        text-align: right;\n",
       "    }\n",
       "</style>\n",
       "<table border=\"1\" class=\"dataframe\">\n",
       "  <thead>\n",
       "    <tr style=\"text-align: right;\">\n",
       "      <th></th>\n",
       "      <th>Region ID</th>\n",
       "      <th>Product ID</th>\n",
       "      <th>Customer ID</th>\n",
       "      <th>Category ID</th>\n",
       "      <th>Order ID</th>\n",
       "      <th>Order Date</th>\n",
       "      <th>Ship Date</th>\n",
       "      <th>Ship Mode</th>\n",
       "      <th>Segment</th>\n",
       "      <th>Country</th>\n",
       "      <th>...</th>\n",
       "      <th>Postal Code</th>\n",
       "      <th>Sales</th>\n",
       "      <th>Quantity</th>\n",
       "      <th>Discount</th>\n",
       "      <th>Profit</th>\n",
       "      <th>Category</th>\n",
       "      <th>Sub-Category</th>\n",
       "      <th>Customer Name</th>\n",
       "      <th>Product Name</th>\n",
       "      <th>Region Name</th>\n",
       "    </tr>\n",
       "  </thead>\n",
       "  <tbody>\n",
       "    <tr>\n",
       "      <th>0</th>\n",
       "      <td>1</td>\n",
       "      <td>FUR-BO-10001798</td>\n",
       "      <td>CG-12520</td>\n",
       "      <td>1</td>\n",
       "      <td>CA-2016-152156</td>\n",
       "      <td>2016-11-08</td>\n",
       "      <td>2016-11-11</td>\n",
       "      <td>Second Class</td>\n",
       "      <td>Consumer</td>\n",
       "      <td>United States</td>\n",
       "      <td>...</td>\n",
       "      <td>42420.0</td>\n",
       "      <td>261.9600</td>\n",
       "      <td>2.0</td>\n",
       "      <td>0.00</td>\n",
       "      <td>41.9136</td>\n",
       "      <td>Furniture</td>\n",
       "      <td>Bookcases</td>\n",
       "      <td>Claire Gute</td>\n",
       "      <td>Bush Somerset Collection Bookcase</td>\n",
       "      <td>South</td>\n",
       "    </tr>\n",
       "    <tr>\n",
       "      <th>1</th>\n",
       "      <td>1</td>\n",
       "      <td>FUR-CH-10000454</td>\n",
       "      <td>CG-12520</td>\n",
       "      <td>2</td>\n",
       "      <td>CA-2016-152156</td>\n",
       "      <td>2016-11-08</td>\n",
       "      <td>2016-11-11</td>\n",
       "      <td>Second Class</td>\n",
       "      <td>Consumer</td>\n",
       "      <td>United States</td>\n",
       "      <td>...</td>\n",
       "      <td>42420.0</td>\n",
       "      <td>731.9400</td>\n",
       "      <td>3.0</td>\n",
       "      <td>0.00</td>\n",
       "      <td>219.5820</td>\n",
       "      <td>Furniture</td>\n",
       "      <td>Chairs</td>\n",
       "      <td>Claire Gute</td>\n",
       "      <td>Hon Deluxe Fabric Upholstered Stacking Chairs,...</td>\n",
       "      <td>South</td>\n",
       "    </tr>\n",
       "    <tr>\n",
       "      <th>2</th>\n",
       "      <td>1</td>\n",
       "      <td>FUR-TA-10000577</td>\n",
       "      <td>SO-20335</td>\n",
       "      <td>4</td>\n",
       "      <td>US-2015-108966</td>\n",
       "      <td>2015-10-11</td>\n",
       "      <td>2015-10-18</td>\n",
       "      <td>Standard Class</td>\n",
       "      <td>Consumer</td>\n",
       "      <td>United States</td>\n",
       "      <td>...</td>\n",
       "      <td>33311.0</td>\n",
       "      <td>957.5775</td>\n",
       "      <td>5.0</td>\n",
       "      <td>0.45</td>\n",
       "      <td>-383.0310</td>\n",
       "      <td>Furniture</td>\n",
       "      <td>Tables</td>\n",
       "      <td>Sean O'Donnell</td>\n",
       "      <td>Bretford CR4500 Series Slim Rectangular Table</td>\n",
       "      <td>South</td>\n",
       "    </tr>\n",
       "    <tr>\n",
       "      <th>3</th>\n",
       "      <td>1</td>\n",
       "      <td>OFF-ST-10000760</td>\n",
       "      <td>SO-20335</td>\n",
       "      <td>5</td>\n",
       "      <td>US-2015-108966</td>\n",
       "      <td>2015-10-11</td>\n",
       "      <td>2015-10-18</td>\n",
       "      <td>Standard Class</td>\n",
       "      <td>Consumer</td>\n",
       "      <td>United States</td>\n",
       "      <td>...</td>\n",
       "      <td>33311.0</td>\n",
       "      <td>22.3680</td>\n",
       "      <td>2.0</td>\n",
       "      <td>0.20</td>\n",
       "      <td>2.5164</td>\n",
       "      <td>Office Supplies</td>\n",
       "      <td>Storage</td>\n",
       "      <td>Sean O'Donnell</td>\n",
       "      <td>Eldon Fold 'N Roll Cart System</td>\n",
       "      <td>South</td>\n",
       "    </tr>\n",
       "    <tr>\n",
       "      <th>4</th>\n",
       "      <td>1</td>\n",
       "      <td>OFF-PA-10002365</td>\n",
       "      <td>AA-10480</td>\n",
       "      <td>11</td>\n",
       "      <td>CA-2017-114412</td>\n",
       "      <td>2017-04-15</td>\n",
       "      <td>2017-04-20</td>\n",
       "      <td>Standard Class</td>\n",
       "      <td>Consumer</td>\n",
       "      <td>United States</td>\n",
       "      <td>...</td>\n",
       "      <td>28027.0</td>\n",
       "      <td>15.5520</td>\n",
       "      <td>3.0</td>\n",
       "      <td>0.20</td>\n",
       "      <td>5.4432</td>\n",
       "      <td>Office Supplies</td>\n",
       "      <td>Paper</td>\n",
       "      <td>Andrew Allen</td>\n",
       "      <td>Xerox 1967</td>\n",
       "      <td>South</td>\n",
       "    </tr>\n",
       "  </tbody>\n",
       "</table>\n",
       "<p>5 rows × 22 columns</p>\n",
       "</div>"
      ],
      "text/plain": [
       "   Region ID       Product ID Customer ID  Category ID        Order ID  \\\n",
       "0          1  FUR-BO-10001798    CG-12520            1  CA-2016-152156   \n",
       "1          1  FUR-CH-10000454    CG-12520            2  CA-2016-152156   \n",
       "2          1  FUR-TA-10000577    SO-20335            4  US-2015-108966   \n",
       "3          1  OFF-ST-10000760    SO-20335            5  US-2015-108966   \n",
       "4          1  OFF-PA-10002365    AA-10480           11  CA-2017-114412   \n",
       "\n",
       "   Order Date   Ship Date       Ship Mode   Segment        Country  ...  \\\n",
       "0  2016-11-08  2016-11-11    Second Class  Consumer  United States  ...   \n",
       "1  2016-11-08  2016-11-11    Second Class  Consumer  United States  ...   \n",
       "2  2015-10-11  2015-10-18  Standard Class  Consumer  United States  ...   \n",
       "3  2015-10-11  2015-10-18  Standard Class  Consumer  United States  ...   \n",
       "4  2017-04-15  2017-04-20  Standard Class  Consumer  United States  ...   \n",
       "\n",
       "  Postal Code     Sales  Quantity  Discount    Profit         Category  \\\n",
       "0     42420.0  261.9600       2.0      0.00   41.9136        Furniture   \n",
       "1     42420.0  731.9400       3.0      0.00  219.5820        Furniture   \n",
       "2     33311.0  957.5775       5.0      0.45 -383.0310        Furniture   \n",
       "3     33311.0   22.3680       2.0      0.20    2.5164  Office Supplies   \n",
       "4     28027.0   15.5520       3.0      0.20    5.4432  Office Supplies   \n",
       "\n",
       "   Sub-Category   Customer Name  \\\n",
       "0     Bookcases     Claire Gute   \n",
       "1        Chairs     Claire Gute   \n",
       "2        Tables  Sean O'Donnell   \n",
       "3       Storage  Sean O'Donnell   \n",
       "4         Paper    Andrew Allen   \n",
       "\n",
       "                                        Product Name Region Name  \n",
       "0                  Bush Somerset Collection Bookcase       South  \n",
       "1  Hon Deluxe Fabric Upholstered Stacking Chairs,...       South  \n",
       "2      Bretford CR4500 Series Slim Rectangular Table       South  \n",
       "3                     Eldon Fold 'N Roll Cart System       South  \n",
       "4                                         Xerox 1967       South  \n",
       "\n",
       "[5 rows x 22 columns]"
      ]
     },
     "execution_count": 10,
     "metadata": {},
     "output_type": "execute_result"
    }
   ],
   "source": [
    "south = df[df['Region Name'] == 'South']\n",
    "south.head()"
   ]
  },
  {
   "cell_type": "code",
   "execution_count": 11,
   "id": "fdf0c916",
   "metadata": {},
   "outputs": [
    {
     "data": {
      "text/plain": [
       "Consumer       130\n",
       "Corporate       72\n",
       "Home Office     46\n",
       "Name: Segment, dtype: int64"
      ]
     },
     "execution_count": 11,
     "metadata": {},
     "output_type": "execute_result"
    }
   ],
   "source": [
    "south['Segment'].value_counts()"
   ]
  },
  {
   "cell_type": "code",
   "execution_count": 12,
   "id": "0a6d7b9e",
   "metadata": {},
   "outputs": [
    {
     "data": {
      "text/plain": [
       "Consumer       213\n",
       "Corporate      108\n",
       "Home Office     68\n",
       "Name: Segment, dtype: int64"
      ]
     },
     "execution_count": 12,
     "metadata": {},
     "output_type": "execute_result"
    }
   ],
   "source": [
    "central['Segment'].value_counts()"
   ]
  },
  {
   "cell_type": "code",
   "execution_count": 15,
   "id": "48103b74",
   "metadata": {},
   "outputs": [
    {
     "data": {
      "text/plain": [
       "114"
      ]
     },
     "execution_count": 15,
     "metadata": {},
     "output_type": "execute_result"
    }
   ],
   "source": [
    "south['Customer Name'].nunique()"
   ]
  },
  {
   "cell_type": "code",
   "execution_count": 18,
   "id": "ac395f92",
   "metadata": {},
   "outputs": [
    {
     "ename": "AttributeError",
     "evalue": "'DataFrameGroupBy' object has no attribute 'df'",
     "output_type": "error",
     "traceback": [
      "\u001b[0;31m---------------------------------------------------------------------------\u001b[0m",
      "\u001b[0;31mAttributeError\u001b[0m                            Traceback (most recent call last)",
      "\u001b[0;32m/var/folders/n7/fjb2f8gd5jg17xlxz1c85vhc0000gn/T/ipykernel_51294/2800914447.py\u001b[0m in \u001b[0;36m<module>\u001b[0;34m\u001b[0m\n\u001b[0;32m----> 1\u001b[0;31m \u001b[0msouth_cust_group\u001b[0m \u001b[0;34m=\u001b[0m \u001b[0msouth\u001b[0m\u001b[0;34m.\u001b[0m\u001b[0mgroupby\u001b[0m\u001b[0;34m(\u001b[0m\u001b[0mdf\u001b[0m\u001b[0;34m[\u001b[0m\u001b[0;34m'Customer Name'\u001b[0m\u001b[0;34m]\u001b[0m\u001b[0;34m)\u001b[0m\u001b[0;34m.\u001b[0m\u001b[0mdf\u001b[0m\u001b[0;34m[\u001b[0m\u001b[0;34m'Sales'\u001b[0m\u001b[0;34m]\u001b[0m\u001b[0;34m.\u001b[0m\u001b[0msum\u001b[0m\u001b[0;34m(\u001b[0m\u001b[0;34m)\u001b[0m\u001b[0;34m\u001b[0m\u001b[0;34m\u001b[0m\u001b[0m\n\u001b[0m",
      "\u001b[0;32m/opt/anaconda3/lib/python3.9/site-packages/pandas/core/groupby/groupby.py\u001b[0m in \u001b[0;36m__getattr__\u001b[0;34m(self, attr)\u001b[0m\n\u001b[1;32m    909\u001b[0m             \u001b[0;32mreturn\u001b[0m \u001b[0mself\u001b[0m\u001b[0;34m[\u001b[0m\u001b[0mattr\u001b[0m\u001b[0;34m]\u001b[0m\u001b[0;34m\u001b[0m\u001b[0;34m\u001b[0m\u001b[0m\n\u001b[1;32m    910\u001b[0m \u001b[0;34m\u001b[0m\u001b[0m\n\u001b[0;32m--> 911\u001b[0;31m         raise AttributeError(\n\u001b[0m\u001b[1;32m    912\u001b[0m             \u001b[0;34mf\"'{type(self).__name__}' object has no attribute '{attr}'\"\u001b[0m\u001b[0;34m\u001b[0m\u001b[0;34m\u001b[0m\u001b[0m\n\u001b[1;32m    913\u001b[0m         )\n",
      "\u001b[0;31mAttributeError\u001b[0m: 'DataFrameGroupBy' object has no attribute 'df'"
     ]
    }
   ],
   "source": [
    "south_cust_group = south.groupby(df['Customer Name']).df['Sales'].sum()"
   ]
  },
  {
   "cell_type": "code",
   "execution_count": 17,
   "id": "1c7e07e3",
   "metadata": {},
   "outputs": [
    {
     "data": {
      "text/html": [
       "<div>\n",
       "<style scoped>\n",
       "    .dataframe tbody tr th:only-of-type {\n",
       "        vertical-align: middle;\n",
       "    }\n",
       "\n",
       "    .dataframe tbody tr th {\n",
       "        vertical-align: top;\n",
       "    }\n",
       "\n",
       "    .dataframe thead th {\n",
       "        text-align: right;\n",
       "    }\n",
       "</style>\n",
       "<table border=\"1\" class=\"dataframe\">\n",
       "  <thead>\n",
       "    <tr style=\"text-align: right;\">\n",
       "      <th></th>\n",
       "      <th>Region ID</th>\n",
       "      <th>Product ID</th>\n",
       "      <th>Customer ID</th>\n",
       "      <th>Category ID</th>\n",
       "      <th>Order ID</th>\n",
       "      <th>Order Date</th>\n",
       "      <th>Ship Date</th>\n",
       "      <th>Ship Mode</th>\n",
       "      <th>Segment</th>\n",
       "      <th>Country</th>\n",
       "      <th>...</th>\n",
       "      <th>Postal Code</th>\n",
       "      <th>Sales</th>\n",
       "      <th>Quantity</th>\n",
       "      <th>Discount</th>\n",
       "      <th>Profit</th>\n",
       "      <th>Category</th>\n",
       "      <th>Sub-Category</th>\n",
       "      <th>Customer Name</th>\n",
       "      <th>Product Name</th>\n",
       "      <th>Region Name</th>\n",
       "    </tr>\n",
       "  </thead>\n",
       "  <tbody>\n",
       "    <tr>\n",
       "      <th>0</th>\n",
       "      <td>1</td>\n",
       "      <td>FUR-BO-10001798</td>\n",
       "      <td>CG-12520</td>\n",
       "      <td>1</td>\n",
       "      <td>CA-2016-152156</td>\n",
       "      <td>2016-11-08</td>\n",
       "      <td>2016-11-11</td>\n",
       "      <td>Second Class</td>\n",
       "      <td>Consumer</td>\n",
       "      <td>United States</td>\n",
       "      <td>...</td>\n",
       "      <td>42420.0</td>\n",
       "      <td>261.9600</td>\n",
       "      <td>2.0</td>\n",
       "      <td>0.00</td>\n",
       "      <td>41.9136</td>\n",
       "      <td>Furniture</td>\n",
       "      <td>Bookcases</td>\n",
       "      <td>Claire Gute</td>\n",
       "      <td>Bush Somerset Collection Bookcase</td>\n",
       "      <td>South</td>\n",
       "    </tr>\n",
       "    <tr>\n",
       "      <th>1</th>\n",
       "      <td>1</td>\n",
       "      <td>FUR-CH-10000454</td>\n",
       "      <td>CG-12520</td>\n",
       "      <td>2</td>\n",
       "      <td>CA-2016-152156</td>\n",
       "      <td>2016-11-08</td>\n",
       "      <td>2016-11-11</td>\n",
       "      <td>Second Class</td>\n",
       "      <td>Consumer</td>\n",
       "      <td>United States</td>\n",
       "      <td>...</td>\n",
       "      <td>42420.0</td>\n",
       "      <td>731.9400</td>\n",
       "      <td>3.0</td>\n",
       "      <td>0.00</td>\n",
       "      <td>219.5820</td>\n",
       "      <td>Furniture</td>\n",
       "      <td>Chairs</td>\n",
       "      <td>Claire Gute</td>\n",
       "      <td>Hon Deluxe Fabric Upholstered Stacking Chairs,...</td>\n",
       "      <td>South</td>\n",
       "    </tr>\n",
       "    <tr>\n",
       "      <th>2</th>\n",
       "      <td>1</td>\n",
       "      <td>FUR-TA-10000577</td>\n",
       "      <td>SO-20335</td>\n",
       "      <td>4</td>\n",
       "      <td>US-2015-108966</td>\n",
       "      <td>2015-10-11</td>\n",
       "      <td>2015-10-18</td>\n",
       "      <td>Standard Class</td>\n",
       "      <td>Consumer</td>\n",
       "      <td>United States</td>\n",
       "      <td>...</td>\n",
       "      <td>33311.0</td>\n",
       "      <td>957.5775</td>\n",
       "      <td>5.0</td>\n",
       "      <td>0.45</td>\n",
       "      <td>-383.0310</td>\n",
       "      <td>Furniture</td>\n",
       "      <td>Tables</td>\n",
       "      <td>Sean O'Donnell</td>\n",
       "      <td>Bretford CR4500 Series Slim Rectangular Table</td>\n",
       "      <td>South</td>\n",
       "    </tr>\n",
       "    <tr>\n",
       "      <th>3</th>\n",
       "      <td>1</td>\n",
       "      <td>OFF-ST-10000760</td>\n",
       "      <td>SO-20335</td>\n",
       "      <td>5</td>\n",
       "      <td>US-2015-108966</td>\n",
       "      <td>2015-10-11</td>\n",
       "      <td>2015-10-18</td>\n",
       "      <td>Standard Class</td>\n",
       "      <td>Consumer</td>\n",
       "      <td>United States</td>\n",
       "      <td>...</td>\n",
       "      <td>33311.0</td>\n",
       "      <td>22.3680</td>\n",
       "      <td>2.0</td>\n",
       "      <td>0.20</td>\n",
       "      <td>2.5164</td>\n",
       "      <td>Office Supplies</td>\n",
       "      <td>Storage</td>\n",
       "      <td>Sean O'Donnell</td>\n",
       "      <td>Eldon Fold 'N Roll Cart System</td>\n",
       "      <td>South</td>\n",
       "    </tr>\n",
       "    <tr>\n",
       "      <th>4</th>\n",
       "      <td>1</td>\n",
       "      <td>OFF-PA-10002365</td>\n",
       "      <td>AA-10480</td>\n",
       "      <td>11</td>\n",
       "      <td>CA-2017-114412</td>\n",
       "      <td>2017-04-15</td>\n",
       "      <td>2017-04-20</td>\n",
       "      <td>Standard Class</td>\n",
       "      <td>Consumer</td>\n",
       "      <td>United States</td>\n",
       "      <td>...</td>\n",
       "      <td>28027.0</td>\n",
       "      <td>15.5520</td>\n",
       "      <td>3.0</td>\n",
       "      <td>0.20</td>\n",
       "      <td>5.4432</td>\n",
       "      <td>Office Supplies</td>\n",
       "      <td>Paper</td>\n",
       "      <td>Andrew Allen</td>\n",
       "      <td>Xerox 1967</td>\n",
       "      <td>South</td>\n",
       "    </tr>\n",
       "    <tr>\n",
       "      <th>...</th>\n",
       "      <td>...</td>\n",
       "      <td>...</td>\n",
       "      <td>...</td>\n",
       "      <td>...</td>\n",
       "      <td>...</td>\n",
       "      <td>...</td>\n",
       "      <td>...</td>\n",
       "      <td>...</td>\n",
       "      <td>...</td>\n",
       "      <td>...</td>\n",
       "      <td>...</td>\n",
       "      <td>...</td>\n",
       "      <td>...</td>\n",
       "      <td>...</td>\n",
       "      <td>...</td>\n",
       "      <td>...</td>\n",
       "      <td>...</td>\n",
       "      <td>...</td>\n",
       "      <td>...</td>\n",
       "      <td>...</td>\n",
       "      <td>...</td>\n",
       "    </tr>\n",
       "    <tr>\n",
       "      <th>243</th>\n",
       "      <td>1</td>\n",
       "      <td>OFF-LA-10003930</td>\n",
       "      <td>SW-20455</td>\n",
       "      <td>3</td>\n",
       "      <td>CA-2015-150560</td>\n",
       "      <td>2015-12-11</td>\n",
       "      <td>2015-12-12</td>\n",
       "      <td>First Class</td>\n",
       "      <td>Consumer</td>\n",
       "      <td>United States</td>\n",
       "      <td>...</td>\n",
       "      <td>23434.0</td>\n",
       "      <td>196.6200</td>\n",
       "      <td>2.0</td>\n",
       "      <td>0.00</td>\n",
       "      <td>96.3438</td>\n",
       "      <td>Office Supplies</td>\n",
       "      <td>Labels</td>\n",
       "      <td>Shaun Weien</td>\n",
       "      <td>Dot Matrix Printer Tape Reel Labels, White, 50...</td>\n",
       "      <td>South</td>\n",
       "    </tr>\n",
       "    <tr>\n",
       "      <th>244</th>\n",
       "      <td>1</td>\n",
       "      <td>TEC-AC-10003063</td>\n",
       "      <td>CA-12265</td>\n",
       "      <td>12</td>\n",
       "      <td>CA-2016-106894</td>\n",
       "      <td>2016-02-07</td>\n",
       "      <td>2016-02-07</td>\n",
       "      <td>Same Day</td>\n",
       "      <td>Consumer</td>\n",
       "      <td>United States</td>\n",
       "      <td>...</td>\n",
       "      <td>22153.0</td>\n",
       "      <td>100.0000</td>\n",
       "      <td>4.0</td>\n",
       "      <td>0.00</td>\n",
       "      <td>21.0000</td>\n",
       "      <td>Technology</td>\n",
       "      <td>Accessories</td>\n",
       "      <td>Christina Anderson</td>\n",
       "      <td>Micro Innovations USB RF Wireless Keyboard wit...</td>\n",
       "      <td>South</td>\n",
       "    </tr>\n",
       "    <tr>\n",
       "      <th>245</th>\n",
       "      <td>1</td>\n",
       "      <td>OFF-LA-10001045</td>\n",
       "      <td>CA-12265</td>\n",
       "      <td>3</td>\n",
       "      <td>CA-2016-106894</td>\n",
       "      <td>2016-02-07</td>\n",
       "      <td>2016-02-07</td>\n",
       "      <td>Same Day</td>\n",
       "      <td>Consumer</td>\n",
       "      <td>United States</td>\n",
       "      <td>...</td>\n",
       "      <td>22153.0</td>\n",
       "      <td>7.8300</td>\n",
       "      <td>3.0</td>\n",
       "      <td>0.00</td>\n",
       "      <td>3.6018</td>\n",
       "      <td>Office Supplies</td>\n",
       "      <td>Labels</td>\n",
       "      <td>Christina Anderson</td>\n",
       "      <td>Permanent Self-Adhesive File Folder Labels for...</td>\n",
       "      <td>South</td>\n",
       "    </tr>\n",
       "    <tr>\n",
       "      <th>246</th>\n",
       "      <td>1</td>\n",
       "      <td>OFF-PA-10001457</td>\n",
       "      <td>KD-16495</td>\n",
       "      <td>11</td>\n",
       "      <td>CA-2014-125136</td>\n",
       "      <td>2014-09-28</td>\n",
       "      <td>2014-10-03</td>\n",
       "      <td>Standard Class</td>\n",
       "      <td>Corporate</td>\n",
       "      <td>United States</td>\n",
       "      <td>...</td>\n",
       "      <td>28314.0</td>\n",
       "      <td>96.2560</td>\n",
       "      <td>8.0</td>\n",
       "      <td>0.20</td>\n",
       "      <td>31.2832</td>\n",
       "      <td>Office Supplies</td>\n",
       "      <td>Paper</td>\n",
       "      <td>Keith Dawkins</td>\n",
       "      <td>White GlueTop Scratch Pads</td>\n",
       "      <td>South</td>\n",
       "    </tr>\n",
       "    <tr>\n",
       "      <th>247</th>\n",
       "      <td>1</td>\n",
       "      <td>OFF-PA-10001804</td>\n",
       "      <td>KD-16495</td>\n",
       "      <td>11</td>\n",
       "      <td>CA-2014-125136</td>\n",
       "      <td>2014-09-28</td>\n",
       "      <td>2014-10-03</td>\n",
       "      <td>Standard Class</td>\n",
       "      <td>Corporate</td>\n",
       "      <td>United States</td>\n",
       "      <td>...</td>\n",
       "      <td>28314.0</td>\n",
       "      <td>10.6880</td>\n",
       "      <td>2.0</td>\n",
       "      <td>0.20</td>\n",
       "      <td>3.7408</td>\n",
       "      <td>Office Supplies</td>\n",
       "      <td>Paper</td>\n",
       "      <td>Keith Dawkins</td>\n",
       "      <td>Xerox 195</td>\n",
       "      <td>South</td>\n",
       "    </tr>\n",
       "  </tbody>\n",
       "</table>\n",
       "<p>234 rows × 22 columns</p>\n",
       "</div>"
      ],
      "text/plain": [
       "     Region ID       Product ID Customer ID  Category ID        Order ID  \\\n",
       "0            1  FUR-BO-10001798    CG-12520            1  CA-2016-152156   \n",
       "1            1  FUR-CH-10000454    CG-12520            2  CA-2016-152156   \n",
       "2            1  FUR-TA-10000577    SO-20335            4  US-2015-108966   \n",
       "3            1  OFF-ST-10000760    SO-20335            5  US-2015-108966   \n",
       "4            1  OFF-PA-10002365    AA-10480           11  CA-2017-114412   \n",
       "..         ...              ...         ...          ...             ...   \n",
       "243          1  OFF-LA-10003930    SW-20455            3  CA-2015-150560   \n",
       "244          1  TEC-AC-10003063    CA-12265           12  CA-2016-106894   \n",
       "245          1  OFF-LA-10001045    CA-12265            3  CA-2016-106894   \n",
       "246          1  OFF-PA-10001457    KD-16495           11  CA-2014-125136   \n",
       "247          1  OFF-PA-10001804    KD-16495           11  CA-2014-125136   \n",
       "\n",
       "     Order Date   Ship Date       Ship Mode    Segment        Country  ...  \\\n",
       "0    2016-11-08  2016-11-11    Second Class   Consumer  United States  ...   \n",
       "1    2016-11-08  2016-11-11    Second Class   Consumer  United States  ...   \n",
       "2    2015-10-11  2015-10-18  Standard Class   Consumer  United States  ...   \n",
       "3    2015-10-11  2015-10-18  Standard Class   Consumer  United States  ...   \n",
       "4    2017-04-15  2017-04-20  Standard Class   Consumer  United States  ...   \n",
       "..          ...         ...             ...        ...            ...  ...   \n",
       "243  2015-12-11  2015-12-12     First Class   Consumer  United States  ...   \n",
       "244  2016-02-07  2016-02-07        Same Day   Consumer  United States  ...   \n",
       "245  2016-02-07  2016-02-07        Same Day   Consumer  United States  ...   \n",
       "246  2014-09-28  2014-10-03  Standard Class  Corporate  United States  ...   \n",
       "247  2014-09-28  2014-10-03  Standard Class  Corporate  United States  ...   \n",
       "\n",
       "    Postal Code     Sales  Quantity  Discount    Profit         Category  \\\n",
       "0       42420.0  261.9600       2.0      0.00   41.9136        Furniture   \n",
       "1       42420.0  731.9400       3.0      0.00  219.5820        Furniture   \n",
       "2       33311.0  957.5775       5.0      0.45 -383.0310        Furniture   \n",
       "3       33311.0   22.3680       2.0      0.20    2.5164  Office Supplies   \n",
       "4       28027.0   15.5520       3.0      0.20    5.4432  Office Supplies   \n",
       "..          ...       ...       ...       ...       ...              ...   \n",
       "243     23434.0  196.6200       2.0      0.00   96.3438  Office Supplies   \n",
       "244     22153.0  100.0000       4.0      0.00   21.0000       Technology   \n",
       "245     22153.0    7.8300       3.0      0.00    3.6018  Office Supplies   \n",
       "246     28314.0   96.2560       8.0      0.20   31.2832  Office Supplies   \n",
       "247     28314.0   10.6880       2.0      0.20    3.7408  Office Supplies   \n",
       "\n",
       "     Sub-Category       Customer Name  \\\n",
       "0       Bookcases         Claire Gute   \n",
       "1          Chairs         Claire Gute   \n",
       "2          Tables      Sean O'Donnell   \n",
       "3         Storage      Sean O'Donnell   \n",
       "4           Paper        Andrew Allen   \n",
       "..            ...                 ...   \n",
       "243        Labels         Shaun Weien   \n",
       "244   Accessories  Christina Anderson   \n",
       "245        Labels  Christina Anderson   \n",
       "246         Paper       Keith Dawkins   \n",
       "247         Paper       Keith Dawkins   \n",
       "\n",
       "                                          Product Name Region Name  \n",
       "0                    Bush Somerset Collection Bookcase       South  \n",
       "1    Hon Deluxe Fabric Upholstered Stacking Chairs,...       South  \n",
       "2        Bretford CR4500 Series Slim Rectangular Table       South  \n",
       "3                       Eldon Fold 'N Roll Cart System       South  \n",
       "4                                           Xerox 1967       South  \n",
       "..                                                 ...         ...  \n",
       "243  Dot Matrix Printer Tape Reel Labels, White, 50...       South  \n",
       "244  Micro Innovations USB RF Wireless Keyboard wit...       South  \n",
       "245  Permanent Self-Adhesive File Folder Labels for...       South  \n",
       "246                         White GlueTop Scratch Pads       South  \n",
       "247                                          Xerox 195       South  \n",
       "\n",
       "[234 rows x 22 columns]"
      ]
     },
     "execution_count": 17,
     "metadata": {},
     "output_type": "execute_result"
    }
   ],
   "source": [
    "south_cust_group.head()"
   ]
  },
  {
   "cell_type": "code",
   "execution_count": null,
   "id": "e5d119dc",
   "metadata": {},
   "outputs": [],
   "source": []
  },
  {
   "cell_type": "code",
   "execution_count": null,
   "id": "e0c12d1d",
   "metadata": {},
   "outputs": [],
   "source": []
  },
  {
   "cell_type": "code",
   "execution_count": null,
   "id": "10e11ad3",
   "metadata": {},
   "outputs": [],
   "source": []
  },
  {
   "cell_type": "markdown",
   "id": "1bc96ae6",
   "metadata": {},
   "source": [
    "# Restart with functions from acquire.py"
   ]
  },
  {
   "cell_type": "code",
   "execution_count": 2,
   "id": "044e5fdc",
   "metadata": {},
   "outputs": [
    {
     "name": "stdout",
     "output_type": "stream",
     "text": [
      "Reading from CSV file...\n"
     ]
    },
    {
     "data": {
      "text/html": [
       "<div>\n",
       "<style scoped>\n",
       "    .dataframe tbody tr th:only-of-type {\n",
       "        vertical-align: middle;\n",
       "    }\n",
       "\n",
       "    .dataframe tbody tr th {\n",
       "        vertical-align: top;\n",
       "    }\n",
       "\n",
       "    .dataframe thead th {\n",
       "        text-align: right;\n",
       "    }\n",
       "</style>\n",
       "<table border=\"1\" class=\"dataframe\">\n",
       "  <thead>\n",
       "    <tr style=\"text-align: right;\">\n",
       "      <th></th>\n",
       "      <th>Unnamed: 0</th>\n",
       "      <th>product_id</th>\n",
       "      <th>customer_id</th>\n",
       "      <th>order_id</th>\n",
       "      <th>order_date</th>\n",
       "      <th>ship_date</th>\n",
       "      <th>ship_mode</th>\n",
       "      <th>segment</th>\n",
       "      <th>country</th>\n",
       "      <th>city</th>\n",
       "      <th>...</th>\n",
       "      <th>sales</th>\n",
       "      <th>quantity</th>\n",
       "      <th>discount</th>\n",
       "      <th>profit</th>\n",
       "      <th>category</th>\n",
       "      <th>sub_cat</th>\n",
       "      <th>cust_name</th>\n",
       "      <th>prod_name</th>\n",
       "      <th>region</th>\n",
       "      <th>ship_time</th>\n",
       "    </tr>\n",
       "    <tr>\n",
       "      <th>order_date</th>\n",
       "      <th></th>\n",
       "      <th></th>\n",
       "      <th></th>\n",
       "      <th></th>\n",
       "      <th></th>\n",
       "      <th></th>\n",
       "      <th></th>\n",
       "      <th></th>\n",
       "      <th></th>\n",
       "      <th></th>\n",
       "      <th></th>\n",
       "      <th></th>\n",
       "      <th></th>\n",
       "      <th></th>\n",
       "      <th></th>\n",
       "      <th></th>\n",
       "      <th></th>\n",
       "      <th></th>\n",
       "      <th></th>\n",
       "      <th></th>\n",
       "      <th></th>\n",
       "    </tr>\n",
       "  </thead>\n",
       "  <tbody>\n",
       "    <tr>\n",
       "      <th>2014-01-04</th>\n",
       "      <td>977</td>\n",
       "      <td>OFF-LA-10003223</td>\n",
       "      <td>PO-19195</td>\n",
       "      <td>CA-2014-112326</td>\n",
       "      <td>2014-01-04</td>\n",
       "      <td>2014-01-08</td>\n",
       "      <td>Standard Class</td>\n",
       "      <td>Home Office</td>\n",
       "      <td>United States</td>\n",
       "      <td>Naperville</td>\n",
       "      <td>...</td>\n",
       "      <td>11.784</td>\n",
       "      <td>3.0</td>\n",
       "      <td>0.2</td>\n",
       "      <td>4.2717</td>\n",
       "      <td>Office Supplies</td>\n",
       "      <td>Labels</td>\n",
       "      <td>Phillina Ober</td>\n",
       "      <td>Avery 508</td>\n",
       "      <td>Central</td>\n",
       "      <td>4 days</td>\n",
       "    </tr>\n",
       "    <tr>\n",
       "      <th>2014-01-04</th>\n",
       "      <td>978</td>\n",
       "      <td>OFF-ST-10002743</td>\n",
       "      <td>PO-19195</td>\n",
       "      <td>CA-2014-112326</td>\n",
       "      <td>2014-01-04</td>\n",
       "      <td>2014-01-08</td>\n",
       "      <td>Standard Class</td>\n",
       "      <td>Home Office</td>\n",
       "      <td>United States</td>\n",
       "      <td>Naperville</td>\n",
       "      <td>...</td>\n",
       "      <td>272.736</td>\n",
       "      <td>3.0</td>\n",
       "      <td>0.2</td>\n",
       "      <td>-64.7748</td>\n",
       "      <td>Office Supplies</td>\n",
       "      <td>Storage</td>\n",
       "      <td>Phillina Ober</td>\n",
       "      <td>SAFCO Boltless Steel Shelving</td>\n",
       "      <td>Central</td>\n",
       "      <td>4 days</td>\n",
       "    </tr>\n",
       "    <tr>\n",
       "      <th>2014-01-04</th>\n",
       "      <td>979</td>\n",
       "      <td>OFF-BI-10004094</td>\n",
       "      <td>PO-19195</td>\n",
       "      <td>CA-2014-112326</td>\n",
       "      <td>2014-01-04</td>\n",
       "      <td>2014-01-08</td>\n",
       "      <td>Standard Class</td>\n",
       "      <td>Home Office</td>\n",
       "      <td>United States</td>\n",
       "      <td>Naperville</td>\n",
       "      <td>...</td>\n",
       "      <td>3.540</td>\n",
       "      <td>2.0</td>\n",
       "      <td>0.8</td>\n",
       "      <td>-5.4870</td>\n",
       "      <td>Office Supplies</td>\n",
       "      <td>Binders</td>\n",
       "      <td>Phillina Ober</td>\n",
       "      <td>GBC Standard Plastic Binding Systems Combs</td>\n",
       "      <td>Central</td>\n",
       "      <td>4 days</td>\n",
       "    </tr>\n",
       "    <tr>\n",
       "      <th>2014-01-09</th>\n",
       "      <td>942</td>\n",
       "      <td>TEC-AC-10001266</td>\n",
       "      <td>MS-17830</td>\n",
       "      <td>CA-2014-135405</td>\n",
       "      <td>2014-01-09</td>\n",
       "      <td>2014-01-13</td>\n",
       "      <td>Standard Class</td>\n",
       "      <td>Consumer</td>\n",
       "      <td>United States</td>\n",
       "      <td>Laredo</td>\n",
       "      <td>...</td>\n",
       "      <td>31.200</td>\n",
       "      <td>3.0</td>\n",
       "      <td>0.2</td>\n",
       "      <td>9.7500</td>\n",
       "      <td>Technology</td>\n",
       "      <td>Accessories</td>\n",
       "      <td>Melanie Seite</td>\n",
       "      <td>Memorex Micro Travel Drive 8 GB</td>\n",
       "      <td>Central</td>\n",
       "      <td>4 days</td>\n",
       "    </tr>\n",
       "    <tr>\n",
       "      <th>2014-01-09</th>\n",
       "      <td>941</td>\n",
       "      <td>OFF-AR-10004078</td>\n",
       "      <td>MS-17830</td>\n",
       "      <td>CA-2014-135405</td>\n",
       "      <td>2014-01-09</td>\n",
       "      <td>2014-01-13</td>\n",
       "      <td>Standard Class</td>\n",
       "      <td>Consumer</td>\n",
       "      <td>United States</td>\n",
       "      <td>Laredo</td>\n",
       "      <td>...</td>\n",
       "      <td>9.344</td>\n",
       "      <td>2.0</td>\n",
       "      <td>0.2</td>\n",
       "      <td>1.1680</td>\n",
       "      <td>Office Supplies</td>\n",
       "      <td>Art</td>\n",
       "      <td>Melanie Seite</td>\n",
       "      <td>Newell 312</td>\n",
       "      <td>Central</td>\n",
       "      <td>4 days</td>\n",
       "    </tr>\n",
       "  </tbody>\n",
       "</table>\n",
       "<p>5 rows × 22 columns</p>\n",
       "</div>"
      ],
      "text/plain": [
       "            Unnamed: 0       product_id customer_id        order_id  \\\n",
       "order_date                                                            \n",
       "2014-01-04         977  OFF-LA-10003223    PO-19195  CA-2014-112326   \n",
       "2014-01-04         978  OFF-ST-10002743    PO-19195  CA-2014-112326   \n",
       "2014-01-04         979  OFF-BI-10004094    PO-19195  CA-2014-112326   \n",
       "2014-01-09         942  TEC-AC-10001266    MS-17830  CA-2014-135405   \n",
       "2014-01-09         941  OFF-AR-10004078    MS-17830  CA-2014-135405   \n",
       "\n",
       "           order_date  ship_date       ship_mode      segment        country  \\\n",
       "order_date                                                                     \n",
       "2014-01-04 2014-01-04 2014-01-08  Standard Class  Home Office  United States   \n",
       "2014-01-04 2014-01-04 2014-01-08  Standard Class  Home Office  United States   \n",
       "2014-01-04 2014-01-04 2014-01-08  Standard Class  Home Office  United States   \n",
       "2014-01-09 2014-01-09 2014-01-13  Standard Class     Consumer  United States   \n",
       "2014-01-09 2014-01-09 2014-01-13  Standard Class     Consumer  United States   \n",
       "\n",
       "                  city  ...    sales  quantity  discount   profit  \\\n",
       "order_date              ...                                         \n",
       "2014-01-04  Naperville  ...   11.784       3.0       0.2   4.2717   \n",
       "2014-01-04  Naperville  ...  272.736       3.0       0.2 -64.7748   \n",
       "2014-01-04  Naperville  ...    3.540       2.0       0.8  -5.4870   \n",
       "2014-01-09      Laredo  ...   31.200       3.0       0.2   9.7500   \n",
       "2014-01-09      Laredo  ...    9.344       2.0       0.2   1.1680   \n",
       "\n",
       "                   category      sub_cat      cust_name  \\\n",
       "order_date                                                \n",
       "2014-01-04  Office Supplies       Labels  Phillina Ober   \n",
       "2014-01-04  Office Supplies      Storage  Phillina Ober   \n",
       "2014-01-04  Office Supplies      Binders  Phillina Ober   \n",
       "2014-01-09       Technology  Accessories  Melanie Seite   \n",
       "2014-01-09  Office Supplies          Art  Melanie Seite   \n",
       "\n",
       "                                             prod_name   region ship_time  \n",
       "order_date                                                                 \n",
       "2014-01-04                                   Avery 508  Central    4 days  \n",
       "2014-01-04               SAFCO Boltless Steel Shelving  Central    4 days  \n",
       "2014-01-04  GBC Standard Plastic Binding Systems Combs  Central    4 days  \n",
       "2014-01-09             Memorex Micro Travel Drive 8 GB  Central    4 days  \n",
       "2014-01-09                                  Newell 312  Central    4 days  \n",
       "\n",
       "[5 rows x 22 columns]"
      ]
     },
     "execution_count": 2,
     "metadata": {},
     "output_type": "execute_result"
    }
   ],
   "source": [
    "df = get_superstore_df()\n",
    "df = clean_superstore_df(df)\n",
    "df.head()"
   ]
  },
  {
   "cell_type": "code",
   "execution_count": 3,
   "id": "47ac323b",
   "metadata": {},
   "outputs": [
    {
     "data": {
      "text/plain": [
       "(1734, 22)"
      ]
     },
     "execution_count": 3,
     "metadata": {},
     "output_type": "execute_result"
    }
   ],
   "source": [
    "df.shape"
   ]
  },
  {
   "cell_type": "code",
   "execution_count": 4,
   "id": "6c4d0a1c",
   "metadata": {},
   "outputs": [
    {
     "data": {
      "text/plain": [
       "East       556\n",
       "West       541\n",
       "Central    389\n",
       "South      248\n",
       "Name: region, dtype: int64"
      ]
     },
     "execution_count": 4,
     "metadata": {},
     "output_type": "execute_result"
    }
   ],
   "source": [
    "df.region.value_counts()"
   ]
  },
  {
   "cell_type": "code",
   "execution_count": 3,
   "id": "ad651c0f",
   "metadata": {},
   "outputs": [
    {
     "data": {
      "text/plain": [
       "((556, 22), (541, 22), (389, 22), (248, 22))"
      ]
     },
     "execution_count": 3,
     "metadata": {},
     "output_type": "execute_result"
    }
   ],
   "source": [
    "east = df[df.region == 'East']\n",
    "west = df[df.region == 'West']\n",
    "central = df[df.region == 'Central']\n",
    "south = df[df.region == 'South']\n",
    "east.shape, west.shape, central.shape, south.shape"
   ]
  },
  {
   "cell_type": "code",
   "execution_count": 7,
   "id": "bf3e380c",
   "metadata": {},
   "outputs": [
    {
     "data": {
      "text/html": [
       "<div>\n",
       "<style scoped>\n",
       "    .dataframe tbody tr th:only-of-type {\n",
       "        vertical-align: middle;\n",
       "    }\n",
       "\n",
       "    .dataframe tbody tr th {\n",
       "        vertical-align: top;\n",
       "    }\n",
       "\n",
       "    .dataframe thead th {\n",
       "        text-align: right;\n",
       "    }\n",
       "</style>\n",
       "<table border=\"1\" class=\"dataframe\">\n",
       "  <thead>\n",
       "    <tr style=\"text-align: right;\">\n",
       "      <th></th>\n",
       "      <th>Unnamed: 0</th>\n",
       "      <th>product_id</th>\n",
       "      <th>customer_id</th>\n",
       "      <th>order_id</th>\n",
       "      <th>order_date</th>\n",
       "      <th>ship_date</th>\n",
       "      <th>ship_mode</th>\n",
       "      <th>segment</th>\n",
       "      <th>country</th>\n",
       "      <th>city</th>\n",
       "      <th>...</th>\n",
       "      <th>sales</th>\n",
       "      <th>quantity</th>\n",
       "      <th>discount</th>\n",
       "      <th>profit</th>\n",
       "      <th>category</th>\n",
       "      <th>sub_cat</th>\n",
       "      <th>cust_name</th>\n",
       "      <th>prod_name</th>\n",
       "      <th>region</th>\n",
       "      <th>ship_time</th>\n",
       "    </tr>\n",
       "    <tr>\n",
       "      <th>order_date</th>\n",
       "      <th></th>\n",
       "      <th></th>\n",
       "      <th></th>\n",
       "      <th></th>\n",
       "      <th></th>\n",
       "      <th></th>\n",
       "      <th></th>\n",
       "      <th></th>\n",
       "      <th></th>\n",
       "      <th></th>\n",
       "      <th></th>\n",
       "      <th></th>\n",
       "      <th></th>\n",
       "      <th></th>\n",
       "      <th></th>\n",
       "      <th></th>\n",
       "      <th></th>\n",
       "      <th></th>\n",
       "      <th></th>\n",
       "      <th></th>\n",
       "      <th></th>\n",
       "    </tr>\n",
       "  </thead>\n",
       "  <tbody>\n",
       "    <tr>\n",
       "      <th>2017-07-16</th>\n",
       "      <td>1178</td>\n",
       "      <td>FUR-CH-10002774</td>\n",
       "      <td>SF-20065</td>\n",
       "      <td>US-2017-156909</td>\n",
       "      <td>2017-07-16</td>\n",
       "      <td>2017-07-18</td>\n",
       "      <td>Second Class</td>\n",
       "      <td>Consumer</td>\n",
       "      <td>United States</td>\n",
       "      <td>Philadelphia</td>\n",
       "      <td>...</td>\n",
       "      <td>71.372</td>\n",
       "      <td>2.0</td>\n",
       "      <td>0.3</td>\n",
       "      <td>-1.0196</td>\n",
       "      <td>Furniture</td>\n",
       "      <td>Chairs</td>\n",
       "      <td>Sandra Flanagan</td>\n",
       "      <td>Global Deluxe Stacking Chair, Gray</td>\n",
       "      <td>East</td>\n",
       "      <td>2 days</td>\n",
       "    </tr>\n",
       "    <tr>\n",
       "      <th>2015-09-17</th>\n",
       "      <td>1179</td>\n",
       "      <td>FUR-BO-10004834</td>\n",
       "      <td>TB-21520</td>\n",
       "      <td>US-2015-150630</td>\n",
       "      <td>2015-09-17</td>\n",
       "      <td>2015-09-21</td>\n",
       "      <td>Standard Class</td>\n",
       "      <td>Consumer</td>\n",
       "      <td>United States</td>\n",
       "      <td>Philadelphia</td>\n",
       "      <td>...</td>\n",
       "      <td>3083.430</td>\n",
       "      <td>7.0</td>\n",
       "      <td>0.5</td>\n",
       "      <td>-1665.0522</td>\n",
       "      <td>Furniture</td>\n",
       "      <td>Bookcases</td>\n",
       "      <td>Tracy Blumstein</td>\n",
       "      <td>Riverside Palais Royal Lawyers Bookcase, Royale Cherry Finish</td>\n",
       "      <td>East</td>\n",
       "      <td>4 days</td>\n",
       "    </tr>\n",
       "    <tr>\n",
       "      <th>2015-09-17</th>\n",
       "      <td>1180</td>\n",
       "      <td>OFF-BI-10000474</td>\n",
       "      <td>TB-21520</td>\n",
       "      <td>US-2015-150630</td>\n",
       "      <td>2015-09-17</td>\n",
       "      <td>2015-09-21</td>\n",
       "      <td>Standard Class</td>\n",
       "      <td>Consumer</td>\n",
       "      <td>United States</td>\n",
       "      <td>Philadelphia</td>\n",
       "      <td>...</td>\n",
       "      <td>9.618</td>\n",
       "      <td>2.0</td>\n",
       "      <td>0.7</td>\n",
       "      <td>-7.0532</td>\n",
       "      <td>Office Supplies</td>\n",
       "      <td>Binders</td>\n",
       "      <td>Tracy Blumstein</td>\n",
       "      <td>Avery Recycled Flexi-View Covers for Binding Systems</td>\n",
       "      <td>East</td>\n",
       "      <td>4 days</td>\n",
       "    </tr>\n",
       "    <tr>\n",
       "      <th>2015-09-17</th>\n",
       "      <td>1181</td>\n",
       "      <td>FUR-FU-10004848</td>\n",
       "      <td>TB-21520</td>\n",
       "      <td>US-2015-150630</td>\n",
       "      <td>2015-09-17</td>\n",
       "      <td>2015-09-21</td>\n",
       "      <td>Standard Class</td>\n",
       "      <td>Consumer</td>\n",
       "      <td>United States</td>\n",
       "      <td>Philadelphia</td>\n",
       "      <td>...</td>\n",
       "      <td>124.200</td>\n",
       "      <td>3.0</td>\n",
       "      <td>0.2</td>\n",
       "      <td>15.5250</td>\n",
       "      <td>Furniture</td>\n",
       "      <td>Furnishings</td>\n",
       "      <td>Tracy Blumstein</td>\n",
       "      <td>Howard Miller 13-3/4\" Diameter Brushed Chrome Round Wall Clock</td>\n",
       "      <td>East</td>\n",
       "      <td>4 days</td>\n",
       "    </tr>\n",
       "    <tr>\n",
       "      <th>2015-09-17</th>\n",
       "      <td>1182</td>\n",
       "      <td>OFF-EN-10001509</td>\n",
       "      <td>TB-21520</td>\n",
       "      <td>US-2015-150630</td>\n",
       "      <td>2015-09-17</td>\n",
       "      <td>2015-09-21</td>\n",
       "      <td>Standard Class</td>\n",
       "      <td>Consumer</td>\n",
       "      <td>United States</td>\n",
       "      <td>Philadelphia</td>\n",
       "      <td>...</td>\n",
       "      <td>3.264</td>\n",
       "      <td>2.0</td>\n",
       "      <td>0.2</td>\n",
       "      <td>1.1016</td>\n",
       "      <td>Office Supplies</td>\n",
       "      <td>Envelopes</td>\n",
       "      <td>Tracy Blumstein</td>\n",
       "      <td>Poly String Tie Envelopes</td>\n",
       "      <td>East</td>\n",
       "      <td>4 days</td>\n",
       "    </tr>\n",
       "  </tbody>\n",
       "</table>\n",
       "<p>5 rows × 22 columns</p>\n",
       "</div>"
      ],
      "text/plain": [
       "            Unnamed: 0       product_id customer_id        order_id  \\\n",
       "order_date                                                            \n",
       "2017-07-16        1178  FUR-CH-10002774    SF-20065  US-2017-156909   \n",
       "2015-09-17        1179  FUR-BO-10004834    TB-21520  US-2015-150630   \n",
       "2015-09-17        1180  OFF-BI-10000474    TB-21520  US-2015-150630   \n",
       "2015-09-17        1181  FUR-FU-10004848    TB-21520  US-2015-150630   \n",
       "2015-09-17        1182  OFF-EN-10001509    TB-21520  US-2015-150630   \n",
       "\n",
       "           order_date  ship_date       ship_mode   segment        country  \\\n",
       "order_date                                                                  \n",
       "2017-07-16 2017-07-16 2017-07-18    Second Class  Consumer  United States   \n",
       "2015-09-17 2015-09-17 2015-09-21  Standard Class  Consumer  United States   \n",
       "2015-09-17 2015-09-17 2015-09-21  Standard Class  Consumer  United States   \n",
       "2015-09-17 2015-09-17 2015-09-21  Standard Class  Consumer  United States   \n",
       "2015-09-17 2015-09-17 2015-09-21  Standard Class  Consumer  United States   \n",
       "\n",
       "                    city  ...     sales  quantity  discount     profit  \\\n",
       "order_date                ...                                            \n",
       "2017-07-16  Philadelphia  ...    71.372       2.0       0.3    -1.0196   \n",
       "2015-09-17  Philadelphia  ...  3083.430       7.0       0.5 -1665.0522   \n",
       "2015-09-17  Philadelphia  ...     9.618       2.0       0.7    -7.0532   \n",
       "2015-09-17  Philadelphia  ...   124.200       3.0       0.2    15.5250   \n",
       "2015-09-17  Philadelphia  ...     3.264       2.0       0.2     1.1016   \n",
       "\n",
       "                   category      sub_cat        cust_name  \\\n",
       "order_date                                                  \n",
       "2017-07-16        Furniture       Chairs  Sandra Flanagan   \n",
       "2015-09-17        Furniture    Bookcases  Tracy Blumstein   \n",
       "2015-09-17  Office Supplies      Binders  Tracy Blumstein   \n",
       "2015-09-17        Furniture  Furnishings  Tracy Blumstein   \n",
       "2015-09-17  Office Supplies    Envelopes  Tracy Blumstein   \n",
       "\n",
       "                                                                 prod_name  \\\n",
       "order_date                                                                   \n",
       "2017-07-16                              Global Deluxe Stacking Chair, Gray   \n",
       "2015-09-17   Riverside Palais Royal Lawyers Bookcase, Royale Cherry Finish   \n",
       "2015-09-17            Avery Recycled Flexi-View Covers for Binding Systems   \n",
       "2015-09-17  Howard Miller 13-3/4\" Diameter Brushed Chrome Round Wall Clock   \n",
       "2015-09-17                                       Poly String Tie Envelopes   \n",
       "\n",
       "           region ship_time  \n",
       "order_date                   \n",
       "2017-07-16   East    2 days  \n",
       "2015-09-17   East    4 days  \n",
       "2015-09-17   East    4 days  \n",
       "2015-09-17   East    4 days  \n",
       "2015-09-17   East    4 days  \n",
       "\n",
       "[5 rows x 22 columns]"
      ]
     },
     "execution_count": 7,
     "metadata": {},
     "output_type": "execute_result"
    }
   ],
   "source": [
    "east.head()"
   ]
  },
  {
   "cell_type": "code",
   "execution_count": 8,
   "id": "099861a8",
   "metadata": {},
   "outputs": [
    {
     "data": {
      "text/plain": [
       "Consumer       292\n",
       "Corporate      150\n",
       "Home Office    114\n",
       "Name: segment, dtype: int64"
      ]
     },
     "execution_count": 8,
     "metadata": {},
     "output_type": "execute_result"
    }
   ],
   "source": [
    "east.segment.value_counts()"
   ]
  },
  {
   "cell_type": "code",
   "execution_count": 5,
   "id": "27f07e83",
   "metadata": {},
   "outputs": [],
   "source": [
    "east_sales = east.sales\n"
   ]
  },
  {
   "cell_type": "code",
   "execution_count": 7,
   "id": "6d1456c4",
   "metadata": {},
   "outputs": [
    {
     "data": {
      "text/plain": [
       "<AxesSubplot:xlabel='order_date'>"
      ]
     },
     "execution_count": 7,
     "metadata": {},
     "output_type": "execute_result"
    },
    {
     "data": {
      "image/png": "[encoded data removed]",
      "text/plain": [
       "<Figure size 432x288 with 1 Axes>"
      ]
     },
     "metadata": {
      "needs_background": "light"
     },
     "output_type": "display_data"
    }
   ],
   "source": [
    "east_sales.resample('Y').mean().plot()"
   ]
  },
  {
   "cell_type": "code",
   "execution_count": 8,
   "id": "8e5e076a",
   "metadata": {},
   "outputs": [
    {
     "data": {
      "text/plain": [
       "order_date\n",
       "2014-02-02    12.350\n",
       "2014-02-03    83.840\n",
       "2014-02-03    13.272\n",
       "2014-02-04    82.896\n",
       "2014-02-04    34.240\n",
       "Name: sales, dtype: float64"
      ]
     },
     "execution_count": 8,
     "metadata": {},
     "output_type": "execute_result"
    }
   ],
   "source": [
    "west_sales = west.sales\n",
    "west_sales.head()"
   ]
  },
  {
   "cell_type": "code",
   "execution_count": 9,
   "id": "ea2cac37",
   "metadata": {},
   "outputs": [
    {
     "data": {
      "text/plain": [
       "<AxesSubplot:xlabel='order_date'>"
      ]
     },
     "execution_count": 9,
     "metadata": {},
     "output_type": "execute_result"
    },
    {
     "data": {
      "image/png": "[encoded data removed]",
      "text/plain": [
       "<Figure size 432x288 with 1 Axes>"
      ]
     },
     "metadata": {
      "needs_background": "light"
     },
     "output_type": "display_data"
    }
   ],
   "source": [
    "west_sales.resample('Y').mean().plot()"
   ]
  },
  {
   "cell_type": "code",
   "execution_count": 10,
   "id": "abc72631",
   "metadata": {},
   "outputs": [
    {
     "data": {
      "text/plain": [
       "<AxesSubplot:xlabel='order_date'>"
      ]
     },
     "execution_count": 10,
     "metadata": {},
     "output_type": "execute_result"
    },
    {
     "data": {
      "image/png": "[encoded data removed]",
      "text/plain": [
       "<Figure size 432x288 with 1 Axes>"
      ]
     },
     "metadata": {
      "needs_background": "light"
     },
     "output_type": "display_data"
    }
   ],
   "source": [
    "central_sales = central.sales\n",
    "central_sales.resample('Y').mean().plot()"
   ]
  },
  {
   "cell_type": "code",
   "execution_count": 11,
   "id": "5423356f",
   "metadata": {},
   "outputs": [
    {
     "data": {
      "text/plain": [
       "<AxesSubplot:xlabel='order_date'>"
      ]
     },
     "execution_count": 11,
     "metadata": {},
     "output_type": "execute_result"
    },
    {
     "data": {
      "image/png": "[encoded data removed]",
      "text/plain": [
       "<Figure size 432x288 with 1 Axes>"
      ]
     },
     "metadata": {
      "needs_background": "light"
     },
     "output_type": "display_data"
    }
   ],
   "source": [
    "south_sales = south.sales\n",
    "south_sales.resample('Y').mean().plot()"
   ]
  },
  {
   "cell_type": "code",
   "execution_count": 23,
   "id": "01921a5a",
   "metadata": {},
   "outputs": [
    {
     "data": {
      "text/plain": [
       "<matplotlib.legend.Legend at 0x7fd486203d60>"
      ]
     },
     "execution_count": 23,
     "metadata": {},
     "output_type": "execute_result"
    },
    {
     "data": {
      "image/png": "[encoded data removed]",
      "text/plain": [
       "<Figure size 432x288 with 1 Axes>"
      ]
     },
     "metadata": {
      "needs_background": "light"
     },
     "output_type": "display_data"
    }
   ],
   "source": [
    "east_sales.resample('Y').mean().plot()\n",
    "west_sales.resample('Y').mean().plot()\n",
    "central_sales.resample('Y').mean().plot()\n",
    "south_sales.resample('Y').mean().plot()\n",
    "plt.xlabel('Date of Order')\n",
    "plt.ylabel('Sale Value')\n",
    "plt.title('Yearly Average Customer Order Value by Region')\n",
    "plt.legend(loc=\"upper left\", bbox_to_anchor=(1, 1))"
   ]
  },
  {
   "cell_type": "code",
   "execution_count": 22,
   "id": "4eaf470b",
   "metadata": {},
   "outputs": [
    {
     "data": {
      "text/plain": [
       "<matplotlib.legend.Legend at 0x7fd486523e80>"
      ]
     },
     "execution_count": 22,
     "metadata": {},
     "output_type": "execute_result"
    },
    {
     "data": {
      "image/png": "[encoded data removed]",
      "text/plain": [
       "<Figure size 432x288 with 1 Axes>"
      ]
     },
     "metadata": {
      "needs_background": "light"
     },
     "output_type": "display_data"
    }
   ],
   "source": [
    "east_sales.resample('Y').sum().plot()\n",
    "west_sales.resample('Y').sum().plot()\n",
    "central_sales.resample('Y').sum().plot()\n",
    "south_sales.resample('Y').sum().plot()\n",
    "plt.xlabel('Date of Order')\n",
    "plt.ylabel('Sales Value')\n",
    "plt.title('Yearly Total Sales by Region')\n",
    "plt.legend(loc=\"upper left\", bbox_to_anchor=(1, 1))"
   ]
  },
  {
   "cell_type": "code",
   "execution_count": 14,
   "id": "21cee2ff",
   "metadata": {},
   "outputs": [
    {
     "data": {
      "text/plain": [
       "<AxesSubplot:xlabel='segment'>"
      ]
     },
     "execution_count": 14,
     "metadata": {},
     "output_type": "execute_result"
    },
    {
     "data": {
      "image/png": "[encoded data removed]",
      "text/plain": [
       "<Figure size 432x288 with 1 Axes>"
      ]
     },
     "metadata": {
      "needs_background": "light"
     },
     "output_type": "display_data"
    }
   ],
   "source": [
    "west.groupby('segment').sales.mean().plot.bar()"
   ]
  },
  {
   "cell_type": "code",
   "execution_count": 15,
   "id": "773f2ca9",
   "metadata": {},
   "outputs": [
    {
     "data": {
      "text/plain": [
       "<AxesSubplot:xlabel='segment'>"
      ]
     },
     "execution_count": 15,
     "metadata": {},
     "output_type": "execute_result"
    },
    {
     "data": {
      "image/png": "[encoded data removed]",
      "text/plain": [
       "<Figure size 432x288 with 1 Axes>"
      ]
     },
     "metadata": {
      "needs_background": "light"
     },
     "output_type": "display_data"
    }
   ],
   "source": [
    "east.groupby('segment').sales.mean().plot.bar()"
   ]
  },
  {
   "cell_type": "code",
   "execution_count": 16,
   "id": "ba3e67f8",
   "metadata": {},
   "outputs": [
    {
     "data": {
      "text/plain": [
       "<AxesSubplot:xlabel='segment'>"
      ]
     },
     "execution_count": 16,
     "metadata": {},
     "output_type": "execute_result"
    },
    {
     "data": {
      "image/png": "[encoded data removed]",
      "text/plain": [
       "<Figure size 432x288 with 1 Axes>"
      ]
     },
     "metadata": {
      "needs_background": "light"
     },
     "output_type": "display_data"
    }
   ],
   "source": [
    "south.groupby('segment').sales.mean().plot.bar()"
   ]
  },
  {
   "cell_type": "code",
   "execution_count": 17,
   "id": "6431cffa",
   "metadata": {},
   "outputs": [
    {
     "data": {
      "text/plain": [
       "<AxesSubplot:xlabel='segment'>"
      ]
     },
     "execution_count": 17,
     "metadata": {},
     "output_type": "execute_result"
    },
    {
     "data": {
      "image/png": "[encoded data removed]",
      "text/plain": [
       "<Figure size 432x288 with 1 Axes>"
      ]
     },
     "metadata": {
      "needs_background": "light"
     },
     "output_type": "display_data"
    }
   ],
   "source": [
    "central.groupby('segment').sales.mean().plot.bar()"
   ]
  },
  {
   "cell_type": "code",
   "execution_count": 18,
   "id": "c9fff4f6",
   "metadata": {},
   "outputs": [
    {
     "data": {
      "text/plain": [
       "<AxesSubplot:xlabel='category'>"
      ]
     },
     "execution_count": 18,
     "metadata": {},
     "output_type": "execute_result"
    },
    {
     "data": {
      "image/png": "[encoded data removed]",
      "text/plain": [
       "<Figure size 432x288 with 1 Axes>"
      ]
     },
     "metadata": {
      "needs_background": "light"
     },
     "output_type": "display_data"
    }
   ],
   "source": [
    "west.groupby('category').sales.mean().plot.bar()"
   ]
  },
  {
   "cell_type": "code",
   "execution_count": 19,
   "id": "b08c5dd8",
   "metadata": {},
   "outputs": [
    {
     "data": {
      "text/plain": [
       "<AxesSubplot:xlabel='category'>"
      ]
     },
     "execution_count": 19,
     "metadata": {},
     "output_type": "execute_result"
    },
    {
     "data": {
      "image/png": "[encoded data removed]",
      "text/plain": [
       "<Figure size 432x288 with 1 Axes>"
      ]
     },
     "metadata": {
      "needs_background": "light"
     },
     "output_type": "display_data"
    }
   ],
   "source": [
    "east.groupby('category').sales.mean().plot.bar()"
   ]
  },
  {
   "cell_type": "code",
   "execution_count": 20,
   "id": "427b4bc6",
   "metadata": {},
   "outputs": [
    {
     "data": {
      "text/plain": [
       "<AxesSubplot:xlabel='category'>"
      ]
     },
     "execution_count": 20,
     "metadata": {},
     "output_type": "execute_result"
    },
    {
     "data": {
      "image/png": "[encoded data removed]",
      "text/plain": [
       "<Figure size 432x288 with 1 Axes>"
      ]
     },
     "metadata": {
      "needs_background": "light"
     },
     "output_type": "display_data"
    }
   ],
   "source": [
    "central.groupby('category').sales.mean().plot.bar()"
   ]
  },
  {
   "cell_type": "code",
   "execution_count": 21,
   "id": "5db183d4",
   "metadata": {},
   "outputs": [
    {
     "data": {
      "text/plain": [
       "<AxesSubplot:xlabel='category'>"
      ]
     },
     "execution_count": 21,
     "metadata": {},
     "output_type": "execute_result"
    },
    {
     "data": {
      "image/png": "[encoded data removed]",
      "text/plain": [
       "<Figure size 432x288 with 1 Axes>"
      ]
     },
     "metadata": {
      "needs_background": "light"
     },
     "output_type": "display_data"
    }
   ],
   "source": [
    "south.groupby('category').sales.mean().plot.bar()"
   ]
  },
  {
   "cell_type": "code",
   "execution_count": 23,
   "id": "3fcf836f",
   "metadata": {},
   "outputs": [
    {
     "data": {
      "text/html": [
       "<div>\n",
       "<style scoped>\n",
       "    .dataframe tbody tr th:only-of-type {\n",
       "        vertical-align: middle;\n",
       "    }\n",
       "\n",
       "    .dataframe tbody tr th {\n",
       "        vertical-align: top;\n",
       "    }\n",
       "\n",
       "    .dataframe thead th {\n",
       "        text-align: right;\n",
       "    }\n",
       "</style>\n",
       "<table border=\"1\" class=\"dataframe\">\n",
       "  <thead>\n",
       "    <tr style=\"text-align: right;\">\n",
       "      <th></th>\n",
       "      <th>cust_name</th>\n",
       "      <th>sales</th>\n",
       "    </tr>\n",
       "    <tr>\n",
       "      <th>order_date</th>\n",
       "      <th></th>\n",
       "      <th></th>\n",
       "    </tr>\n",
       "  </thead>\n",
       "  <tbody>\n",
       "    <tr>\n",
       "      <th>2017-07-16</th>\n",
       "      <td>Sandra Flanagan</td>\n",
       "      <td>71.372</td>\n",
       "    </tr>\n",
       "    <tr>\n",
       "      <th>2015-09-17</th>\n",
       "      <td>Tracy Blumstein</td>\n",
       "      <td>3083.430</td>\n",
       "    </tr>\n",
       "    <tr>\n",
       "      <th>2015-09-17</th>\n",
       "      <td>Tracy Blumstein</td>\n",
       "      <td>9.618</td>\n",
       "    </tr>\n",
       "    <tr>\n",
       "      <th>2015-09-17</th>\n",
       "      <td>Tracy Blumstein</td>\n",
       "      <td>124.200</td>\n",
       "    </tr>\n",
       "    <tr>\n",
       "      <th>2015-09-17</th>\n",
       "      <td>Tracy Blumstein</td>\n",
       "      <td>3.264</td>\n",
       "    </tr>\n",
       "  </tbody>\n",
       "</table>\n",
       "</div>"
      ],
      "text/plain": [
       "                  cust_name     sales\n",
       "order_date                           \n",
       "2017-07-16  Sandra Flanagan    71.372\n",
       "2015-09-17  Tracy Blumstein  3083.430\n",
       "2015-09-17  Tracy Blumstein     9.618\n",
       "2015-09-17  Tracy Blumstein   124.200\n",
       "2015-09-17  Tracy Blumstein     3.264"
      ]
     },
     "execution_count": 23,
     "metadata": {},
     "output_type": "execute_result"
    }
   ],
   "source": [
    "east_cust_sales = east[['cust_name', 'sales']]\n",
    "east_cust_sales.head()"
   ]
  },
  {
   "cell_type": "code",
   "execution_count": 25,
   "id": "04d7c267",
   "metadata": {},
   "outputs": [
    {
     "data": {
      "text/plain": [
       "<AxesSubplot:xlabel='cust_name'>"
      ]
     },
     "execution_count": 25,
     "metadata": {},
     "output_type": "execute_result"
    },
    {
     "data": {
      "image/png": "[encoded data removed]",
      "text/plain": [
       "<Figure size 432x288 with 1 Axes>"
      ]
     },
     "metadata": {
      "needs_background": "light"
     },
     "output_type": "display_data"
    }
   ],
   "source": [
    "east_cust_sales.groupby('cust_name').sales.sum().plot.bar()"
   ]
  },
  {
   "cell_type": "code",
   "execution_count": 26,
   "id": "a4a47cc2",
   "metadata": {},
   "outputs": [
    {
     "data": {
      "text/plain": [
       "cust_name\n",
       "Karen Daniels      6241.282\n",
       "Nathan Mautz       4807.372\n",
       "Adam Bellavance    4466.616\n",
       "Ross Baird         3655.112\n",
       "Rick Hansen        3419.872\n",
       "Name: sales, dtype: float64"
      ]
     },
     "execution_count": 26,
     "metadata": {},
     "output_type": "execute_result"
    }
   ],
   "source": [
    "east_cust_sales.groupby('cust_name').sales.sum().nlargest()"
   ]
  },
  {
   "cell_type": "code",
   "execution_count": 27,
   "id": "d16bab5c",
   "metadata": {},
   "outputs": [],
   "source": [
    "karen_sales = east_cust_sales[east_cust_sales.cust_name == 'Karen Daniels']"
   ]
  },
  {
   "cell_type": "code",
   "execution_count": 28,
   "id": "4ec20522",
   "metadata": {},
   "outputs": [
    {
     "data": {
      "text/html": [
       "<div>\n",
       "<style scoped>\n",
       "    .dataframe tbody tr th:only-of-type {\n",
       "        vertical-align: middle;\n",
       "    }\n",
       "\n",
       "    .dataframe tbody tr th {\n",
       "        vertical-align: top;\n",
       "    }\n",
       "\n",
       "    .dataframe thead th {\n",
       "        text-align: right;\n",
       "    }\n",
       "</style>\n",
       "<table border=\"1\" class=\"dataframe\">\n",
       "  <thead>\n",
       "    <tr style=\"text-align: right;\">\n",
       "      <th></th>\n",
       "      <th>cust_name</th>\n",
       "      <th>sales</th>\n",
       "    </tr>\n",
       "    <tr>\n",
       "      <th>order_date</th>\n",
       "      <th></th>\n",
       "      <th></th>\n",
       "    </tr>\n",
       "  </thead>\n",
       "  <tbody>\n",
       "    <tr>\n",
       "      <th>2016-03-01</th>\n",
       "      <td>Karen Daniels</td>\n",
       "      <td>836.592</td>\n",
       "    </tr>\n",
       "    <tr>\n",
       "      <th>2016-03-01</th>\n",
       "      <td>Karen Daniels</td>\n",
       "      <td>26.380</td>\n",
       "    </tr>\n",
       "    <tr>\n",
       "      <th>2016-03-01</th>\n",
       "      <td>Karen Daniels</td>\n",
       "      <td>362.920</td>\n",
       "    </tr>\n",
       "    <tr>\n",
       "      <th>2016-03-01</th>\n",
       "      <td>Karen Daniels</td>\n",
       "      <td>4899.930</td>\n",
       "    </tr>\n",
       "    <tr>\n",
       "      <th>2016-09-02</th>\n",
       "      <td>Karen Daniels</td>\n",
       "      <td>75.480</td>\n",
       "    </tr>\n",
       "  </tbody>\n",
       "</table>\n",
       "</div>"
      ],
      "text/plain": [
       "                cust_name     sales\n",
       "order_date                         \n",
       "2016-03-01  Karen Daniels   836.592\n",
       "2016-03-01  Karen Daniels    26.380\n",
       "2016-03-01  Karen Daniels   362.920\n",
       "2016-03-01  Karen Daniels  4899.930\n",
       "2016-09-02  Karen Daniels    75.480"
      ]
     },
     "execution_count": 28,
     "metadata": {},
     "output_type": "execute_result"
    }
   ],
   "source": [
    "karen_sales.head()"
   ]
  },
  {
   "cell_type": "code",
   "execution_count": 35,
   "id": "7969686d",
   "metadata": {},
   "outputs": [
    {
     "data": {
      "text/plain": [
       "<AxesSubplot:xlabel='order_date'>"
      ]
     },
     "execution_count": 35,
     "metadata": {},
     "output_type": "execute_result"
    },
    {
     "data": {
      "image/png": "[encoded data removed]",
      "text/plain": [
       "<Figure size 432x288 with 1 Axes>"
      ]
     },
     "metadata": {
      "needs_background": "light"
     },
     "output_type": "display_data"
    }
   ],
   "source": [
    "karen_sales.resample('D').sum().plot()"
   ]
  },
  {
   "cell_type": "code",
   "execution_count": 36,
   "id": "0c430e26",
   "metadata": {},
   "outputs": [
    {
     "data": {
      "text/html": [
       "<div>\n",
       "<style scoped>\n",
       "    .dataframe tbody tr th:only-of-type {\n",
       "        vertical-align: middle;\n",
       "    }\n",
       "\n",
       "    .dataframe tbody tr th {\n",
       "        vertical-align: top;\n",
       "    }\n",
       "\n",
       "    .dataframe thead th {\n",
       "        text-align: right;\n",
       "    }\n",
       "</style>\n",
       "<table border=\"1\" class=\"dataframe\">\n",
       "  <thead>\n",
       "    <tr style=\"text-align: right;\">\n",
       "      <th></th>\n",
       "      <th>cust_name</th>\n",
       "      <th>sales</th>\n",
       "    </tr>\n",
       "    <tr>\n",
       "      <th>order_date</th>\n",
       "      <th></th>\n",
       "      <th></th>\n",
       "    </tr>\n",
       "  </thead>\n",
       "  <tbody>\n",
       "    <tr>\n",
       "      <th>2016-03-01</th>\n",
       "      <td>Karen Daniels</td>\n",
       "      <td>836.592</td>\n",
       "    </tr>\n",
       "    <tr>\n",
       "      <th>2016-03-01</th>\n",
       "      <td>Karen Daniels</td>\n",
       "      <td>26.380</td>\n",
       "    </tr>\n",
       "    <tr>\n",
       "      <th>2016-03-01</th>\n",
       "      <td>Karen Daniels</td>\n",
       "      <td>362.920</td>\n",
       "    </tr>\n",
       "    <tr>\n",
       "      <th>2016-03-01</th>\n",
       "      <td>Karen Daniels</td>\n",
       "      <td>4899.930</td>\n",
       "    </tr>\n",
       "    <tr>\n",
       "      <th>2016-09-02</th>\n",
       "      <td>Karen Daniels</td>\n",
       "      <td>75.480</td>\n",
       "    </tr>\n",
       "    <tr>\n",
       "      <th>2016-09-02</th>\n",
       "      <td>Karen Daniels</td>\n",
       "      <td>39.980</td>\n",
       "    </tr>\n",
       "  </tbody>\n",
       "</table>\n",
       "</div>"
      ],
      "text/plain": [
       "                cust_name     sales\n",
       "order_date                         \n",
       "2016-03-01  Karen Daniels   836.592\n",
       "2016-03-01  Karen Daniels    26.380\n",
       "2016-03-01  Karen Daniels   362.920\n",
       "2016-03-01  Karen Daniels  4899.930\n",
       "2016-09-02  Karen Daniels    75.480\n",
       "2016-09-02  Karen Daniels    39.980"
      ]
     },
     "execution_count": 36,
     "metadata": {},
     "output_type": "execute_result"
    }
   ],
   "source": [
    "karen_sales"
   ]
  },
  {
   "cell_type": "code",
   "execution_count": 40,
   "id": "d79fcb1b",
   "metadata": {},
   "outputs": [
    {
     "data": {
      "text/html": [
       "<div>\n",
       "<style scoped>\n",
       "    .dataframe tbody tr th:only-of-type {\n",
       "        vertical-align: middle;\n",
       "    }\n",
       "\n",
       "    .dataframe tbody tr th {\n",
       "        vertical-align: top;\n",
       "    }\n",
       "\n",
       "    .dataframe thead th {\n",
       "        text-align: right;\n",
       "    }\n",
       "</style>\n",
       "<table border=\"1\" class=\"dataframe\">\n",
       "  <thead>\n",
       "    <tr style=\"text-align: right;\">\n",
       "      <th></th>\n",
       "      <th>cust_name</th>\n",
       "      <th>sales</th>\n",
       "    </tr>\n",
       "    <tr>\n",
       "      <th>order_date</th>\n",
       "      <th></th>\n",
       "      <th></th>\n",
       "    </tr>\n",
       "  </thead>\n",
       "  <tbody>\n",
       "    <tr>\n",
       "      <th>2015-11-22</th>\n",
       "      <td>Harold Pawlan</td>\n",
       "      <td>68.810</td>\n",
       "    </tr>\n",
       "    <tr>\n",
       "      <th>2015-11-22</th>\n",
       "      <td>Harold Pawlan</td>\n",
       "      <td>2.544</td>\n",
       "    </tr>\n",
       "    <tr>\n",
       "      <th>2014-11-11</th>\n",
       "      <td>Pete Kriz</td>\n",
       "      <td>665.880</td>\n",
       "    </tr>\n",
       "    <tr>\n",
       "      <th>2016-12-09</th>\n",
       "      <td>Ken Black</td>\n",
       "      <td>19.460</td>\n",
       "    </tr>\n",
       "    <tr>\n",
       "      <th>2016-12-09</th>\n",
       "      <td>Ken Black</td>\n",
       "      <td>60.340</td>\n",
       "    </tr>\n",
       "  </tbody>\n",
       "</table>\n",
       "</div>"
      ],
      "text/plain": [
       "                cust_name    sales\n",
       "order_date                        \n",
       "2015-11-22  Harold Pawlan   68.810\n",
       "2015-11-22  Harold Pawlan    2.544\n",
       "2014-11-11      Pete Kriz  665.880\n",
       "2016-12-09      Ken Black   19.460\n",
       "2016-12-09      Ken Black   60.340"
      ]
     },
     "execution_count": 40,
     "metadata": {},
     "output_type": "execute_result"
    }
   ],
   "source": [
    "central_cust_sales = central[['cust_name', 'sales']]\n",
    "central_cust_sales.head()"
   ]
  },
  {
   "cell_type": "code",
   "execution_count": 44,
   "id": "ee849c06",
   "metadata": {},
   "outputs": [
    {
     "name": "stderr",
     "output_type": "stream",
     "text": [
      "/var/folders/n7/fjb2f8gd5jg17xlxz1c85vhc0000gn/T/ipykernel_51512/2906073818.py:1: SettingWithCopyWarning: \n",
      "A value is trying to be set on a copy of a slice from a DataFrame.\n",
      "Try using .loc[row_indexer,col_indexer] = value instead\n",
      "\n",
      "See the caveats in the documentation: https://pandas.pydata.org/pandas-docs/stable/user_guide/indexing.html#returning-a-view-versus-a-copy\n",
      "  central_cust_sales['last_purchase'] = central_cust_sales['cust_name'].apply(lambda x: central_cust_sales[central_cust_sales['cust_name'] == x].index.max())\n"
     ]
    }
   ],
   "source": [
    "central_cust_sales['last_purchase'] = central_cust_sales['cust_name'].apply(lambda x: central_cust_sales[central_cust_sales['cust_name'] == x].index.max())\n",
    "                                                                                                         \n",
    "                                                                                                         "
   ]
  },
  {
   "cell_type": "code",
   "execution_count": 45,
   "id": "5fda40b6",
   "metadata": {},
   "outputs": [
    {
     "data": {
      "text/html": [
       "<div>\n",
       "<style scoped>\n",
       "    .dataframe tbody tr th:only-of-type {\n",
       "        vertical-align: middle;\n",
       "    }\n",
       "\n",
       "    .dataframe tbody tr th {\n",
       "        vertical-align: top;\n",
       "    }\n",
       "\n",
       "    .dataframe thead th {\n",
       "        text-align: right;\n",
       "    }\n",
       "</style>\n",
       "<table border=\"1\" class=\"dataframe\">\n",
       "  <thead>\n",
       "    <tr style=\"text-align: right;\">\n",
       "      <th></th>\n",
       "      <th>cust_name</th>\n",
       "      <th>sales</th>\n",
       "      <th>last_purchase</th>\n",
       "    </tr>\n",
       "    <tr>\n",
       "      <th>order_date</th>\n",
       "      <th></th>\n",
       "      <th></th>\n",
       "      <th></th>\n",
       "    </tr>\n",
       "  </thead>\n",
       "  <tbody>\n",
       "    <tr>\n",
       "      <th>2015-11-22</th>\n",
       "      <td>Harold Pawlan</td>\n",
       "      <td>68.810</td>\n",
       "      <td>2015-11-22</td>\n",
       "    </tr>\n",
       "    <tr>\n",
       "      <th>2015-11-22</th>\n",
       "      <td>Harold Pawlan</td>\n",
       "      <td>2.544</td>\n",
       "      <td>2015-11-22</td>\n",
       "    </tr>\n",
       "    <tr>\n",
       "      <th>2014-11-11</th>\n",
       "      <td>Pete Kriz</td>\n",
       "      <td>665.880</td>\n",
       "      <td>2016-09-05</td>\n",
       "    </tr>\n",
       "    <tr>\n",
       "      <th>2016-12-09</th>\n",
       "      <td>Ken Black</td>\n",
       "      <td>19.460</td>\n",
       "      <td>2016-12-09</td>\n",
       "    </tr>\n",
       "    <tr>\n",
       "      <th>2016-12-09</th>\n",
       "      <td>Ken Black</td>\n",
       "      <td>60.340</td>\n",
       "      <td>2016-12-09</td>\n",
       "    </tr>\n",
       "    <tr>\n",
       "      <th>...</th>\n",
       "      <td>...</td>\n",
       "      <td>...</td>\n",
       "      <td>...</td>\n",
       "    </tr>\n",
       "    <tr>\n",
       "      <th>2015-12-20</th>\n",
       "      <td>Katherine Ducich</td>\n",
       "      <td>159.984</td>\n",
       "      <td>2015-12-20</td>\n",
       "    </tr>\n",
       "    <tr>\n",
       "      <th>2015-12-20</th>\n",
       "      <td>Katherine Ducich</td>\n",
       "      <td>255.968</td>\n",
       "      <td>2015-12-20</td>\n",
       "    </tr>\n",
       "    <tr>\n",
       "      <th>2015-12-20</th>\n",
       "      <td>Katherine Ducich</td>\n",
       "      <td>359.058</td>\n",
       "      <td>2015-12-20</td>\n",
       "    </tr>\n",
       "    <tr>\n",
       "      <th>2016-07-10</th>\n",
       "      <td>Logan Haushalter</td>\n",
       "      <td>338.040</td>\n",
       "      <td>2016-07-10</td>\n",
       "    </tr>\n",
       "    <tr>\n",
       "      <th>2016-07-10</th>\n",
       "      <td>Logan Haushalter</td>\n",
       "      <td>154.240</td>\n",
       "      <td>2016-07-10</td>\n",
       "    </tr>\n",
       "  </tbody>\n",
       "</table>\n",
       "<p>389 rows × 3 columns</p>\n",
       "</div>"
      ],
      "text/plain": [
       "                   cust_name    sales last_purchase\n",
       "order_date                                         \n",
       "2015-11-22     Harold Pawlan   68.810    2015-11-22\n",
       "2015-11-22     Harold Pawlan    2.544    2015-11-22\n",
       "2014-11-11         Pete Kriz  665.880    2016-09-05\n",
       "2016-12-09         Ken Black   19.460    2016-12-09\n",
       "2016-12-09         Ken Black   60.340    2016-12-09\n",
       "...                      ...      ...           ...\n",
       "2015-12-20  Katherine Ducich  159.984    2015-12-20\n",
       "2015-12-20  Katherine Ducich  255.968    2015-12-20\n",
       "2015-12-20  Katherine Ducich  359.058    2015-12-20\n",
       "2016-07-10  Logan Haushalter  338.040    2016-07-10\n",
       "2016-07-10  Logan Haushalter  154.240    2016-07-10\n",
       "\n",
       "[389 rows x 3 columns]"
      ]
     },
     "execution_count": 45,
     "metadata": {},
     "output_type": "execute_result"
    }
   ],
   "source": [
    "central_cust_sales"
   ]
  },
  {
   "cell_type": "code",
   "execution_count": 46,
   "id": "c69100f7",
   "metadata": {},
   "outputs": [
    {
     "name": "stdout",
     "output_type": "stream",
     "text": [
      "<class 'pandas.core.frame.DataFrame'>\n",
      "DatetimeIndex: 389 entries, 2015-11-22 to 2016-07-10\n",
      "Data columns (total 3 columns):\n",
      " #   Column         Non-Null Count  Dtype         \n",
      "---  ------         --------------  -----         \n",
      " 0   cust_name      389 non-null    object        \n",
      " 1   sales          389 non-null    float64       \n",
      " 2   last_purchase  389 non-null    datetime64[ns]\n",
      "dtypes: datetime64[ns](1), float64(1), object(1)\n",
      "memory usage: 12.2+ KB\n"
     ]
    }
   ],
   "source": [
    "central_cust_sales.info()"
   ]
  },
  {
   "cell_type": "code",
   "execution_count": null,
   "id": "060bf235",
   "metadata": {},
   "outputs": [],
   "source": []
  },
  {
   "cell_type": "code",
   "execution_count": 48,
   "id": "7c7d673d",
   "metadata": {},
   "outputs": [
    {
     "name": "stderr",
     "output_type": "stream",
     "text": [
      "/var/folders/n7/fjb2f8gd5jg17xlxz1c85vhc0000gn/T/ipykernel_51512/307422048.py:7: SettingWithCopyWarning: \n",
      "A value is trying to be set on a copy of a slice from a DataFrame.\n",
      "Try using .loc[row_indexer,col_indexer] = value instead\n",
      "\n",
      "See the caveats in the documentation: https://pandas.pydata.org/pandas-docs/stable/user_guide/indexing.html#returning-a-view-versus-a-copy\n",
      "  central_cust_sales['recency'] = central_cust_sales['last_purchase'].apply(lambda x: (today - x).days)\n"
     ]
    }
   ],
   "source": [
    "\n",
    "today = pd.to_datetime('2017-12-30')\n",
    "    \n",
    "central_cust_sales['recency'] = central_cust_sales['last_purchase'].apply(lambda x: (today - x).days)"
   ]
  },
  {
   "cell_type": "code",
   "execution_count": 49,
   "id": "885057ae",
   "metadata": {},
   "outputs": [
    {
     "data": {
      "text/html": [
       "<div>\n",
       "<style scoped>\n",
       "    .dataframe tbody tr th:only-of-type {\n",
       "        vertical-align: middle;\n",
       "    }\n",
       "\n",
       "    .dataframe tbody tr th {\n",
       "        vertical-align: top;\n",
       "    }\n",
       "\n",
       "    .dataframe thead th {\n",
       "        text-align: right;\n",
       "    }\n",
       "</style>\n",
       "<table border=\"1\" class=\"dataframe\">\n",
       "  <thead>\n",
       "    <tr style=\"text-align: right;\">\n",
       "      <th></th>\n",
       "      <th>cust_name</th>\n",
       "      <th>sales</th>\n",
       "      <th>last_purchase</th>\n",
       "      <th>recency</th>\n",
       "    </tr>\n",
       "    <tr>\n",
       "      <th>order_date</th>\n",
       "      <th></th>\n",
       "      <th></th>\n",
       "      <th></th>\n",
       "      <th></th>\n",
       "    </tr>\n",
       "  </thead>\n",
       "  <tbody>\n",
       "    <tr>\n",
       "      <th>2015-11-22</th>\n",
       "      <td>Harold Pawlan</td>\n",
       "      <td>68.810</td>\n",
       "      <td>2015-11-22</td>\n",
       "      <td>769</td>\n",
       "    </tr>\n",
       "    <tr>\n",
       "      <th>2015-11-22</th>\n",
       "      <td>Harold Pawlan</td>\n",
       "      <td>2.544</td>\n",
       "      <td>2015-11-22</td>\n",
       "      <td>769</td>\n",
       "    </tr>\n",
       "    <tr>\n",
       "      <th>2014-11-11</th>\n",
       "      <td>Pete Kriz</td>\n",
       "      <td>665.880</td>\n",
       "      <td>2016-09-05</td>\n",
       "      <td>481</td>\n",
       "    </tr>\n",
       "    <tr>\n",
       "      <th>2016-12-09</th>\n",
       "      <td>Ken Black</td>\n",
       "      <td>19.460</td>\n",
       "      <td>2016-12-09</td>\n",
       "      <td>386</td>\n",
       "    </tr>\n",
       "    <tr>\n",
       "      <th>2016-12-09</th>\n",
       "      <td>Ken Black</td>\n",
       "      <td>60.340</td>\n",
       "      <td>2016-12-09</td>\n",
       "      <td>386</td>\n",
       "    </tr>\n",
       "  </tbody>\n",
       "</table>\n",
       "</div>"
      ],
      "text/plain": [
       "                cust_name    sales last_purchase  recency\n",
       "order_date                                               \n",
       "2015-11-22  Harold Pawlan   68.810    2015-11-22      769\n",
       "2015-11-22  Harold Pawlan    2.544    2015-11-22      769\n",
       "2014-11-11      Pete Kriz  665.880    2016-09-05      481\n",
       "2016-12-09      Ken Black   19.460    2016-12-09      386\n",
       "2016-12-09      Ken Black   60.340    2016-12-09      386"
      ]
     },
     "execution_count": 49,
     "metadata": {},
     "output_type": "execute_result"
    }
   ],
   "source": [
    "central_cust_sales.head()"
   ]
  },
  {
   "cell_type": "code",
   "execution_count": 59,
   "id": "5e97c7b0",
   "metadata": {},
   "outputs": [],
   "source": [
    "\n",
    "\n",
    "\n",
    "central_cust_sales['frequency'] = central_cust_sales['cust_name'].apply(lambda x: central_cust_sales[central_cust_sales['cust_name'] == x].size)\n",
    "\n",
    "\n"
   ]
  },
  {
   "cell_type": "code",
   "execution_count": 60,
   "id": "3bc7a621",
   "metadata": {},
   "outputs": [
    {
     "data": {
      "text/html": [
       "<div>\n",
       "<style scoped>\n",
       "    .dataframe tbody tr th:only-of-type {\n",
       "        vertical-align: middle;\n",
       "    }\n",
       "\n",
       "    .dataframe tbody tr th {\n",
       "        vertical-align: top;\n",
       "    }\n",
       "\n",
       "    .dataframe thead th {\n",
       "        text-align: right;\n",
       "    }\n",
       "</style>\n",
       "<table border=\"1\" class=\"dataframe\">\n",
       "  <thead>\n",
       "    <tr style=\"text-align: right;\">\n",
       "      <th></th>\n",
       "      <th>cust_name</th>\n",
       "      <th>sales</th>\n",
       "      <th>last_purchase</th>\n",
       "      <th>recency</th>\n",
       "      <th>frequency</th>\n",
       "    </tr>\n",
       "    <tr>\n",
       "      <th>order_date</th>\n",
       "      <th></th>\n",
       "      <th></th>\n",
       "      <th></th>\n",
       "      <th></th>\n",
       "      <th></th>\n",
       "    </tr>\n",
       "  </thead>\n",
       "  <tbody>\n",
       "    <tr>\n",
       "      <th>2015-11-22</th>\n",
       "      <td>Harold Pawlan</td>\n",
       "      <td>68.810</td>\n",
       "      <td>2015-11-22</td>\n",
       "      <td>769</td>\n",
       "      <td>12</td>\n",
       "    </tr>\n",
       "    <tr>\n",
       "      <th>2015-11-22</th>\n",
       "      <td>Harold Pawlan</td>\n",
       "      <td>2.544</td>\n",
       "      <td>2015-11-22</td>\n",
       "      <td>769</td>\n",
       "      <td>12</td>\n",
       "    </tr>\n",
       "    <tr>\n",
       "      <th>2014-11-11</th>\n",
       "      <td>Pete Kriz</td>\n",
       "      <td>665.880</td>\n",
       "      <td>2016-09-05</td>\n",
       "      <td>481</td>\n",
       "      <td>28</td>\n",
       "    </tr>\n",
       "    <tr>\n",
       "      <th>2016-12-09</th>\n",
       "      <td>Ken Black</td>\n",
       "      <td>19.460</td>\n",
       "      <td>2016-12-09</td>\n",
       "      <td>386</td>\n",
       "      <td>8</td>\n",
       "    </tr>\n",
       "    <tr>\n",
       "      <th>2016-12-09</th>\n",
       "      <td>Ken Black</td>\n",
       "      <td>60.340</td>\n",
       "      <td>2016-12-09</td>\n",
       "      <td>386</td>\n",
       "      <td>8</td>\n",
       "    </tr>\n",
       "  </tbody>\n",
       "</table>\n",
       "</div>"
      ],
      "text/plain": [
       "                cust_name    sales last_purchase  recency  frequency\n",
       "order_date                                                          \n",
       "2015-11-22  Harold Pawlan   68.810    2015-11-22      769         12\n",
       "2015-11-22  Harold Pawlan    2.544    2015-11-22      769         12\n",
       "2014-11-11      Pete Kriz  665.880    2016-09-05      481         28\n",
       "2016-12-09      Ken Black   19.460    2016-12-09      386          8\n",
       "2016-12-09      Ken Black   60.340    2016-12-09      386          8"
      ]
     },
     "execution_count": 60,
     "metadata": {},
     "output_type": "execute_result"
    }
   ],
   "source": [
    "central_cust_sales.head()"
   ]
  },
  {
   "cell_type": "code",
   "execution_count": 61,
   "id": "160aff1a",
   "metadata": {},
   "outputs": [],
   "source": [
    "central_cust_sales['monetary'] = central_cust_sales['cust_name'].apply(lambda x: central_cust_sales[central_cust_sales['cust_name'] == x].sales.sum())\n",
    "                                                                       \n",
    "                                                                       \n",
    "                                                                       "
   ]
  },
  {
   "cell_type": "code",
   "execution_count": 62,
   "id": "d59bbbd7",
   "metadata": {},
   "outputs": [
    {
     "data": {
      "text/html": [
       "<div>\n",
       "<style scoped>\n",
       "    .dataframe tbody tr th:only-of-type {\n",
       "        vertical-align: middle;\n",
       "    }\n",
       "\n",
       "    .dataframe tbody tr th {\n",
       "        vertical-align: top;\n",
       "    }\n",
       "\n",
       "    .dataframe thead th {\n",
       "        text-align: right;\n",
       "    }\n",
       "</style>\n",
       "<table border=\"1\" class=\"dataframe\">\n",
       "  <thead>\n",
       "    <tr style=\"text-align: right;\">\n",
       "      <th></th>\n",
       "      <th>cust_name</th>\n",
       "      <th>sales</th>\n",
       "      <th>last_purchase</th>\n",
       "      <th>recency</th>\n",
       "      <th>frequency</th>\n",
       "      <th>monetary</th>\n",
       "    </tr>\n",
       "    <tr>\n",
       "      <th>order_date</th>\n",
       "      <th></th>\n",
       "      <th></th>\n",
       "      <th></th>\n",
       "      <th></th>\n",
       "      <th></th>\n",
       "      <th></th>\n",
       "    </tr>\n",
       "  </thead>\n",
       "  <tbody>\n",
       "    <tr>\n",
       "      <th>2015-11-22</th>\n",
       "      <td>Harold Pawlan</td>\n",
       "      <td>68.810</td>\n",
       "      <td>2015-11-22</td>\n",
       "      <td>769</td>\n",
       "      <td>12</td>\n",
       "      <td>141.474</td>\n",
       "    </tr>\n",
       "    <tr>\n",
       "      <th>2015-11-22</th>\n",
       "      <td>Harold Pawlan</td>\n",
       "      <td>2.544</td>\n",
       "      <td>2015-11-22</td>\n",
       "      <td>769</td>\n",
       "      <td>12</td>\n",
       "      <td>141.474</td>\n",
       "    </tr>\n",
       "    <tr>\n",
       "      <th>2014-11-11</th>\n",
       "      <td>Pete Kriz</td>\n",
       "      <td>665.880</td>\n",
       "      <td>2016-09-05</td>\n",
       "      <td>481</td>\n",
       "      <td>28</td>\n",
       "      <td>1300.340</td>\n",
       "    </tr>\n",
       "    <tr>\n",
       "      <th>2016-12-09</th>\n",
       "      <td>Ken Black</td>\n",
       "      <td>19.460</td>\n",
       "      <td>2016-12-09</td>\n",
       "      <td>386</td>\n",
       "      <td>8</td>\n",
       "      <td>79.800</td>\n",
       "    </tr>\n",
       "    <tr>\n",
       "      <th>2016-12-09</th>\n",
       "      <td>Ken Black</td>\n",
       "      <td>60.340</td>\n",
       "      <td>2016-12-09</td>\n",
       "      <td>386</td>\n",
       "      <td>8</td>\n",
       "      <td>79.800</td>\n",
       "    </tr>\n",
       "  </tbody>\n",
       "</table>\n",
       "</div>"
      ],
      "text/plain": [
       "                cust_name    sales last_purchase  recency  frequency  monetary\n",
       "order_date                                                                    \n",
       "2015-11-22  Harold Pawlan   68.810    2015-11-22      769         12   141.474\n",
       "2015-11-22  Harold Pawlan    2.544    2015-11-22      769         12   141.474\n",
       "2014-11-11      Pete Kriz  665.880    2016-09-05      481         28  1300.340\n",
       "2016-12-09      Ken Black   19.460    2016-12-09      386          8    79.800\n",
       "2016-12-09      Ken Black   60.340    2016-12-09      386          8    79.800"
      ]
     },
     "execution_count": 62,
     "metadata": {},
     "output_type": "execute_result"
    }
   ],
   "source": [
    "central_cust_sales.head()"
   ]
  },
  {
   "cell_type": "code",
   "execution_count": 68,
   "id": "cc341253",
   "metadata": {},
   "outputs": [
    {
     "data": {
      "text/plain": [
       "175"
      ]
     },
     "execution_count": 68,
     "metadata": {},
     "output_type": "execute_result"
    }
   ],
   "source": [
    "central_cust_sales.cust_name.nunique()"
   ]
  },
  {
   "cell_type": "code",
   "execution_count": 63,
   "id": "bb8432d7",
   "metadata": {},
   "outputs": [],
   "source": [
    "central_customer_rating = central_cust_sales.drop(columns=['sales', 'last_purchase'])"
   ]
  },
  {
   "cell_type": "code",
   "execution_count": 64,
   "id": "0839f93e",
   "metadata": {},
   "outputs": [
    {
     "data": {
      "text/html": [
       "<div>\n",
       "<style scoped>\n",
       "    .dataframe tbody tr th:only-of-type {\n",
       "        vertical-align: middle;\n",
       "    }\n",
       "\n",
       "    .dataframe tbody tr th {\n",
       "        vertical-align: top;\n",
       "    }\n",
       "\n",
       "    .dataframe thead th {\n",
       "        text-align: right;\n",
       "    }\n",
       "</style>\n",
       "<table border=\"1\" class=\"dataframe\">\n",
       "  <thead>\n",
       "    <tr style=\"text-align: right;\">\n",
       "      <th></th>\n",
       "      <th>cust_name</th>\n",
       "      <th>recency</th>\n",
       "      <th>frequency</th>\n",
       "      <th>monetary</th>\n",
       "    </tr>\n",
       "    <tr>\n",
       "      <th>order_date</th>\n",
       "      <th></th>\n",
       "      <th></th>\n",
       "      <th></th>\n",
       "      <th></th>\n",
       "    </tr>\n",
       "  </thead>\n",
       "  <tbody>\n",
       "    <tr>\n",
       "      <th>2015-11-22</th>\n",
       "      <td>Harold Pawlan</td>\n",
       "      <td>769</td>\n",
       "      <td>12</td>\n",
       "      <td>141.474</td>\n",
       "    </tr>\n",
       "    <tr>\n",
       "      <th>2015-11-22</th>\n",
       "      <td>Harold Pawlan</td>\n",
       "      <td>769</td>\n",
       "      <td>12</td>\n",
       "      <td>141.474</td>\n",
       "    </tr>\n",
       "    <tr>\n",
       "      <th>2014-11-11</th>\n",
       "      <td>Pete Kriz</td>\n",
       "      <td>481</td>\n",
       "      <td>28</td>\n",
       "      <td>1300.340</td>\n",
       "    </tr>\n",
       "    <tr>\n",
       "      <th>2016-12-09</th>\n",
       "      <td>Ken Black</td>\n",
       "      <td>386</td>\n",
       "      <td>8</td>\n",
       "      <td>79.800</td>\n",
       "    </tr>\n",
       "    <tr>\n",
       "      <th>2016-12-09</th>\n",
       "      <td>Ken Black</td>\n",
       "      <td>386</td>\n",
       "      <td>8</td>\n",
       "      <td>79.800</td>\n",
       "    </tr>\n",
       "  </tbody>\n",
       "</table>\n",
       "</div>"
      ],
      "text/plain": [
       "                cust_name  recency  frequency  monetary\n",
       "order_date                                             \n",
       "2015-11-22  Harold Pawlan      769         12   141.474\n",
       "2015-11-22  Harold Pawlan      769         12   141.474\n",
       "2014-11-11      Pete Kriz      481         28  1300.340\n",
       "2016-12-09      Ken Black      386          8    79.800\n",
       "2016-12-09      Ken Black      386          8    79.800"
      ]
     },
     "execution_count": 64,
     "metadata": {},
     "output_type": "execute_result"
    }
   ],
   "source": [
    "central_customer_rating.head()"
   ]
  },
  {
   "cell_type": "code",
   "execution_count": 65,
   "id": "5be0cb00",
   "metadata": {},
   "outputs": [],
   "source": [
    "central_customer_rating = central_customer_rating.groupby('cust_name').max()"
   ]
  },
  {
   "cell_type": "code",
   "execution_count": 66,
   "id": "01bfc7fa",
   "metadata": {},
   "outputs": [
    {
     "data": {
      "text/html": [
       "<div>\n",
       "<style scoped>\n",
       "    .dataframe tbody tr th:only-of-type {\n",
       "        vertical-align: middle;\n",
       "    }\n",
       "\n",
       "    .dataframe tbody tr th {\n",
       "        vertical-align: top;\n",
       "    }\n",
       "\n",
       "    .dataframe thead th {\n",
       "        text-align: right;\n",
       "    }\n",
       "</style>\n",
       "<table border=\"1\" class=\"dataframe\">\n",
       "  <thead>\n",
       "    <tr style=\"text-align: right;\">\n",
       "      <th></th>\n",
       "      <th>recency</th>\n",
       "      <th>frequency</th>\n",
       "      <th>monetary</th>\n",
       "    </tr>\n",
       "    <tr>\n",
       "      <th>cust_name</th>\n",
       "      <th></th>\n",
       "      <th></th>\n",
       "      <th></th>\n",
       "    </tr>\n",
       "  </thead>\n",
       "  <tbody>\n",
       "    <tr>\n",
       "      <th>Aimee Bixby</th>\n",
       "      <td>41</td>\n",
       "      <td>16</td>\n",
       "      <td>138.696</td>\n",
       "    </tr>\n",
       "    <tr>\n",
       "      <th>Alan Dominguez</th>\n",
       "      <td>1100</td>\n",
       "      <td>4</td>\n",
       "      <td>600.558</td>\n",
       "    </tr>\n",
       "    <tr>\n",
       "      <th>Alejandro Ballentine</th>\n",
       "      <td>552</td>\n",
       "      <td>4</td>\n",
       "      <td>13.616</td>\n",
       "    </tr>\n",
       "    <tr>\n",
       "      <th>Alex Avila</th>\n",
       "      <td>184</td>\n",
       "      <td>8</td>\n",
       "      <td>374.480</td>\n",
       "    </tr>\n",
       "    <tr>\n",
       "      <th>Alice McCarthy</th>\n",
       "      <td>532</td>\n",
       "      <td>8</td>\n",
       "      <td>57.240</td>\n",
       "    </tr>\n",
       "  </tbody>\n",
       "</table>\n",
       "</div>"
      ],
      "text/plain": [
       "                      recency  frequency  monetary\n",
       "cust_name                                         \n",
       "Aimee Bixby                41         16   138.696\n",
       "Alan Dominguez           1100          4   600.558\n",
       "Alejandro Ballentine      552          4    13.616\n",
       "Alex Avila                184          8   374.480\n",
       "Alice McCarthy            532          8    57.240"
      ]
     },
     "execution_count": 66,
     "metadata": {},
     "output_type": "execute_result"
    }
   ],
   "source": [
    "central_customer_rating.head()"
   ]
  },
  {
   "cell_type": "code",
   "execution_count": 67,
   "id": "67c8a908",
   "metadata": {},
   "outputs": [
    {
     "data": {
      "text/plain": [
       "(175, 3)"
      ]
     },
     "execution_count": 67,
     "metadata": {},
     "output_type": "execute_result"
    }
   ],
   "source": [
    "central_customer_rating.shape"
   ]
  },
  {
   "cell_type": "code",
   "execution_count": 69,
   "id": "03dbf348",
   "metadata": {},
   "outputs": [
    {
     "data": {
      "text/html": [
       "<div>\n",
       "<style scoped>\n",
       "    .dataframe tbody tr th:only-of-type {\n",
       "        vertical-align: middle;\n",
       "    }\n",
       "\n",
       "    .dataframe tbody tr th {\n",
       "        vertical-align: top;\n",
       "    }\n",
       "\n",
       "    .dataframe thead th {\n",
       "        text-align: right;\n",
       "    }\n",
       "</style>\n",
       "<table border=\"1\" class=\"dataframe\">\n",
       "  <thead>\n",
       "    <tr style=\"text-align: right;\">\n",
       "      <th></th>\n",
       "      <th>recency</th>\n",
       "      <th>frequency</th>\n",
       "      <th>monetary</th>\n",
       "      <th>r_rank_norm</th>\n",
       "      <th>f_rank_norm</th>\n",
       "      <th>m_rank_norm</th>\n",
       "    </tr>\n",
       "    <tr>\n",
       "      <th>cust_name</th>\n",
       "      <th></th>\n",
       "      <th></th>\n",
       "      <th></th>\n",
       "      <th></th>\n",
       "      <th></th>\n",
       "      <th></th>\n",
       "    </tr>\n",
       "  </thead>\n",
       "  <tbody>\n",
       "    <tr>\n",
       "      <th>Aimee Bixby</th>\n",
       "      <td>41</td>\n",
       "      <td>16</td>\n",
       "      <td>138.696</td>\n",
       "      <td>91.142857</td>\n",
       "      <td>16.727273</td>\n",
       "      <td>55.428571</td>\n",
       "    </tr>\n",
       "    <tr>\n",
       "      <th>Alan Dominguez</th>\n",
       "      <td>1100</td>\n",
       "      <td>4</td>\n",
       "      <td>600.558</td>\n",
       "      <td>15.142857</td>\n",
       "      <td>100.000000</td>\n",
       "      <td>23.428571</td>\n",
       "    </tr>\n",
       "    <tr>\n",
       "      <th>Alejandro Ballentine</th>\n",
       "      <td>552</td>\n",
       "      <td>4</td>\n",
       "      <td>13.616</td>\n",
       "      <td>44.571429</td>\n",
       "      <td>100.000000</td>\n",
       "      <td>90.285714</td>\n",
       "    </tr>\n",
       "    <tr>\n",
       "      <th>Alex Avila</th>\n",
       "      <td>184</td>\n",
       "      <td>8</td>\n",
       "      <td>374.480</td>\n",
       "      <td>73.142857</td>\n",
       "      <td>56.727273</td>\n",
       "      <td>32.000000</td>\n",
       "    </tr>\n",
       "    <tr>\n",
       "      <th>Alice McCarthy</th>\n",
       "      <td>532</td>\n",
       "      <td>8</td>\n",
       "      <td>57.240</td>\n",
       "      <td>46.285714</td>\n",
       "      <td>56.727273</td>\n",
       "      <td>71.428571</td>\n",
       "    </tr>\n",
       "  </tbody>\n",
       "</table>\n",
       "</div>"
      ],
      "text/plain": [
       "                      recency  frequency  monetary  r_rank_norm  f_rank_norm  \\\n",
       "cust_name                                                                      \n",
       "Aimee Bixby                41         16   138.696    91.142857    16.727273   \n",
       "Alan Dominguez           1100          4   600.558    15.142857   100.000000   \n",
       "Alejandro Ballentine      552          4    13.616    44.571429   100.000000   \n",
       "Alex Avila                184          8   374.480    73.142857    56.727273   \n",
       "Alice McCarthy            532          8    57.240    46.285714    56.727273   \n",
       "\n",
       "                      m_rank_norm  \n",
       "cust_name                          \n",
       "Aimee Bixby             55.428571  \n",
       "Alan Dominguez          23.428571  \n",
       "Alejandro Ballentine    90.285714  \n",
       "Alex Avila              32.000000  \n",
       "Alice McCarthy          71.428571  "
      ]
     },
     "execution_count": 69,
     "metadata": {},
     "output_type": "execute_result"
    }
   ],
   "source": [
    "#rank the customers in each of the three categories (recency, frequency, monetary)\n",
    "central_customer_rating['r_rank'] = central_customer_rating['recency'].rank(ascending=False)\n",
    "central_customer_rating['f_rank'] = central_customer_rating['frequency'].rank(ascending=False)\n",
    "central_customer_rating['m_rank'] = central_customer_rating['monetary'].rank(ascending=False)\n",
    "#normalize the rankings for overall scoring\n",
    "central_customer_rating['r_rank_norm'] = (central_customer_rating['r_rank']/central_customer_rating['r_rank'].max())*100\n",
    "central_customer_rating['f_rank_norm'] = (central_customer_rating['f_rank']/central_customer_rating['f_rank'].max())*100\n",
    "central_customer_rating['m_rank_norm'] = (central_customer_rating['m_rank']/central_customer_rating['m_rank'].max())*100\n",
    "#drop the original rank columns used for calculations\n",
    "central_customer_rating.drop(columns=['r_rank', 'f_rank', 'm_rank'], inplace=True)\n",
    "\n",
    "central_customer_rating.head()\n"
   ]
  },
  {
   "cell_type": "code",
   "execution_count": 70,
   "id": "4ed350f5",
   "metadata": {},
   "outputs": [
    {
     "data": {
      "text/plain": [
       "(175, 6)"
      ]
     },
     "execution_count": 70,
     "metadata": {},
     "output_type": "execute_result"
    }
   ],
   "source": [
    "central_customer_rating.shape"
   ]
  },
  {
   "cell_type": "code",
   "execution_count": 79,
   "id": "32ab4113",
   "metadata": {},
   "outputs": [
    {
     "data": {
      "text/html": [
       "<div>\n",
       "<style scoped>\n",
       "    .dataframe tbody tr th:only-of-type {\n",
       "        vertical-align: middle;\n",
       "    }\n",
       "\n",
       "    .dataframe tbody tr th {\n",
       "        vertical-align: top;\n",
       "    }\n",
       "\n",
       "    .dataframe thead th {\n",
       "        text-align: right;\n",
       "    }\n",
       "</style>\n",
       "<table border=\"1\" class=\"dataframe\">\n",
       "  <thead>\n",
       "    <tr style=\"text-align: right;\">\n",
       "      <th></th>\n",
       "      <th>recency</th>\n",
       "      <th>frequency</th>\n",
       "      <th>monetary</th>\n",
       "      <th>r_rank_norm</th>\n",
       "      <th>f_rank_norm</th>\n",
       "      <th>m_rank_norm</th>\n",
       "      <th>rmf_score</th>\n",
       "      <th>rfm_score</th>\n",
       "    </tr>\n",
       "    <tr>\n",
       "      <th>cust_name</th>\n",
       "      <th></th>\n",
       "      <th></th>\n",
       "      <th></th>\n",
       "      <th></th>\n",
       "      <th></th>\n",
       "      <th></th>\n",
       "      <th></th>\n",
       "      <th></th>\n",
       "    </tr>\n",
       "  </thead>\n",
       "  <tbody>\n",
       "    <tr>\n",
       "      <th>Aimee Bixby</th>\n",
       "      <td>41</td>\n",
       "      <td>16</td>\n",
       "      <td>138.696</td>\n",
       "      <td>91.142857</td>\n",
       "      <td>16.727273</td>\n",
       "      <td>55.428571</td>\n",
       "      <td>49.949351</td>\n",
       "      <td>49.949351</td>\n",
       "    </tr>\n",
       "    <tr>\n",
       "      <th>Alan Dominguez</th>\n",
       "      <td>1100</td>\n",
       "      <td>4</td>\n",
       "      <td>600.558</td>\n",
       "      <td>15.142857</td>\n",
       "      <td>100.000000</td>\n",
       "      <td>23.428571</td>\n",
       "      <td>43.625714</td>\n",
       "      <td>43.625714</td>\n",
       "    </tr>\n",
       "    <tr>\n",
       "      <th>Alejandro Ballentine</th>\n",
       "      <td>552</td>\n",
       "      <td>4</td>\n",
       "      <td>13.616</td>\n",
       "      <td>44.571429</td>\n",
       "      <td>100.000000</td>\n",
       "      <td>90.285714</td>\n",
       "      <td>86.148571</td>\n",
       "      <td>86.148571</td>\n",
       "    </tr>\n",
       "    <tr>\n",
       "      <th>Alex Avila</th>\n",
       "      <td>184</td>\n",
       "      <td>8</td>\n",
       "      <td>374.480</td>\n",
       "      <td>73.142857</td>\n",
       "      <td>56.727273</td>\n",
       "      <td>32.000000</td>\n",
       "      <td>45.095065</td>\n",
       "      <td>45.095065</td>\n",
       "    </tr>\n",
       "    <tr>\n",
       "      <th>Alice McCarthy</th>\n",
       "      <td>532</td>\n",
       "      <td>8</td>\n",
       "      <td>57.240</td>\n",
       "      <td>46.285714</td>\n",
       "      <td>56.727273</td>\n",
       "      <td>71.428571</td>\n",
       "      <td>63.540779</td>\n",
       "      <td>63.540779</td>\n",
       "    </tr>\n",
       "  </tbody>\n",
       "</table>\n",
       "</div>"
      ],
      "text/plain": [
       "                      recency  frequency  monetary  r_rank_norm  f_rank_norm  \\\n",
       "cust_name                                                                      \n",
       "Aimee Bixby                41         16   138.696    91.142857    16.727273   \n",
       "Alan Dominguez           1100          4   600.558    15.142857   100.000000   \n",
       "Alejandro Ballentine      552          4    13.616    44.571429   100.000000   \n",
       "Alex Avila                184          8   374.480    73.142857    56.727273   \n",
       "Alice McCarthy            532          8    57.240    46.285714    56.727273   \n",
       "\n",
       "                      m_rank_norm  rmf_score  rfm_score  \n",
       "cust_name                                                \n",
       "Aimee Bixby             55.428571  49.949351  49.949351  \n",
       "Alan Dominguez          23.428571  43.625714  43.625714  \n",
       "Alejandro Ballentine    90.285714  86.148571  86.148571  \n",
       "Alex Avila              32.000000  45.095065  45.095065  \n",
       "Alice McCarthy          71.428571  63.540779  63.540779  "
      ]
     },
     "execution_count": 79,
     "metadata": {},
     "output_type": "execute_result"
    }
   ],
   "source": [
    "central_customer_rating['rfm_score'] = (0.15*central_customer_rating['r_rank_norm'])+(0.28*central_customer_rating['f_rank_norm'])+(0.57*central_customer_rating['m_rank_norm'])\n",
    "\n",
    "central_customer_rating.head()"
   ]
  },
  {
   "cell_type": "code",
   "execution_count": 80,
   "id": "858c0389",
   "metadata": {},
   "outputs": [
    {
     "data": {
      "text/html": [
       "<div>\n",
       "<style scoped>\n",
       "    .dataframe tbody tr th:only-of-type {\n",
       "        vertical-align: middle;\n",
       "    }\n",
       "\n",
       "    .dataframe tbody tr th {\n",
       "        vertical-align: top;\n",
       "    }\n",
       "\n",
       "    .dataframe thead th {\n",
       "        text-align: right;\n",
       "    }\n",
       "</style>\n",
       "<table border=\"1\" class=\"dataframe\">\n",
       "  <thead>\n",
       "    <tr style=\"text-align: right;\">\n",
       "      <th></th>\n",
       "      <th>recency</th>\n",
       "      <th>frequency</th>\n",
       "      <th>monetary</th>\n",
       "      <th>r_rank_norm</th>\n",
       "      <th>f_rank_norm</th>\n",
       "      <th>m_rank_norm</th>\n",
       "      <th>rmf_score</th>\n",
       "      <th>rfm_score</th>\n",
       "    </tr>\n",
       "    <tr>\n",
       "      <th>cust_name</th>\n",
       "      <th></th>\n",
       "      <th></th>\n",
       "      <th></th>\n",
       "      <th></th>\n",
       "      <th></th>\n",
       "      <th></th>\n",
       "      <th></th>\n",
       "      <th></th>\n",
       "    </tr>\n",
       "  </thead>\n",
       "  <tbody>\n",
       "    <tr>\n",
       "      <th>Aimee Bixby</th>\n",
       "      <td>41</td>\n",
       "      <td>16</td>\n",
       "      <td>138.696</td>\n",
       "      <td>91.142857</td>\n",
       "      <td>16.727273</td>\n",
       "      <td>55.428571</td>\n",
       "      <td>49.949351</td>\n",
       "      <td>2.497468</td>\n",
       "    </tr>\n",
       "    <tr>\n",
       "      <th>Alan Dominguez</th>\n",
       "      <td>1100</td>\n",
       "      <td>4</td>\n",
       "      <td>600.558</td>\n",
       "      <td>15.142857</td>\n",
       "      <td>100.000000</td>\n",
       "      <td>23.428571</td>\n",
       "      <td>43.625714</td>\n",
       "      <td>2.181286</td>\n",
       "    </tr>\n",
       "    <tr>\n",
       "      <th>Alejandro Ballentine</th>\n",
       "      <td>552</td>\n",
       "      <td>4</td>\n",
       "      <td>13.616</td>\n",
       "      <td>44.571429</td>\n",
       "      <td>100.000000</td>\n",
       "      <td>90.285714</td>\n",
       "      <td>86.148571</td>\n",
       "      <td>4.307429</td>\n",
       "    </tr>\n",
       "    <tr>\n",
       "      <th>Alex Avila</th>\n",
       "      <td>184</td>\n",
       "      <td>8</td>\n",
       "      <td>374.480</td>\n",
       "      <td>73.142857</td>\n",
       "      <td>56.727273</td>\n",
       "      <td>32.000000</td>\n",
       "      <td>45.095065</td>\n",
       "      <td>2.254753</td>\n",
       "    </tr>\n",
       "    <tr>\n",
       "      <th>Alice McCarthy</th>\n",
       "      <td>532</td>\n",
       "      <td>8</td>\n",
       "      <td>57.240</td>\n",
       "      <td>46.285714</td>\n",
       "      <td>56.727273</td>\n",
       "      <td>71.428571</td>\n",
       "      <td>63.540779</td>\n",
       "      <td>3.177039</td>\n",
       "    </tr>\n",
       "  </tbody>\n",
       "</table>\n",
       "</div>"
      ],
      "text/plain": [
       "                      recency  frequency  monetary  r_rank_norm  f_rank_norm  \\\n",
       "cust_name                                                                      \n",
       "Aimee Bixby                41         16   138.696    91.142857    16.727273   \n",
       "Alan Dominguez           1100          4   600.558    15.142857   100.000000   \n",
       "Alejandro Ballentine      552          4    13.616    44.571429   100.000000   \n",
       "Alex Avila                184          8   374.480    73.142857    56.727273   \n",
       "Alice McCarthy            532          8    57.240    46.285714    56.727273   \n",
       "\n",
       "                      m_rank_norm  rmf_score  rfm_score  \n",
       "cust_name                                                \n",
       "Aimee Bixby             55.428571  49.949351   2.497468  \n",
       "Alan Dominguez          23.428571  43.625714   2.181286  \n",
       "Alejandro Ballentine    90.285714  86.148571   4.307429  \n",
       "Alex Avila              32.000000  45.095065   2.254753  \n",
       "Alice McCarthy          71.428571  63.540779   3.177039  "
      ]
     },
     "execution_count": 80,
     "metadata": {},
     "output_type": "execute_result"
    }
   ],
   "source": [
    "central_customer_rating['rfm_score'] *= 0.05\n",
    "\n",
    "central_customer_rating.head()"
   ]
  },
  {
   "cell_type": "code",
   "execution_count": 83,
   "id": "801cca33",
   "metadata": {},
   "outputs": [],
   "source": [
    "central_customer_rating.rfm_score = central_customer_rating.rfm_score.round(2)"
   ]
  },
  {
   "cell_type": "code",
   "execution_count": 84,
   "id": "41e14659",
   "metadata": {},
   "outputs": [
    {
     "data": {
      "text/html": [
       "<div>\n",
       "<style scoped>\n",
       "    .dataframe tbody tr th:only-of-type {\n",
       "        vertical-align: middle;\n",
       "    }\n",
       "\n",
       "    .dataframe tbody tr th {\n",
       "        vertical-align: top;\n",
       "    }\n",
       "\n",
       "    .dataframe thead th {\n",
       "        text-align: right;\n",
       "    }\n",
       "</style>\n",
       "<table border=\"1\" class=\"dataframe\">\n",
       "  <thead>\n",
       "    <tr style=\"text-align: right;\">\n",
       "      <th></th>\n",
       "      <th>recency</th>\n",
       "      <th>frequency</th>\n",
       "      <th>monetary</th>\n",
       "      <th>r_rank_norm</th>\n",
       "      <th>f_rank_norm</th>\n",
       "      <th>m_rank_norm</th>\n",
       "      <th>rmf_score</th>\n",
       "      <th>rfm_score</th>\n",
       "    </tr>\n",
       "    <tr>\n",
       "      <th>cust_name</th>\n",
       "      <th></th>\n",
       "      <th></th>\n",
       "      <th></th>\n",
       "      <th></th>\n",
       "      <th></th>\n",
       "      <th></th>\n",
       "      <th></th>\n",
       "      <th></th>\n",
       "    </tr>\n",
       "  </thead>\n",
       "  <tbody>\n",
       "    <tr>\n",
       "      <th>Aimee Bixby</th>\n",
       "      <td>41</td>\n",
       "      <td>16</td>\n",
       "      <td>138.696</td>\n",
       "      <td>91.142857</td>\n",
       "      <td>16.727273</td>\n",
       "      <td>55.428571</td>\n",
       "      <td>49.949351</td>\n",
       "      <td>2.50</td>\n",
       "    </tr>\n",
       "    <tr>\n",
       "      <th>Alan Dominguez</th>\n",
       "      <td>1100</td>\n",
       "      <td>4</td>\n",
       "      <td>600.558</td>\n",
       "      <td>15.142857</td>\n",
       "      <td>100.000000</td>\n",
       "      <td>23.428571</td>\n",
       "      <td>43.625714</td>\n",
       "      <td>2.18</td>\n",
       "    </tr>\n",
       "    <tr>\n",
       "      <th>Alejandro Ballentine</th>\n",
       "      <td>552</td>\n",
       "      <td>4</td>\n",
       "      <td>13.616</td>\n",
       "      <td>44.571429</td>\n",
       "      <td>100.000000</td>\n",
       "      <td>90.285714</td>\n",
       "      <td>86.148571</td>\n",
       "      <td>4.31</td>\n",
       "    </tr>\n",
       "    <tr>\n",
       "      <th>Alex Avila</th>\n",
       "      <td>184</td>\n",
       "      <td>8</td>\n",
       "      <td>374.480</td>\n",
       "      <td>73.142857</td>\n",
       "      <td>56.727273</td>\n",
       "      <td>32.000000</td>\n",
       "      <td>45.095065</td>\n",
       "      <td>2.25</td>\n",
       "    </tr>\n",
       "    <tr>\n",
       "      <th>Alice McCarthy</th>\n",
       "      <td>532</td>\n",
       "      <td>8</td>\n",
       "      <td>57.240</td>\n",
       "      <td>46.285714</td>\n",
       "      <td>56.727273</td>\n",
       "      <td>71.428571</td>\n",
       "      <td>63.540779</td>\n",
       "      <td>3.18</td>\n",
       "    </tr>\n",
       "  </tbody>\n",
       "</table>\n",
       "</div>"
      ],
      "text/plain": [
       "                      recency  frequency  monetary  r_rank_norm  f_rank_norm  \\\n",
       "cust_name                                                                      \n",
       "Aimee Bixby                41         16   138.696    91.142857    16.727273   \n",
       "Alan Dominguez           1100          4   600.558    15.142857   100.000000   \n",
       "Alejandro Ballentine      552          4    13.616    44.571429   100.000000   \n",
       "Alex Avila                184          8   374.480    73.142857    56.727273   \n",
       "Alice McCarthy            532          8    57.240    46.285714    56.727273   \n",
       "\n",
       "                      m_rank_norm  rmf_score  rfm_score  \n",
       "cust_name                                                \n",
       "Aimee Bixby             55.428571  49.949351       2.50  \n",
       "Alan Dominguez          23.428571  43.625714       2.18  \n",
       "Alejandro Ballentine    90.285714  86.148571       4.31  \n",
       "Alex Avila              32.000000  45.095065       2.25  \n",
       "Alice McCarthy          71.428571  63.540779       3.18  "
      ]
     },
     "execution_count": 84,
     "metadata": {},
     "output_type": "execute_result"
    }
   ],
   "source": [
    "central_customer_rating.head()"
   ]
  },
  {
   "cell_type": "code",
   "execution_count": null,
   "id": "4e1adb5a",
   "metadata": {},
   "outputs": [],
   "source": []
  },
  {
   "cell_type": "code",
   "execution_count": 9,
   "id": "0f3a5300",
   "metadata": {},
   "outputs": [
    {
     "ename": "ValueError",
     "evalue": "Bin edges must be unique: array([ 4.,  4.,  8., 32.]).\nYou can drop duplicate edges by setting the 'duplicates' kwarg",
     "output_type": "error",
     "traceback": [
      "\u001b[0;31m---------------------------------------------------------------------------\u001b[0m",
      "\u001b[0;31mValueError\u001b[0m                                Traceback (most recent call last)",
      "\u001b[0;32m/var/folders/n7/fjb2f8gd5jg17xlxz1c85vhc0000gn/T/ipykernel_51963/1679302150.py\u001b[0m in \u001b[0;36m<module>\u001b[0;34m\u001b[0m\n\u001b[1;32m      1\u001b[0m \u001b[0mcentral_customer_rating\u001b[0m\u001b[0;34m[\u001b[0m\u001b[0;34m'recency_group'\u001b[0m\u001b[0;34m]\u001b[0m \u001b[0;34m=\u001b[0m \u001b[0mpd\u001b[0m\u001b[0;34m.\u001b[0m\u001b[0mqcut\u001b[0m\u001b[0;34m(\u001b[0m\u001b[0mcentral_customer_rating\u001b[0m\u001b[0;34m.\u001b[0m\u001b[0mrecency\u001b[0m\u001b[0;34m,\u001b[0m \u001b[0;36m3\u001b[0m\u001b[0;34m,\u001b[0m \u001b[0mlabels\u001b[0m\u001b[0;34m=\u001b[0m\u001b[0;34m[\u001b[0m\u001b[0;34m'high'\u001b[0m\u001b[0;34m,\u001b[0m \u001b[0;34m'moderate'\u001b[0m\u001b[0;34m,\u001b[0m \u001b[0;34m'low'\u001b[0m\u001b[0;34m]\u001b[0m\u001b[0;34m)\u001b[0m\u001b[0;34m\u001b[0m\u001b[0;34m\u001b[0m\u001b[0m\n\u001b[0;32m----> 2\u001b[0;31m \u001b[0mcentral_customer_rating\u001b[0m\u001b[0;34m[\u001b[0m\u001b[0;34m'frequency_group'\u001b[0m\u001b[0;34m]\u001b[0m \u001b[0;34m=\u001b[0m \u001b[0mpd\u001b[0m\u001b[0;34m.\u001b[0m\u001b[0mqcut\u001b[0m\u001b[0;34m(\u001b[0m\u001b[0mcentral_customer_rating\u001b[0m\u001b[0;34m.\u001b[0m\u001b[0mfrequency\u001b[0m\u001b[0;34m,\u001b[0m \u001b[0;36m3\u001b[0m\u001b[0;34m,\u001b[0m \u001b[0mlabels\u001b[0m\u001b[0;34m=\u001b[0m\u001b[0;34m[\u001b[0m\u001b[0;34m'low'\u001b[0m\u001b[0;34m,\u001b[0m \u001b[0;34m'moderate'\u001b[0m\u001b[0;34m,\u001b[0m \u001b[0;34m'high'\u001b[0m\u001b[0;34m]\u001b[0m\u001b[0;34m)\u001b[0m\u001b[0;34m\u001b[0m\u001b[0;34m\u001b[0m\u001b[0m\n\u001b[0m\u001b[1;32m      3\u001b[0m \u001b[0mcentral_customer_rating\u001b[0m\u001b[0;34m[\u001b[0m\u001b[0;34m'monetary_group'\u001b[0m\u001b[0;34m]\u001b[0m \u001b[0;34m=\u001b[0m \u001b[0mpd\u001b[0m\u001b[0;34m.\u001b[0m\u001b[0mqcut\u001b[0m\u001b[0;34m(\u001b[0m\u001b[0mcentral_customer_rating\u001b[0m\u001b[0;34m.\u001b[0m\u001b[0mmonetary\u001b[0m\u001b[0;34m,\u001b[0m \u001b[0;36m3\u001b[0m\u001b[0;34m,\u001b[0m \u001b[0mlabels\u001b[0m\u001b[0;34m=\u001b[0m\u001b[0;34m[\u001b[0m\u001b[0;34m'low'\u001b[0m\u001b[0;34m,\u001b[0m \u001b[0;34m'moderate'\u001b[0m\u001b[0;34m,\u001b[0m \u001b[0;34m'high'\u001b[0m\u001b[0;34m]\u001b[0m\u001b[0;34m)\u001b[0m\u001b[0;34m\u001b[0m\u001b[0;34m\u001b[0m\u001b[0m\n\u001b[1;32m      4\u001b[0m \u001b[0mcentral_customer_rating\u001b[0m\u001b[0;34m.\u001b[0m\u001b[0mhead\u001b[0m\u001b[0;34m(\u001b[0m\u001b[0;34m)\u001b[0m\u001b[0;34m\u001b[0m\u001b[0;34m\u001b[0m\u001b[0m\n",
      "\u001b[0;32m/opt/anaconda3/lib/python3.9/site-packages/pandas/core/reshape/tile.py\u001b[0m in \u001b[0;36mqcut\u001b[0;34m(x, q, labels, retbins, precision, duplicates)\u001b[0m\n\u001b[1;32m    370\u001b[0m         \u001b[0mquantiles\u001b[0m \u001b[0;34m=\u001b[0m \u001b[0mq\u001b[0m\u001b[0;34m\u001b[0m\u001b[0;34m\u001b[0m\u001b[0m\n\u001b[1;32m    371\u001b[0m     \u001b[0mbins\u001b[0m \u001b[0;34m=\u001b[0m \u001b[0malgos\u001b[0m\u001b[0;34m.\u001b[0m\u001b[0mquantile\u001b[0m\u001b[0;34m(\u001b[0m\u001b[0mx\u001b[0m\u001b[0;34m,\u001b[0m \u001b[0mquantiles\u001b[0m\u001b[0;34m)\u001b[0m\u001b[0;34m\u001b[0m\u001b[0;34m\u001b[0m\u001b[0m\n\u001b[0;32m--> 372\u001b[0;31m     fac, bins = _bins_to_cuts(\n\u001b[0m\u001b[1;32m    373\u001b[0m         \u001b[0mx\u001b[0m\u001b[0;34m,\u001b[0m\u001b[0;34m\u001b[0m\u001b[0;34m\u001b[0m\u001b[0m\n\u001b[1;32m    374\u001b[0m         \u001b[0mbins\u001b[0m\u001b[0;34m,\u001b[0m\u001b[0;34m\u001b[0m\u001b[0;34m\u001b[0m\u001b[0m\n",
      "\u001b[0;32m/opt/anaconda3/lib/python3.9/site-packages/pandas/core/reshape/tile.py\u001b[0m in \u001b[0;36m_bins_to_cuts\u001b[0;34m(x, bins, right, labels, precision, include_lowest, dtype, duplicates, ordered)\u001b[0m\n\u001b[1;32m    411\u001b[0m     \u001b[0;32mif\u001b[0m \u001b[0mlen\u001b[0m\u001b[0;34m(\u001b[0m\u001b[0munique_bins\u001b[0m\u001b[0;34m)\u001b[0m \u001b[0;34m<\u001b[0m \u001b[0mlen\u001b[0m\u001b[0;34m(\u001b[0m\u001b[0mbins\u001b[0m\u001b[0;34m)\u001b[0m \u001b[0;32mand\u001b[0m \u001b[0mlen\u001b[0m\u001b[0;34m(\u001b[0m\u001b[0mbins\u001b[0m\u001b[0;34m)\u001b[0m \u001b[0;34m!=\u001b[0m \u001b[0;36m2\u001b[0m\u001b[0;34m:\u001b[0m\u001b[0;34m\u001b[0m\u001b[0;34m\u001b[0m\u001b[0m\n\u001b[1;32m    412\u001b[0m         \u001b[0;32mif\u001b[0m \u001b[0mduplicates\u001b[0m \u001b[0;34m==\u001b[0m \u001b[0;34m\"raise\"\u001b[0m\u001b[0;34m:\u001b[0m\u001b[0;34m\u001b[0m\u001b[0;34m\u001b[0m\u001b[0m\n\u001b[0;32m--> 413\u001b[0;31m             raise ValueError(\n\u001b[0m\u001b[1;32m    414\u001b[0m                 \u001b[0;34mf\"Bin edges must be unique: {repr(bins)}.\\n\"\u001b[0m\u001b[0;34m\u001b[0m\u001b[0;34m\u001b[0m\u001b[0m\n\u001b[1;32m    415\u001b[0m                 \u001b[0;34mf\"You can drop duplicate edges by setting the 'duplicates' kwarg\"\u001b[0m\u001b[0;34m\u001b[0m\u001b[0;34m\u001b[0m\u001b[0m\n",
      "\u001b[0;31mValueError\u001b[0m: Bin edges must be unique: array([ 4.,  4.,  8., 32.]).\nYou can drop duplicate edges by setting the 'duplicates' kwarg"
     ]
    }
   ],
   "source": [
    "central_customer_rating['recency_group'] = pd.qcut(central_customer_rating.recency, 3, labels=['high', 'moderate', 'low'])\n",
    "central_customer_rating['frequency_group'] = pd.qcut(central_customer_rating.frequency, 3, labels=['low', 'moderate', 'high'])\n",
    "central_customer_rating['monetary_group'] = pd.qcut(central_customer_rating.monetary, 3, labels=['low', 'moderate', 'high'])\n",
    "central_customer_rating.head()\n"
   ]
  },
  {
   "cell_type": "code",
   "execution_count": null,
   "id": "58c9fce4",
   "metadata": {},
   "outputs": [],
   "source": []
  },
  {
   "cell_type": "code",
   "execution_count": null,
   "id": "0d011627",
   "metadata": {},
   "outputs": [],
   "source": [
    "central_customer_rating['customer_rank'] = np.where()"
   ]
  },
  {
   "cell_type": "markdown",
   "id": "f524b93b",
   "metadata": {},
   "source": [
    "---"
   ]
  },
  {
   "cell_type": "markdown",
   "id": "7b74289a",
   "metadata": {},
   "source": [
    "## RFM analysis code all together"
   ]
  },
  {
   "cell_type": "code",
   "execution_count": 2,
   "id": "6b11f9c6",
   "metadata": {},
   "outputs": [
    {
     "name": "stdout",
     "output_type": "stream",
     "text": [
      "Reading from CSV file...\n"
     ]
    },
    {
     "name": "stderr",
     "output_type": "stream",
     "text": [
      "/var/folders/n7/fjb2f8gd5jg17xlxz1c85vhc0000gn/T/ipykernel_52121/3671562180.py:10: SettingWithCopyWarning: \n",
      "A value is trying to be set on a copy of a slice from a DataFrame.\n",
      "Try using .loc[row_indexer,col_indexer] = value instead\n",
      "\n",
      "See the caveats in the documentation: https://pandas.pydata.org/pandas-docs/stable/user_guide/indexing.html#returning-a-view-versus-a-copy\n",
      "  central_cust_sales['last_purchase'] = central_cust_sales['cust_name'].apply(lambda x: central_cust_sales[central_cust_sales['cust_name'] == x].index.max())\n",
      "/var/folders/n7/fjb2f8gd5jg17xlxz1c85vhc0000gn/T/ipykernel_52121/3671562180.py:12: SettingWithCopyWarning: \n",
      "A value is trying to be set on a copy of a slice from a DataFrame.\n",
      "Try using .loc[row_indexer,col_indexer] = value instead\n",
      "\n",
      "See the caveats in the documentation: https://pandas.pydata.org/pandas-docs/stable/user_guide/indexing.html#returning-a-view-versus-a-copy\n",
      "  central_cust_sales['recency'] = central_cust_sales['last_purchase'].apply(lambda x: (today - x).days)\n",
      "/var/folders/n7/fjb2f8gd5jg17xlxz1c85vhc0000gn/T/ipykernel_52121/3671562180.py:13: SettingWithCopyWarning: \n",
      "A value is trying to be set on a copy of a slice from a DataFrame.\n",
      "Try using .loc[row_indexer,col_indexer] = value instead\n",
      "\n",
      "See the caveats in the documentation: https://pandas.pydata.org/pandas-docs/stable/user_guide/indexing.html#returning-a-view-versus-a-copy\n",
      "  central_cust_sales['frequency'] = central_cust_sales['cust_name'].apply(lambda x: central_cust_sales[central_cust_sales['cust_name'] == x].size)\n",
      "/var/folders/n7/fjb2f8gd5jg17xlxz1c85vhc0000gn/T/ipykernel_52121/3671562180.py:14: SettingWithCopyWarning: \n",
      "A value is trying to be set on a copy of a slice from a DataFrame.\n",
      "Try using .loc[row_indexer,col_indexer] = value instead\n",
      "\n",
      "See the caveats in the documentation: https://pandas.pydata.org/pandas-docs/stable/user_guide/indexing.html#returning-a-view-versus-a-copy\n",
      "  central_cust_sales['monetary'] = central_cust_sales['cust_name'].apply(lambda x: central_cust_sales[central_cust_sales['cust_name'] == x].sales.sum())\n"
     ]
    },
    {
     "data": {
      "text/html": [
       "<div>\n",
       "<style scoped>\n",
       "    .dataframe tbody tr th:only-of-type {\n",
       "        vertical-align: middle;\n",
       "    }\n",
       "\n",
       "    .dataframe tbody tr th {\n",
       "        vertical-align: top;\n",
       "    }\n",
       "\n",
       "    .dataframe thead th {\n",
       "        text-align: right;\n",
       "    }\n",
       "</style>\n",
       "<table border=\"1\" class=\"dataframe\">\n",
       "  <thead>\n",
       "    <tr style=\"text-align: right;\">\n",
       "      <th></th>\n",
       "      <th>recency</th>\n",
       "      <th>frequency</th>\n",
       "      <th>monetary</th>\n",
       "    </tr>\n",
       "    <tr>\n",
       "      <th>cust_name</th>\n",
       "      <th></th>\n",
       "      <th></th>\n",
       "      <th></th>\n",
       "    </tr>\n",
       "  </thead>\n",
       "  <tbody>\n",
       "    <tr>\n",
       "      <th>Aimee Bixby</th>\n",
       "      <td>41</td>\n",
       "      <td>16</td>\n",
       "      <td>138.696</td>\n",
       "    </tr>\n",
       "    <tr>\n",
       "      <th>Alan Dominguez</th>\n",
       "      <td>1100</td>\n",
       "      <td>4</td>\n",
       "      <td>600.558</td>\n",
       "    </tr>\n",
       "    <tr>\n",
       "      <th>Alejandro Ballentine</th>\n",
       "      <td>552</td>\n",
       "      <td>4</td>\n",
       "      <td>13.616</td>\n",
       "    </tr>\n",
       "    <tr>\n",
       "      <th>Alex Avila</th>\n",
       "      <td>184</td>\n",
       "      <td>8</td>\n",
       "      <td>374.480</td>\n",
       "    </tr>\n",
       "    <tr>\n",
       "      <th>Alice McCarthy</th>\n",
       "      <td>532</td>\n",
       "      <td>8</td>\n",
       "      <td>57.240</td>\n",
       "    </tr>\n",
       "  </tbody>\n",
       "</table>\n",
       "</div>"
      ],
      "text/plain": [
       "                      recency  frequency  monetary\n",
       "cust_name                                         \n",
       "Aimee Bixby                41         16   138.696\n",
       "Alan Dominguez           1100          4   600.558\n",
       "Alejandro Ballentine      552          4    13.616\n",
       "Alex Avila                184          8   374.480\n",
       "Alice McCarthy            532          8    57.240"
      ]
     },
     "execution_count": 2,
     "metadata": {},
     "output_type": "execute_result"
    }
   ],
   "source": [
    "df = get_superstore_df()\n",
    "df = clean_superstore_df(df)\n",
    "\n",
    "east = df[df.region == 'East']\n",
    "west = df[df.region == 'West']\n",
    "central = df[df.region == 'Central']\n",
    "south = df[df.region == 'South']\n",
    "\n",
    "central_cust_sales = central[['cust_name', 'sales']]\n",
    "central_cust_sales['last_purchase'] = central_cust_sales['cust_name'].apply(lambda x: central_cust_sales[central_cust_sales['cust_name'] == x].index.max())\n",
    "today = pd.to_datetime('2017-12-30') \n",
    "central_cust_sales['recency'] = central_cust_sales['last_purchase'].apply(lambda x: (today - x).days)\n",
    "central_cust_sales['frequency'] = central_cust_sales['cust_name'].apply(lambda x: central_cust_sales[central_cust_sales['cust_name'] == x].size)\n",
    "central_cust_sales['monetary'] = central_cust_sales['cust_name'].apply(lambda x: central_cust_sales[central_cust_sales['cust_name'] == x].sales.sum())\n",
    "central_customer_rating = central_cust_sales.drop(columns=['sales', 'last_purchase'])\n",
    "central_customer_rating = central_customer_rating.groupby('cust_name').max()\n",
    "central_customer_rating.head()\n",
    "\n"
   ]
  },
  {
   "cell_type": "code",
   "execution_count": 3,
   "id": "ced1cfaa",
   "metadata": {},
   "outputs": [
    {
     "data": {
      "text/html": [
       "<div>\n",
       "<style scoped>\n",
       "    .dataframe tbody tr th:only-of-type {\n",
       "        vertical-align: middle;\n",
       "    }\n",
       "\n",
       "    .dataframe tbody tr th {\n",
       "        vertical-align: top;\n",
       "    }\n",
       "\n",
       "    .dataframe thead th {\n",
       "        text-align: right;\n",
       "    }\n",
       "</style>\n",
       "<table border=\"1\" class=\"dataframe\">\n",
       "  <thead>\n",
       "    <tr style=\"text-align: right;\">\n",
       "      <th></th>\n",
       "      <th>recency</th>\n",
       "      <th>frequency</th>\n",
       "      <th>monetary</th>\n",
       "      <th>r_rank_norm</th>\n",
       "      <th>f_rank_norm</th>\n",
       "      <th>m_rank_norm</th>\n",
       "      <th>rfm_score</th>\n",
       "    </tr>\n",
       "    <tr>\n",
       "      <th>cust_name</th>\n",
       "      <th></th>\n",
       "      <th></th>\n",
       "      <th></th>\n",
       "      <th></th>\n",
       "      <th></th>\n",
       "      <th></th>\n",
       "      <th></th>\n",
       "    </tr>\n",
       "  </thead>\n",
       "  <tbody>\n",
       "    <tr>\n",
       "      <th>Aimee Bixby</th>\n",
       "      <td>41</td>\n",
       "      <td>16</td>\n",
       "      <td>138.696</td>\n",
       "      <td>91.142857</td>\n",
       "      <td>87.679083</td>\n",
       "      <td>45.142857</td>\n",
       "      <td>3.20</td>\n",
       "    </tr>\n",
       "    <tr>\n",
       "      <th>Alan Dominguez</th>\n",
       "      <td>1100</td>\n",
       "      <td>4</td>\n",
       "      <td>600.558</td>\n",
       "      <td>15.142857</td>\n",
       "      <td>22.063037</td>\n",
       "      <td>77.142857</td>\n",
       "      <td>2.62</td>\n",
       "    </tr>\n",
       "    <tr>\n",
       "      <th>Alejandro Ballentine</th>\n",
       "      <td>552</td>\n",
       "      <td>4</td>\n",
       "      <td>13.616</td>\n",
       "      <td>44.571429</td>\n",
       "      <td>22.063037</td>\n",
       "      <td>10.285714</td>\n",
       "      <td>0.94</td>\n",
       "    </tr>\n",
       "    <tr>\n",
       "      <th>Alex Avila</th>\n",
       "      <td>184</td>\n",
       "      <td>8</td>\n",
       "      <td>374.480</td>\n",
       "      <td>73.142857</td>\n",
       "      <td>56.160458</td>\n",
       "      <td>68.571429</td>\n",
       "      <td>3.29</td>\n",
       "    </tr>\n",
       "    <tr>\n",
       "      <th>Alice McCarthy</th>\n",
       "      <td>532</td>\n",
       "      <td>8</td>\n",
       "      <td>57.240</td>\n",
       "      <td>46.285714</td>\n",
       "      <td>56.160458</td>\n",
       "      <td>29.142857</td>\n",
       "      <td>1.96</td>\n",
       "    </tr>\n",
       "  </tbody>\n",
       "</table>\n",
       "</div>"
      ],
      "text/plain": [
       "                      recency  frequency  monetary  r_rank_norm  f_rank_norm  \\\n",
       "cust_name                                                                      \n",
       "Aimee Bixby                41         16   138.696    91.142857    87.679083   \n",
       "Alan Dominguez           1100          4   600.558    15.142857    22.063037   \n",
       "Alejandro Ballentine      552          4    13.616    44.571429    22.063037   \n",
       "Alex Avila                184          8   374.480    73.142857    56.160458   \n",
       "Alice McCarthy            532          8    57.240    46.285714    56.160458   \n",
       "\n",
       "                      m_rank_norm  rfm_score  \n",
       "cust_name                                     \n",
       "Aimee Bixby             45.142857       3.20  \n",
       "Alan Dominguez          77.142857       2.62  \n",
       "Alejandro Ballentine    10.285714       0.94  \n",
       "Alex Avila              68.571429       3.29  \n",
       "Alice McCarthy          29.142857       1.96  "
      ]
     },
     "execution_count": 3,
     "metadata": {},
     "output_type": "execute_result"
    }
   ],
   "source": [
    "#rank the customers in each of the three categories (recency, frequency, monetary)\n",
    "central_customer_rating['r_rank'] = central_customer_rating['recency'].rank(ascending=False)\n",
    "central_customer_rating['f_rank'] = central_customer_rating['frequency'].rank(ascending=True)\n",
    "central_customer_rating['m_rank'] = central_customer_rating['monetary'].rank(ascending=True)\n",
    "#normalize the rankings for overall scoring\n",
    "central_customer_rating['r_rank_norm'] = (central_customer_rating['r_rank']/central_customer_rating['r_rank'].max())*100\n",
    "central_customer_rating['f_rank_norm'] = (central_customer_rating['f_rank']/central_customer_rating['f_rank'].max())*100\n",
    "central_customer_rating['m_rank_norm'] = (central_customer_rating['m_rank']/central_customer_rating['m_rank'].max())*100\n",
    "#drop the original rank columns used for calculations\n",
    "central_customer_rating.drop(columns=['r_rank', 'f_rank', 'm_rank'], inplace=True)\n",
    "\n",
    "central_customer_rating['rfm_score'] = (0.15*central_customer_rating['r_rank_norm'])+(0.28*central_customer_rating['f_rank_norm'])+(0.57*central_customer_rating['m_rank_norm'])\n",
    "central_customer_rating['rfm_score'] *= 0.05\n",
    "central_customer_rating.rfm_score = central_customer_rating.rfm_score.round(2)\n",
    "central_customer_rating.head()\n",
    "\n",
    "\n"
   ]
  },
  {
   "cell_type": "code",
   "execution_count": null,
   "id": "b6bc0524",
   "metadata": {},
   "outputs": [],
   "source": []
  }
 ],
 "metadata": {
  "kernelspec": {
   "display_name": "Python 3 (ipykernel)",
   "language": "python",
   "name": "python3"
  },
  "language_info": {
   "codemirror_mode": {
    "name": "ipython",
    "version": 3
   },
   "file_extension": ".py",
   "mimetype": "text/x-python",
   "name": "python",
   "nbconvert_exporter": "python",
   "pygments_lexer": "ipython3",
   "version": "3.9.7"
  }
 },
 "nbformat": 4,
 "nbformat_minor": 5
}
